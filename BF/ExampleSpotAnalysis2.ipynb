{
 "cells": [
  {
   "cell_type": "code",
   "execution_count": 1,
   "id": "a4567d52-795d-44f1-9ce2-31a3c2cc09d6",
   "metadata": {},
   "outputs": [
    {
     "name": "stdout",
     "output_type": "stream",
     "text": [
      "eups                  LOCAL:/cvmfs/sw.lsst.eu/linux-x86_64/lsst_distrib/w_2022_14/conda/envs/lsst-scipipe-3.0.0-ext/eups \tsetup\n",
      "lsst_distrib          g4eaec17cb9+23bdaa02ee \tw_latest w_2022_14 current setup\n"
     ]
    }
   ],
   "source": [
    "! eups list -s | grep lsst_distrib"
   ]
  },
  {
   "cell_type": "code",
   "execution_count": 2,
   "id": "5110369e-1ce8-4978-a241-3c41f4840090",
   "metadata": {
    "tags": []
   },
   "outputs": [
    {
     "name": "stderr",
     "output_type": "stream",
     "text": [
      "\n",
      "WARNING: version mismatch between CFITSIO header (v4.000999999999999) and linked library (v4.01).\n",
      "\n",
      "\n",
      "WARNING: version mismatch between CFITSIO header (v4.000999999999999) and linked library (v4.01).\n",
      "\n",
      "\n",
      "WARNING: version mismatch between CFITSIO header (v4.000999999999999) and linked library (v4.01).\n",
      "\n"
     ]
    }
   ],
   "source": [
    "import os\n",
    "import numpy as np\n",
    "import glob\n",
    "from astropy.io import fits\n",
    "import pickle as pkl\n",
    "import matplotlib.pyplot as plt\n",
    "from lsst.daf.butler import Butler\n",
    "import lsst.afw.display as afwDisplay\n",
    "import lsst.afw.image as afwImage\n",
    "from lsst.obs.lsst import LsstCam\n",
    "from lsst.afw.cameraGeom.utils import findAmp\n",
    "from lsst.geom import Point2I\n",
    "from astropy.table import Table, vstack, join\n",
    "from scipy import stats\n",
    "from scipy.optimize import curve_fit\n",
    "import logging\n",
    "\n",
    "\n",
    "logging.basicConfig()\n",
    "logger = logging.getLogger()\n",
    "logger.setLevel(logging.CRITICAL)"
   ]
  },
  {
   "cell_type": "code",
   "execution_count": 3,
   "id": "8188a54b-3b28-44a8-b365-4ce3437e686b",
   "metadata": {},
   "outputs": [],
   "source": [
    "import sys\n",
    "sys.path.append('/sdf/home/a/abrought/bin')\n",
    "from SpotAnalysis import Analyzer"
   ]
  },
  {
   "cell_type": "code",
   "execution_count": 4,
   "id": "d05bd6f3-505f-4061-9a52-a361fc54dd64",
   "metadata": {},
   "outputs": [
    {
     "name": "stdout",
     "output_type": "stream",
     "text": [
      "lsst.afw.image.MaskedImageFitsReader WARN: Variance unreadable (cfitsio error (/sdf/group/lsst/camera/IandT/repo_gen3/BOT_data/u/abrought/BF/run_13248/R03_S12/corrected/20220602T213512Z/postISRCCD/20211229/MC_C_20211229_000120/postISRCCD_LSSTCam_unknown_MC_C_20211229_000120_R03_S12_u_abrought_BF_run_13248_R03_S12_corrected_20220602T213512Z.fits): error uncompressing image (414) : Reading image\n",
      "cfitsio error stack:\n",
      "  ffgcnn could not find column: ZSCALE\n",
      "  ffgcnn could not find column: ZZERO\n",
      "  ffgcnn could not find column: ZSCALE\n",
      "  ffgcnn could not find column: ZZERO\n",
      "  ffgcnn could not find column: ZSCALE\n",
      "  ffgcnn could not find column: ZZERO\n",
      "  ffgcnn could not find column: ZSCALE\n",
      "  ffgcnn could not find column: ZZERO\n",
      "  ffgcnn could not find column: ZSCALE\n",
      "  ffgcnn could not find column: ZZERO\n",
      "  ffgcnn could not find column: ZSCALE\n",
      "  ffgcnn could not find column: ZZERO\n",
      "  ffgcnn could not find column: ZSCALE\n",
      "  ffgcnn could not find column: ZZERO\n",
      "  ffgcnn could not find column: ZSCALE\n",
      "  ffgcnn could not find column: ZZERO\n",
      "  ffgcnn could not find column: \n",
      "Unexpected exception formatting exception. Falling back to standard exception\n"
     ]
    },
    {
     "name": "stderr",
     "output_type": "stream",
     "text": [
      "Traceback (most recent call last):\n",
      "  File \"/cvmfs/sw.lsst.eu/linux-x86_64/lsst_distrib/w_2022_14/conda/envs/lsst-scipipe-3.0.0-ext/share/eups/Linux64/daf_butler/g8243fdef33+f83c363f3e/python/lsst/daf/butler/datastores/fileDatastore.py\", line 1335, in _read_artifact_into_memory\n",
      "    result = formatter.read(component=getInfo.component if isComponent else None)\n",
      "  File \"/cvmfs/sw.lsst.eu/linux-x86_64/lsst_distrib/w_2022_14/conda/envs/lsst-scipipe-3.0.0-ext/share/eups/Linux64/obs_base/g7a69c27ea0+bead29cdf2/python/lsst/obs/base/formatters/fitsExposure.py\", line 102, in read\n",
      "    return self.readFull()\n",
      "  File \"/cvmfs/sw.lsst.eu/linux-x86_64/lsst_distrib/w_2022_14/conda/envs/lsst-scipipe-3.0.0-ext/share/eups/Linux64/obs_lsst/g4ae5eded10+e0263ab341/python/lsst/obs/lsst/rawFormatter.py\", line 193, in readFull\n",
      "    ampExps = readRawAmps(rawFile, detector)\n",
      "  File \"/cvmfs/sw.lsst.eu/linux-x86_64/lsst_distrib/w_2022_14/conda/envs/lsst-scipipe-3.0.0-ext/share/eups/Linux64/obs_lsst/g4ae5eded10+e0263ab341/python/lsst/obs/lsst/assembly.py\", line 302, in readRawAmps\n",
      "    exp = afwImage.makeExposure(afwImage.makeMaskedImage(reader.read(dtype=np.dtype(np.int32),\n",
      "MemoryError: std::bad_alloc\n",
      "\n",
      "The above exception was the direct cause of the following exception:\n",
      "\n",
      "Traceback (most recent call last):\n",
      "  File \"/cvmfs/sw.lsst.eu/linux-x86_64/lsst_distrib/w_2022_14/conda/envs/lsst-scipipe-3.0.0-ext/lib/python3.8/site-packages/IPython/core/interactiveshell.py\", line 3369, in run_code\n",
      "    exec(code_obj, self.user_global_ns, self.user_ns)\n",
      "  File \"/tmp/ipykernel_104427/725237752.py\", line 8, in <cell line: 8>\n",
      "    table_high = analyzer_high.getData()\n",
      "  File \"/sdf/home/a/abrought/run5/BF/SpotAnalysis.py\", line 80, in getData\n",
      "    raw = subbutler.get(\"raw\",dataId=aref.dataId)\n",
      "  File \"/cvmfs/sw.lsst.eu/linux-x86_64/lsst_distrib/w_2022_14/conda/envs/lsst-scipipe-3.0.0-ext/share/eups/Linux64/daf_butler/g8243fdef33+f83c363f3e/python/lsst/daf/butler/_butler.py\", line 1333, in get\n",
      "    return self.getDirect(ref, parameters=parameters)\n",
      "  File \"/cvmfs/sw.lsst.eu/linux-x86_64/lsst_distrib/w_2022_14/conda/envs/lsst-scipipe-3.0.0-ext/share/eups/Linux64/daf_butler/g8243fdef33+f83c363f3e/python/lsst/daf/butler/_butler.py\", line 1191, in getDirect\n",
      "    return self.datastore.get(ref, parameters=parameters)\n",
      "  File \"/cvmfs/sw.lsst.eu/linux-x86_64/lsst_distrib/w_2022_14/conda/envs/lsst-scipipe-3.0.0-ext/share/eups/Linux64/daf_butler/g8243fdef33+f83c363f3e/python/lsst/daf/butler/datastores/fileDatastore.py\", line 2043, in get\n",
      "    return self._read_artifact_into_memory(getInfo, ref, isComponent=isComponent, cache_ref=cache_ref)\n",
      "  File \"/cvmfs/sw.lsst.eu/linux-x86_64/lsst_distrib/w_2022_14/conda/envs/lsst-scipipe-3.0.0-ext/share/eups/Linux64/daf_butler/g8243fdef33+f83c363f3e/python/lsst/daf/butler/datastores/fileDatastore.py\", line 1337, in _read_artifact_into_memory\n",
      "    raise ValueError(\n",
      "ValueError: Failure from formatter 'lsst.obs.lsst.rawFormatter.LsstCamRawFormatter' for dataset 1bfff074-1697-5bc7-b08d-b6542dcf1aea (raw from file:///sdf/group/lsst/camera/IandT/rawData/focal-plane/20211229/MC_C_20211229_000303/MC_C_20211229_000303_R03_S12.fits): std::bad_alloc\n",
      "\n",
      "During handling of the above exception, another exception occurred:\n",
      "\n",
      "Traceback (most recent call last):\n",
      "  File \"/cvmfs/sw.lsst.eu/linux-x86_64/lsst_distrib/w_2022_14/conda/envs/lsst-scipipe-3.0.0-ext/lib/python3.8/site-packages/executing/executing.py\", line 317, in executing\n",
      "    args = executing_cache[key]\n",
      "KeyError: (<code object get at 0x7f51d9dba9d0, file \"/cvmfs/sw.lsst.eu/linux-x86_64/lsst_distrib/w_2022_14/conda/envs/lsst-scipipe-3.0.0-ext/share/eups/Linux64/daf_butler/g8243fdef33+f83c363f3e/python/lsst/daf/butler/datastores/fileDatastore.py\", line 1834>, 139989524130256, 654)\n",
      "\n",
      "During handling of the above exception, another exception occurred:\n",
      "\n",
      "Traceback (most recent call last):\n",
      "  File \"/cvmfs/sw.lsst.eu/linux-x86_64/lsst_distrib/w_2022_14/conda/envs/lsst-scipipe-3.0.0-ext/lib/python3.8/site-packages/IPython/core/interactiveshell.py\", line 1982, in showtraceback\n",
      "    stb = self.InteractiveTB.structured_traceback(\n",
      "  File \"/cvmfs/sw.lsst.eu/linux-x86_64/lsst_distrib/w_2022_14/conda/envs/lsst-scipipe-3.0.0-ext/lib/python3.8/site-packages/IPython/core/ultratb.py\", line 1118, in structured_traceback\n",
      "    return FormattedTB.structured_traceback(\n",
      "  File \"/cvmfs/sw.lsst.eu/linux-x86_64/lsst_distrib/w_2022_14/conda/envs/lsst-scipipe-3.0.0-ext/lib/python3.8/site-packages/IPython/core/ultratb.py\", line 1012, in structured_traceback\n",
      "    return VerboseTB.structured_traceback(\n",
      "  File \"/cvmfs/sw.lsst.eu/linux-x86_64/lsst_distrib/w_2022_14/conda/envs/lsst-scipipe-3.0.0-ext/lib/python3.8/site-packages/IPython/core/ultratb.py\", line 865, in structured_traceback\n",
      "    formatted_exception = self.format_exception_as_a_whole(etype, evalue, etb, number_of_lines_of_context,\n",
      "  File \"/cvmfs/sw.lsst.eu/linux-x86_64/lsst_distrib/w_2022_14/conda/envs/lsst-scipipe-3.0.0-ext/lib/python3.8/site-packages/IPython/core/ultratb.py\", line 799, in format_exception_as_a_whole\n",
      "    self.get_records(etb, number_of_lines_of_context, tb_offset) if etb else []\n",
      "  File \"/cvmfs/sw.lsst.eu/linux-x86_64/lsst_distrib/w_2022_14/conda/envs/lsst-scipipe-3.0.0-ext/lib/python3.8/site-packages/IPython/core/ultratb.py\", line 854, in get_records\n",
      "    return list(stack_data.FrameInfo.stack_data(etb, options=options))[tb_offset:]\n",
      "  File \"/cvmfs/sw.lsst.eu/linux-x86_64/lsst_distrib/w_2022_14/conda/envs/lsst-scipipe-3.0.0-ext/lib/python3.8/site-packages/stack_data/core.py\", line 565, in stack_data\n",
      "    yield from collapse_repeated(\n",
      "  File \"/cvmfs/sw.lsst.eu/linux-x86_64/lsst_distrib/w_2022_14/conda/envs/lsst-scipipe-3.0.0-ext/lib/python3.8/site-packages/stack_data/utils.py\", line 84, in collapse_repeated\n",
      "    yield from map(mapper, original_group)\n",
      "  File \"/cvmfs/sw.lsst.eu/linux-x86_64/lsst_distrib/w_2022_14/conda/envs/lsst-scipipe-3.0.0-ext/lib/python3.8/site-packages/stack_data/core.py\", line 555, in mapper\n",
      "    return cls(f, options)\n",
      "  File \"/cvmfs/sw.lsst.eu/linux-x86_64/lsst_distrib/w_2022_14/conda/envs/lsst-scipipe-3.0.0-ext/lib/python3.8/site-packages/stack_data/core.py\", line 520, in __init__\n",
      "    self.executing = Source.executing(frame_or_tb)\n",
      "  File \"/cvmfs/sw.lsst.eu/linux-x86_64/lsst_distrib/w_2022_14/conda/envs/lsst-scipipe-3.0.0-ext/lib/python3.8/site-packages/executing/executing.py\", line 369, in executing\n",
      "    args = find(source=cls.for_frame(frame), retry_cache=True)\n",
      "  File \"/cvmfs/sw.lsst.eu/linux-x86_64/lsst_distrib/w_2022_14/conda/envs/lsst-scipipe-3.0.0-ext/lib/python3.8/site-packages/executing/executing.py\", line 252, in for_frame\n",
      "    return cls.for_filename(frame.f_code.co_filename, frame.f_globals or {}, use_cache)\n",
      "  File \"/cvmfs/sw.lsst.eu/linux-x86_64/lsst_distrib/w_2022_14/conda/envs/lsst-scipipe-3.0.0-ext/lib/python3.8/site-packages/executing/executing.py\", line 270, in for_filename\n",
      "    result = source_cache[filename] = cls._for_filename_and_lines(filename, lines)\n",
      "  File \"/cvmfs/sw.lsst.eu/linux-x86_64/lsst_distrib/w_2022_14/conda/envs/lsst-scipipe-3.0.0-ext/lib/python3.8/site-packages/executing/executing.py\", line 281, in _for_filename_and_lines\n",
      "    result = source_cache[(filename, lines)] = cls(filename, lines)\n",
      "  File \"/cvmfs/sw.lsst.eu/linux-x86_64/lsst_distrib/w_2022_14/conda/envs/lsst-scipipe-3.0.0-ext/lib/python3.8/site-packages/stack_data/core.py\", line 79, in __init__\n",
      "    super(Source, self).__init__(*args, **kwargs)\n",
      "  File \"/cvmfs/sw.lsst.eu/linux-x86_64/lsst_distrib/w_2022_14/conda/envs/lsst-scipipe-3.0.0-ext/lib/python3.8/site-packages/executing/executing.py\", line 241, in __init__\n",
      "    self._nodes_by_line[lineno].append(node)\n",
      "MemoryError\n"
     ]
    }
   ],
   "source": [
    "analyzer_high = Analyzer(repo='/sdf/group/lsst/camera/IandT/repo_gen3/BOT_data/butler.yaml',\n",
    "                    collection='u/abrought/BF/run_13248/R03_S12/corrected')\n",
    "\n",
    "analyzer_high.fluxCutThreshold = 0.95\n",
    "analyzer_high.onlyConvergedGridFits = True\n",
    "#analyzer_high.ellipticityRangeCut = (-1.0, 1.0)\n",
    "\n",
    "table_high = analyzer_high.getData()\n",
    "filename_high = analyzer_high.saveData(suffix=\"_680nm_corrected\")"
   ]
  },
  {
   "cell_type": "code",
   "execution_count": null,
   "id": "065b9a06-d809-4166-a2d0-2774fe925c22",
   "metadata": {},
   "outputs": [],
   "source": [
    "analyzer_high = Analyzer(repo='/sdf/group/lsst/camera/IandT/repo_gen3/BOT_data/butler.yaml',\n",
    "                    collection='u/abrought/BF/run_13238/R21_S02/corrected')\n",
    "\n",
    "analyzer_high.fluxCutThreshold = 0.95\n",
    "analyzer_high.onlyConvergedGridFits = True\n",
    "#analyzer_high.ellipticityRangeCut = (-1.0, 1.0)\n",
    "\n",
    "table_high = analyzer_high.getData()\n",
    "filename_high = analyzer_high.saveData(suffix=\"_450nm_corrected_low\")"
   ]
  },
  {
   "cell_type": "code",
   "execution_count": null,
   "id": "ef7fd7ab-d5b0-4a29-9f83-e078042ac2ce",
   "metadata": {},
   "outputs": [],
   "source": []
  }
 ],
 "metadata": {
  "kernelspec": {
   "display_name": "Python [conda env:lsst-scipipe-3.0.0-ext] *",
   "language": "python",
   "name": "conda-env-lsst-scipipe-3.0.0-ext-py"
  },
  "language_info": {
   "codemirror_mode": {
    "name": "ipython",
    "version": 3
   },
   "file_extension": ".py",
   "mimetype": "text/x-python",
   "name": "python",
   "nbconvert_exporter": "python",
   "pygments_lexer": "ipython3",
   "version": "3.8.13"
  }
 },
 "nbformat": 4,
 "nbformat_minor": 5
}
