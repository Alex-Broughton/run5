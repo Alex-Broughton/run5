{
 "cells": [
  {
   "cell_type": "code",
   "execution_count": 1,
   "id": "1a4b2700-20a2-4021-b9c6-1d76d043cc81",
   "metadata": {},
   "outputs": [],
   "source": [
    "import sys\n",
    "sys.path.append('/sdf/home/a/abrought/bin')\n",
    "from SpotAnalysis import Analyzer"
   ]
  },
  {
   "cell_type": "code",
   "execution_count": 2,
   "id": "c26759df-a3d0-47fa-9308-07f68fd496a3",
   "metadata": {},
   "outputs": [],
   "source": [
    "analyzer = Analyzer(repo='/sdf/group/lsst/camera/IandT/repo_gen3/BOT_data/butler.yaml',\n",
    "                    collection='u/abrought/BF/run_13230/R02_S00/corrected_linearized')\n",
    "\n",
    "analyzer.fluxCutThreshold = 0.95\n",
    "analyzer.onlyConvergedGridFits = True\n",
    "analyzer.ellipticityRangeCut = (0.0, 0.7)"
   ]
  },
  {
   "cell_type": "code",
   "execution_count": 3,
   "id": "b7a2a3d8-5832-4e53-884c-b094d7394745",
   "metadata": {},
   "outputs": [
    {
     "ename": "KeyboardInterrupt",
     "evalue": "",
     "output_type": "error",
     "traceback": [
      "\u001b[0;31m---------------------------------------------------------------------------\u001b[0m",
      "\u001b[0;31mKeyboardInterrupt\u001b[0m                         Traceback (most recent call last)",
      "Input \u001b[0;32mIn [3]\u001b[0m, in \u001b[0;36m<module>\u001b[0;34m\u001b[0m\n\u001b[0;32m----> 1\u001b[0m table \u001b[38;5;241m=\u001b[39m \u001b[43manalyzer\u001b[49m\u001b[38;5;241;43m.\u001b[39;49m\u001b[43mgetData\u001b[49m\u001b[43m(\u001b[49m\u001b[43m)\u001b[49m\n",
      "File \u001b[0;32m~/bin/SpotAnalysis.py:95\u001b[0m, in \u001b[0;36mAnalyzer.getData\u001b[0;34m(self)\u001b[0m\n\u001b[1;32m     91\u001b[0m     \u001b[38;5;28;01mif\u001b[39;00m exptime \u001b[38;5;241m>\u001b[39m \u001b[38;5;28mself\u001b[39m\u001b[38;5;241m.\u001b[39mmaxExpTime: \n\u001b[1;32m     92\u001b[0m         \u001b[38;5;28;01mcontinue\u001b[39;00m\n\u001b[0;32m---> 95\u001b[0m src \u001b[38;5;241m=\u001b[39m \u001b[43msubbutler\u001b[49m\u001b[38;5;241;43m.\u001b[39;49m\u001b[43mget\u001b[49m\u001b[43m(\u001b[49m\u001b[38;5;124;43m\"\u001b[39;49m\u001b[38;5;124;43mgridSpotSrc\u001b[39;49m\u001b[38;5;124;43m\"\u001b[39;49m\u001b[43m,\u001b[49m\u001b[43mdataId\u001b[49m\u001b[38;5;241;43m=\u001b[39;49m\u001b[43maref\u001b[49m\u001b[38;5;241;43m.\u001b[39;49m\u001b[43mdataId\u001b[49m\u001b[43m)\u001b[49m\n\u001b[1;32m     96\u001b[0m mdsrc \u001b[38;5;241m=\u001b[39m src\u001b[38;5;241m.\u001b[39mgetMetadata()\n\u001b[1;32m     97\u001b[0m x0 \u001b[38;5;241m=\u001b[39m mdsrc[\u001b[38;5;124m'\u001b[39m\u001b[38;5;124mGRID_X0\u001b[39m\u001b[38;5;124m'\u001b[39m]\n",
      "File \u001b[0;32m/cvmfs/sw.lsst.eu/linux-x86_64/lsst_distrib/w_2022_10/conda/envs/lsst-scipipe-2.0.0-ext/share/eups/Linux64/daf_butler/gfea7036203+c272d82c7c/python/lsst/daf/butler/_butler.py:1336\u001b[0m, in \u001b[0;36mButler.get\u001b[0;34m(self, datasetRefOrType, dataId, parameters, collections, **kwargs)\u001b[0m\n\u001b[1;32m   1334\u001b[0m log\u001b[38;5;241m.\u001b[39mdebug(\u001b[38;5;124m\"\u001b[39m\u001b[38;5;124mButler get: \u001b[39m\u001b[38;5;132;01m%s\u001b[39;00m\u001b[38;5;124m, dataId=\u001b[39m\u001b[38;5;132;01m%s\u001b[39;00m\u001b[38;5;124m, parameters=\u001b[39m\u001b[38;5;132;01m%s\u001b[39;00m\u001b[38;5;124m\"\u001b[39m, datasetRefOrType, dataId, parameters)\n\u001b[1;32m   1335\u001b[0m ref \u001b[38;5;241m=\u001b[39m \u001b[38;5;28mself\u001b[39m\u001b[38;5;241m.\u001b[39m_findDatasetRef(datasetRefOrType, dataId, collections\u001b[38;5;241m=\u001b[39mcollections, \u001b[38;5;241m*\u001b[39m\u001b[38;5;241m*\u001b[39mkwargs)\n\u001b[0;32m-> 1336\u001b[0m \u001b[38;5;28;01mreturn\u001b[39;00m \u001b[38;5;28;43mself\u001b[39;49m\u001b[38;5;241;43m.\u001b[39;49m\u001b[43mgetDirect\u001b[49m\u001b[43m(\u001b[49m\u001b[43mref\u001b[49m\u001b[43m,\u001b[49m\u001b[43m \u001b[49m\u001b[43mparameters\u001b[49m\u001b[38;5;241;43m=\u001b[39;49m\u001b[43mparameters\u001b[49m\u001b[43m)\u001b[49m\n",
      "File \u001b[0;32m/cvmfs/sw.lsst.eu/linux-x86_64/lsst_distrib/w_2022_10/conda/envs/lsst-scipipe-2.0.0-ext/share/eups/Linux64/daf_butler/gfea7036203+c272d82c7c/python/lsst/daf/butler/_butler.py:1194\u001b[0m, in \u001b[0;36mButler.getDirect\u001b[0;34m(self, ref, parameters)\u001b[0m\n\u001b[1;32m   1174\u001b[0m \u001b[38;5;28;01mdef\u001b[39;00m \u001b[38;5;21mgetDirect\u001b[39m(\u001b[38;5;28mself\u001b[39m, ref: DatasetRef, \u001b[38;5;241m*\u001b[39m, parameters: Optional[Dict[\u001b[38;5;28mstr\u001b[39m, Any]] \u001b[38;5;241m=\u001b[39m \u001b[38;5;28;01mNone\u001b[39;00m) \u001b[38;5;241m-\u001b[39m\u001b[38;5;241m>\u001b[39m Any:\n\u001b[1;32m   1175\u001b[0m     \u001b[38;5;124;03m\"\"\"Retrieve a stored dataset.\u001b[39;00m\n\u001b[1;32m   1176\u001b[0m \n\u001b[1;32m   1177\u001b[0m \u001b[38;5;124;03m    Unlike `Butler.get`, this method allows datasets outside the Butler's\u001b[39;00m\n\u001b[0;32m   (...)\u001b[0m\n\u001b[1;32m   1192\u001b[0m \u001b[38;5;124;03m        The dataset.\u001b[39;00m\n\u001b[1;32m   1193\u001b[0m \u001b[38;5;124;03m    \"\"\"\u001b[39;00m\n\u001b[0;32m-> 1194\u001b[0m     \u001b[38;5;28;01mreturn\u001b[39;00m \u001b[38;5;28;43mself\u001b[39;49m\u001b[38;5;241;43m.\u001b[39;49m\u001b[43mdatastore\u001b[49m\u001b[38;5;241;43m.\u001b[39;49m\u001b[43mget\u001b[49m\u001b[43m(\u001b[49m\u001b[43mref\u001b[49m\u001b[43m,\u001b[49m\u001b[43m \u001b[49m\u001b[43mparameters\u001b[49m\u001b[38;5;241;43m=\u001b[39;49m\u001b[43mparameters\u001b[49m\u001b[43m)\u001b[49m\n",
      "File \u001b[0;32m/cvmfs/sw.lsst.eu/linux-x86_64/lsst_distrib/w_2022_10/conda/envs/lsst-scipipe-2.0.0-ext/share/eups/Linux64/daf_butler/gfea7036203+c272d82c7c/python/lsst/daf/butler/datastores/fileDatastore.py:2037\u001b[0m, in \u001b[0;36mFileDatastore.get\u001b[0;34m(self, ref, parameters)\u001b[0m\n\u001b[1;32m   2030\u001b[0m \u001b[38;5;28;01melse\u001b[39;00m:\n\u001b[1;32m   2031\u001b[0m     \u001b[38;5;66;03m# For an assembled composite this could be a derived\u001b[39;00m\n\u001b[1;32m   2032\u001b[0m     \u001b[38;5;66;03m# component derived from a real component. The validity\u001b[39;00m\n\u001b[1;32m   2033\u001b[0m     \u001b[38;5;66;03m# of the parameters is not clear. For now validate against\u001b[39;00m\n\u001b[1;32m   2034\u001b[0m     \u001b[38;5;66;03m# the composite storage class\u001b[39;00m\n\u001b[1;32m   2035\u001b[0m     getInfo\u001b[38;5;241m.\u001b[39mformatter\u001b[38;5;241m.\u001b[39mfileDescriptor\u001b[38;5;241m.\u001b[39mstorageClass\u001b[38;5;241m.\u001b[39mvalidateParameters(parameters)\n\u001b[0;32m-> 2037\u001b[0m \u001b[38;5;28;01mreturn\u001b[39;00m \u001b[38;5;28;43mself\u001b[39;49m\u001b[38;5;241;43m.\u001b[39;49m\u001b[43m_read_artifact_into_memory\u001b[49m\u001b[43m(\u001b[49m\u001b[43mgetInfo\u001b[49m\u001b[43m,\u001b[49m\u001b[43m \u001b[49m\u001b[43mref\u001b[49m\u001b[43m,\u001b[49m\u001b[43m \u001b[49m\u001b[43misComponent\u001b[49m\u001b[38;5;241;43m=\u001b[39;49m\u001b[43misComponent\u001b[49m\u001b[43m,\u001b[49m\u001b[43m \u001b[49m\u001b[43mcache_ref\u001b[49m\u001b[38;5;241;43m=\u001b[39;49m\u001b[43mcache_ref\u001b[49m\u001b[43m)\u001b[49m\n",
      "File \u001b[0;32m/cvmfs/sw.lsst.eu/linux-x86_64/lsst_distrib/w_2022_10/conda/envs/lsst-scipipe-2.0.0-ext/share/eups/Linux64/daf_butler/gfea7036203+c272d82c7c/python/lsst/daf/butler/datastores/fileDatastore.py:1329\u001b[0m, in \u001b[0;36mFileDatastore._read_artifact_into_memory\u001b[0;34m(self, getInfo, ref, isComponent, cache_ref)\u001b[0m\n\u001b[1;32m   1318\u001b[0m     \u001b[38;5;28;01mwith\u001b[39;00m formatter\u001b[38;5;241m.\u001b[39m_updateLocation(newLocation):\n\u001b[1;32m   1319\u001b[0m         \u001b[38;5;28;01mwith\u001b[39;00m time_this(\n\u001b[1;32m   1320\u001b[0m             log,\n\u001b[1;32m   1321\u001b[0m             msg\u001b[38;5;241m=\u001b[39m\u001b[38;5;124m\"\u001b[39m\u001b[38;5;124mReading\u001b[39m\u001b[38;5;132;01m%s\u001b[39;00m\u001b[38;5;124m from location \u001b[39m\u001b[38;5;132;01m%s\u001b[39;00m\u001b[38;5;124m \u001b[39m\u001b[38;5;132;01m%s\u001b[39;00m\u001b[38;5;124m with formatter \u001b[39m\u001b[38;5;132;01m%s\u001b[39;00m\u001b[38;5;124m\"\u001b[39m,\n\u001b[0;32m   (...)\u001b[0m\n\u001b[1;32m   1327\u001b[0m             ),\n\u001b[1;32m   1328\u001b[0m         ):\n\u001b[0;32m-> 1329\u001b[0m             result \u001b[38;5;241m=\u001b[39m \u001b[43mformatter\u001b[49m\u001b[38;5;241;43m.\u001b[39;49m\u001b[43mread\u001b[49m\u001b[43m(\u001b[49m\u001b[43mcomponent\u001b[49m\u001b[38;5;241;43m=\u001b[39;49m\u001b[43mgetInfo\u001b[49m\u001b[38;5;241;43m.\u001b[39;49m\u001b[43mcomponent\u001b[49m\u001b[43m \u001b[49m\u001b[38;5;28;43;01mif\u001b[39;49;00m\u001b[43m \u001b[49m\u001b[43misComponent\u001b[49m\u001b[43m \u001b[49m\u001b[38;5;28;43;01melse\u001b[39;49;00m\u001b[43m \u001b[49m\u001b[38;5;28;43;01mNone\u001b[39;49;00m\u001b[43m)\u001b[49m\n\u001b[1;32m   1330\u001b[0m \u001b[38;5;28;01mexcept\u001b[39;00m \u001b[38;5;167;01mException\u001b[39;00m \u001b[38;5;28;01mas\u001b[39;00m e:\n\u001b[1;32m   1331\u001b[0m     \u001b[38;5;28;01mraise\u001b[39;00m \u001b[38;5;167;01mValueError\u001b[39;00m(\n\u001b[1;32m   1332\u001b[0m         \u001b[38;5;124mf\u001b[39m\u001b[38;5;124m\"\u001b[39m\u001b[38;5;124mFailure from formatter \u001b[39m\u001b[38;5;124m'\u001b[39m\u001b[38;5;132;01m{\u001b[39;00mformatter\u001b[38;5;241m.\u001b[39mname()\u001b[38;5;132;01m}\u001b[39;00m\u001b[38;5;124m'\u001b[39m\u001b[38;5;124m for dataset \u001b[39m\u001b[38;5;132;01m{\u001b[39;00mref\u001b[38;5;241m.\u001b[39mid\u001b[38;5;132;01m}\u001b[39;00m\u001b[38;5;124m\"\u001b[39m\n\u001b[1;32m   1333\u001b[0m         \u001b[38;5;124mf\u001b[39m\u001b[38;5;124m\"\u001b[39m\u001b[38;5;124m (\u001b[39m\u001b[38;5;132;01m{\u001b[39;00mref\u001b[38;5;241m.\u001b[39mdatasetType\u001b[38;5;241m.\u001b[39mname\u001b[38;5;132;01m}\u001b[39;00m\u001b[38;5;124m from \u001b[39m\u001b[38;5;132;01m{\u001b[39;00muri\u001b[38;5;132;01m}\u001b[39;00m\u001b[38;5;124m): \u001b[39m\u001b[38;5;132;01m{\u001b[39;00me\u001b[38;5;132;01m}\u001b[39;00m\u001b[38;5;124m\"\u001b[39m\n\u001b[1;32m   1334\u001b[0m     ) \u001b[38;5;28;01mfrom\u001b[39;00m \u001b[38;5;21;01me\u001b[39;00m\n",
      "File \u001b[0;32m/cvmfs/sw.lsst.eu/linux-x86_64/lsst_distrib/w_2022_10/conda/envs/lsst-scipipe-2.0.0-ext/share/eups/Linux64/daf_butler/gfea7036203+c272d82c7c/python/lsst/daf/butler/formatters/file.py:185\u001b[0m, in \u001b[0;36mFileFormatter.read\u001b[0;34m(self, component)\u001b[0m\n\u001b[1;32m    183\u001b[0m \u001b[38;5;66;03m# Read the file naively\u001b[39;00m\n\u001b[1;32m    184\u001b[0m path \u001b[38;5;241m=\u001b[39m \u001b[38;5;28mself\u001b[39m\u001b[38;5;241m.\u001b[39mfileDescriptor\u001b[38;5;241m.\u001b[39mlocation\u001b[38;5;241m.\u001b[39mpath\n\u001b[0;32m--> 185\u001b[0m data \u001b[38;5;241m=\u001b[39m \u001b[38;5;28;43mself\u001b[39;49m\u001b[38;5;241;43m.\u001b[39;49m\u001b[43m_readFile\u001b[49m\u001b[43m(\u001b[49m\u001b[43mpath\u001b[49m\u001b[43m,\u001b[49m\u001b[43m \u001b[49m\u001b[38;5;28;43mself\u001b[39;49m\u001b[38;5;241;43m.\u001b[39;49m\u001b[43mfileDescriptor\u001b[49m\u001b[38;5;241;43m.\u001b[39;49m\u001b[43mstorageClass\u001b[49m\u001b[38;5;241;43m.\u001b[39;49m\u001b[43mpytype\u001b[49m\u001b[43m)\u001b[49m\n\u001b[1;32m    187\u001b[0m \u001b[38;5;66;03m# Assemble the requested dataset and potentially return only its\u001b[39;00m\n\u001b[1;32m    188\u001b[0m \u001b[38;5;66;03m# component coercing it to its appropriate pytype\u001b[39;00m\n\u001b[1;32m    189\u001b[0m data \u001b[38;5;241m=\u001b[39m \u001b[38;5;28mself\u001b[39m\u001b[38;5;241m.\u001b[39m_assembleDataset(data, component)\n",
      "File \u001b[0;32m/cvmfs/sw.lsst.eu/linux-x86_64/lsst_distrib/w_2022_10/conda/envs/lsst-scipipe-2.0.0-ext/share/eups/Linux64/obs_base/geff6ec3125+d22c7905a5/python/lsst/obs/base/formatters/fitsGeneric.py:61\u001b[0m, in \u001b[0;36mFitsGenericFormatter._readFile\u001b[0;34m(self, path, pytype)\u001b[0m\n\u001b[1;32m     58\u001b[0m     \u001b[38;5;28;01mexcept\u001b[39;00m \u001b[38;5;167;01mAttributeError\u001b[39;00m:\n\u001b[1;32m     59\u001b[0m         \u001b[38;5;28;01mpass\u001b[39;00m\n\u001b[0;32m---> 61\u001b[0m \u001b[38;5;28;01mreturn\u001b[39;00m \u001b[43mpytype\u001b[49m\u001b[38;5;241;43m.\u001b[39;49m\u001b[43mreadFits\u001b[49m\u001b[43m(\u001b[49m\u001b[43mpath\u001b[49m\u001b[43m)\u001b[49m\n",
      "\u001b[0;31mKeyboardInterrupt\u001b[0m: "
     ]
    }
   ],
   "source": [
    "table = analyzer.getData()"
   ]
  },
  {
   "cell_type": "code",
   "execution_count": null,
   "id": "99cee20f-0706-4281-a56b-969468e5fd67",
   "metadata": {},
   "outputs": [],
   "source": []
  }
 ],
 "metadata": {
  "kernelspec": {
   "display_name": "Python 3 (ipykernel)",
   "language": "python",
   "name": "python3"
  },
  "language_info": {
   "codemirror_mode": {
    "name": "ipython",
    "version": 3
   },
   "file_extension": ".py",
   "mimetype": "text/x-python",
   "name": "python",
   "nbconvert_exporter": "python",
   "pygments_lexer": "ipython3",
   "version": "3.8.12"
  }
 },
 "nbformat": 4,
 "nbformat_minor": 5
}
