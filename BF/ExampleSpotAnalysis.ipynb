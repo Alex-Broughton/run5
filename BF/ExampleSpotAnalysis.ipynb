{
 "cells": [
  {
   "cell_type": "code",
   "execution_count": null,
   "id": "a4567d52-795d-44f1-9ce2-31a3c2cc09d6",
   "metadata": {},
   "outputs": [],
   "source": [
    "! eups list -s | grep lsst_distrib"
   ]
  },
  {
   "cell_type": "code",
   "execution_count": null,
   "id": "5110369e-1ce8-4978-a241-3c41f4840090",
   "metadata": {
    "tags": []
   },
   "outputs": [],
   "source": [
    "import os\n",
    "import numpy as np\n",
    "import glob\n",
    "from astropy.io import fits\n",
    "import pickle as pkl\n",
    "import matplotlib.pyplot as plt\n",
    "from lsst.daf.butler import Butler\n",
    "import lsst.afw.display as afwDisplay\n",
    "import lsst.afw.image as afwImage\n",
    "from lsst.obs.lsst import LsstCam\n",
    "from lsst.afw.cameraGeom.utils import findAmp\n",
    "from lsst.geom import Point2I\n",
    "from astropy.table import Table, vstack, join\n",
    "from scipy import stats\n",
    "from scipy.optimize import curve_fit\n",
    "import logging\n",
    "\n",
    "\n",
    "logging.basicConfig()\n",
    "logger = logging.getLogger()\n",
    "logger.setLevel(logging.CRITICAL)"
   ]
  },
  {
   "cell_type": "code",
   "execution_count": null,
   "id": "8188a54b-3b28-44a8-b365-4ce3437e686b",
   "metadata": {},
   "outputs": [],
   "source": [
    "import sys\n",
    "sys.path.append('/sdf/home/a/abrought/bin')\n",
    "from SpotAnalysis import Analyzer"
   ]
  },
  {
   "cell_type": "code",
   "execution_count": null,
   "id": "d05bd6f3-505f-4061-9a52-a361fc54dd64",
   "metadata": {},
   "outputs": [],
   "source": [
    "%debug\n",
    "analyzer_high = Analyzer(repo='/sdf/group/lsst/camera/IandT/repo_gen3/BOT_data/butler.yaml',\n",
    "                    collection='u/abrought/BF/run_13249/R03_S12/uncorrected')\n",
    "\n",
    "analyzer_high.fluxCutThreshold = .95\n",
    "analyzer_high.onlyConvergedGridFits = True\n",
    "#analyzer_high.ellipticityRangeCut = (-1.0, 1.0)\n",
    "\n",
    "table_high = analyzer_high.getData()\n",
    "filename_high = analyzer_high.saveData(suffix=\"_ellipse_680nm_uncorrected\")"
   ]
  },
  {
   "cell_type": "code",
   "execution_count": null,
   "id": "065b9a06-d809-4166-a2d0-2774fe925c22",
   "metadata": {},
   "outputs": [],
   "source": [
    "analyzer_high = Analyzer(repo='/sdf/group/lsst/camera/IandT/repo_gen3/BOT_data/butler.yaml',\n",
    "                    collection='u/abrought/BF/run_13249/R03_S12/uncorrected')\n",
    "\n",
    "analyzer_high.fluxCutThreshold = 0.95\n",
    "analyzer_high.onlyConvergedGridFits = True\n",
    "#analyzer_high.ellipticityRangeCut = (-1.0, 1.0)\n",
    "\n",
    "table_high = analyzer_high.getData()\n",
    "filename_high = analyzer_high.saveData(suffix=\"_ellipse_680nm_corrected\")"
   ]
  },
  {
   "cell_type": "code",
   "execution_count": null,
   "id": "ef7fd7ab-d5b0-4a29-9f83-e078042ac2ce",
   "metadata": {},
   "outputs": [],
   "source": []
  },
  {
   "cell_type": "code",
   "execution_count": null,
   "id": "8bd2c737-b73a-46ee-ad78-8a579228e0a2",
   "metadata": {},
   "outputs": [],
   "source": []
  }
 ],
 "metadata": {
  "kernelspec": {
   "display_name": "lsst_distrib@w_2022_01",
   "language": "python",
   "name": "lsst_distrib@w_2022_01"
  },
  "language_info": {
   "codemirror_mode": {
    "name": "ipython",
    "version": 3
   },
   "file_extension": ".py",
   "mimetype": "text/x-python",
   "name": "python",
   "nbconvert_exporter": "python",
   "pygments_lexer": "ipython3",
   "version": "3.8.8"
  }
 },
 "nbformat": 4,
 "nbformat_minor": 5
}
