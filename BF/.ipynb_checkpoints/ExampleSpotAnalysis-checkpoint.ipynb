{
 "cells": [
  {
   "cell_type": "code",
   "execution_count": 1,
   "id": "a4567d52-795d-44f1-9ce2-31a3c2cc09d6",
   "metadata": {},
   "outputs": [
    {
     "name": "stdout",
     "output_type": "stream",
     "text": [
      "eups                  LOCAL:/cvmfs/sw.lsst.eu/linux-x86_64/lsst_distrib/w_2022_14/conda/envs/lsst-scipipe-3.0.0-ext/eups \tsetup\n",
      "lsst_distrib          g4eaec17cb9+23bdaa02ee \tw_latest w_2022_14 current setup\n"
     ]
    }
   ],
   "source": [
    "! eups list -s | grep lsst_distrib"
   ]
  },
  {
   "cell_type": "code",
   "execution_count": 2,
   "id": "5110369e-1ce8-4978-a241-3c41f4840090",
   "metadata": {
    "tags": []
   },
   "outputs": [
    {
     "name": "stderr",
     "output_type": "stream",
     "text": [
      "\n",
      "WARNING: version mismatch between CFITSIO header (v4.000999999999999) and linked library (v4.01).\n",
      "\n",
      "\n",
      "WARNING: version mismatch between CFITSIO header (v4.000999999999999) and linked library (v4.01).\n",
      "\n",
      "\n",
      "WARNING: version mismatch between CFITSIO header (v4.000999999999999) and linked library (v4.01).\n",
      "\n"
     ]
    }
   ],
   "source": [
    "import os\n",
    "import numpy as np\n",
    "import glob\n",
    "from astropy.io import fits\n",
    "import pickle as pkl\n",
    "import matplotlib.pyplot as plt\n",
    "from lsst.daf.butler import Butler\n",
    "import lsst.afw.display as afwDisplay\n",
    "import lsst.afw.image as afwImage\n",
    "from lsst.obs.lsst import LsstCam\n",
    "from lsst.afw.cameraGeom.utils import findAmp\n",
    "from lsst.geom import Point2I\n",
    "from astropy.table import Table, vstack, join\n",
    "from scipy import stats\n",
    "from scipy.optimize import curve_fit\n",
    "import logging\n",
    "\n",
    "\n",
    "logging.basicConfig()\n",
    "logger = logging.getLogger()\n",
    "logger.setLevel(logging.CRITICAL)"
   ]
  },
  {
   "cell_type": "code",
   "execution_count": 3,
   "id": "8188a54b-3b28-44a8-b365-4ce3437e686b",
   "metadata": {},
   "outputs": [],
   "source": [
    "import sys\n",
    "sys.path.append('/sdf/home/a/abrought/bin')\n",
    "from SpotAnalysis import Analyzer"
   ]
  },
  {
   "cell_type": "code",
   "execution_count": 4,
   "id": "d05bd6f3-505f-4061-9a52-a361fc54dd64",
   "metadata": {},
   "outputs": [
    {
     "ename": "NotFoundError",
     "evalue": "\n  File \"include/lsst/afw/table/detail/SchemaImpl.h\", line 93, in decltype(auto) lsst::afw::table::detail::SchemaImpl::findAndApply(const string&, F&&) const [with F = lsst::afw::table::{anonymous}::MakePythonSchemaItem&; std::string = std::__cxx11::basic_string<char>]\n    Field with name 'spotgrid_x' not found {0}\nlsst::pex::exceptions::NotFoundError: 'Field with name 'spotgrid_x' not found'\n",
     "output_type": "error",
     "traceback": [
      "\u001b[0;31m---------------------------------------------------------------------------\u001b[0m",
      "\u001b[0;31mNotFoundError\u001b[0m                             Traceback (most recent call last)",
      "Input \u001b[0;32mIn [4]\u001b[0m, in \u001b[0;36m<cell line: 8>\u001b[0;34m()\u001b[0m\n\u001b[1;32m      5\u001b[0m analyzer_high\u001b[38;5;241m.\u001b[39monlyConvergedGridFits \u001b[38;5;241m=\u001b[39m \u001b[38;5;28;01mTrue\u001b[39;00m\n\u001b[1;32m      6\u001b[0m analyzer_high\u001b[38;5;241m.\u001b[39mellipticityRangeCut \u001b[38;5;241m=\u001b[39m (\u001b[38;5;241m-\u001b[39m\u001b[38;5;241m1.0\u001b[39m, \u001b[38;5;241m1.0\u001b[39m)\n\u001b[0;32m----> 8\u001b[0m table_high \u001b[38;5;241m=\u001b[39m \u001b[43manalyzer_high\u001b[49m\u001b[38;5;241;43m.\u001b[39;49m\u001b[43mgetData\u001b[49m\u001b[43m(\u001b[49m\u001b[43m)\u001b[49m\n\u001b[1;32m      9\u001b[0m filename_high \u001b[38;5;241m=\u001b[39m analyzer_high\u001b[38;5;241m.\u001b[39msaveData(suffix\u001b[38;5;241m=\u001b[39m\u001b[38;5;124m\"\u001b[39m\u001b[38;5;124m_ellipse_corrected\u001b[39m\u001b[38;5;124m\"\u001b[39m)\n",
      "File \u001b[0;32m~/bin/SpotAnalysis.py:201\u001b[0m, in \u001b[0;36mAnalyzer.getData\u001b[0;34m(self)\u001b[0m\n\u001b[1;32m    187\u001b[0m     indxs \u001b[38;5;241m=\u001b[39m np\u001b[38;5;241m.\u001b[39margsort(src[\u001b[38;5;124m'\u001b[39m\u001b[38;5;124mid\u001b[39m\u001b[38;5;124m'\u001b[39m])\n\u001b[1;32m    189\u001b[0m     \u001b[38;5;66;03m# Create table\u001b[39;00m\n\u001b[1;32m    190\u001b[0m     tab\u001b[38;5;241m.\u001b[39mappend(\n\u001b[1;32m    191\u001b[0m         {\n\u001b[1;32m    192\u001b[0m             \u001b[38;5;124m\"\u001b[39m\u001b[38;5;124mindex\u001b[39m\u001b[38;5;124m\"\u001b[39m: i, \n\u001b[1;32m    193\u001b[0m             \u001b[38;5;124m\"\u001b[39m\u001b[38;5;124mexptime\u001b[39m\u001b[38;5;124m\"\u001b[39m: exptime,\n\u001b[1;32m    194\u001b[0m             \u001b[38;5;124m\"\u001b[39m\u001b[38;5;124mSEQNUM\u001b[39m\u001b[38;5;124m\"\u001b[39m: seqnum,\n\u001b[1;32m    195\u001b[0m             \u001b[38;5;124m\"\u001b[39m\u001b[38;5;124mTSEQNUM\u001b[39m\u001b[38;5;124m\"\u001b[39m: tseqnum,\n\u001b[1;32m    196\u001b[0m             \u001b[38;5;124m\"\u001b[39m\u001b[38;5;124mMJD\u001b[39m\u001b[38;5;124m\"\u001b[39m: time,\n\u001b[1;32m    197\u001b[0m             \u001b[38;5;124m\"\u001b[39m\u001b[38;5;124mnumspots\u001b[39m\u001b[38;5;124m\"\u001b[39m : \u001b[38;5;28mlen\u001b[39m(src),\n\u001b[1;32m    198\u001b[0m             \u001b[38;5;124m\"\u001b[39m\u001b[38;5;124mspot_indices\u001b[39m\u001b[38;5;124m\"\u001b[39m: src[\u001b[38;5;124m'\u001b[39m\u001b[38;5;124mid\u001b[39m\u001b[38;5;124m'\u001b[39m][indxs],\n\u001b[1;32m    199\u001b[0m             \u001b[38;5;124m\"\u001b[39m\u001b[38;5;124mamps\u001b[39m\u001b[38;5;124m\"\u001b[39m: np\u001b[38;5;241m.\u001b[39masarray(amps)[indxs],\n\u001b[1;32m    200\u001b[0m             \u001b[38;5;124m\"\u001b[39m\u001b[38;5;124mchannels\u001b[39m\u001b[38;5;124m\"\u001b[39m: np\u001b[38;5;241m.\u001b[39masarray(channels)[indxs],\n\u001b[0;32m--> 201\u001b[0m             \u001b[38;5;124m\"\u001b[39m\u001b[38;5;124mspotgrid_x\u001b[39m\u001b[38;5;124m\"\u001b[39m: \u001b[43msrc\u001b[49m\u001b[43m[\u001b[49m\u001b[38;5;124;43m'\u001b[39;49m\u001b[38;5;124;43mspotgrid_x\u001b[39;49m\u001b[38;5;124;43m'\u001b[39;49m\u001b[43m]\u001b[49m[indxs],\n\u001b[1;32m    202\u001b[0m             \u001b[38;5;124m\"\u001b[39m\u001b[38;5;124mspotgrid_y\u001b[39m\u001b[38;5;124m\"\u001b[39m: src[\u001b[38;5;124m'\u001b[39m\u001b[38;5;124mspotgrid_y\u001b[39m\u001b[38;5;124m'\u001b[39m][indxs],\n\u001b[1;32m    203\u001b[0m             \u001b[38;5;124m\"\u001b[39m\u001b[38;5;124mpeakSignal\u001b[39m\u001b[38;5;124m\"\u001b[39m: peakSignal[indxs],\n\u001b[1;32m    204\u001b[0m             \u001b[38;5;124m\"\u001b[39m\u001b[38;5;124ma\u001b[39m\u001b[38;5;124m\"\u001b[39m: a,\n\u001b[1;32m    205\u001b[0m             \u001b[38;5;124m\"\u001b[39m\u001b[38;5;124mb\u001b[39m\u001b[38;5;124m\"\u001b[39m: b,\n\u001b[1;32m    206\u001b[0m             \u001b[38;5;124m\"\u001b[39m\u001b[38;5;124mtheta\u001b[39m\u001b[38;5;124m\"\u001b[39m: theta,\n\u001b[1;32m    207\u001b[0m             \u001b[38;5;124m\"\u001b[39m\u001b[38;5;124mbase_SdssCentroid_x\u001b[39m\u001b[38;5;124m\"\u001b[39m: src[\u001b[38;5;124m'\u001b[39m\u001b[38;5;124mbase_SdssCentroid_x\u001b[39m\u001b[38;5;124m'\u001b[39m][indxs],\n\u001b[1;32m    208\u001b[0m             \u001b[38;5;124m\"\u001b[39m\u001b[38;5;124mbase_SdssCentroid_y\u001b[39m\u001b[38;5;124m\"\u001b[39m: src[\u001b[38;5;124m'\u001b[39m\u001b[38;5;124mbase_SdssCentroid_y\u001b[39m\u001b[38;5;124m'\u001b[39m][indxs],\n\u001b[1;32m    209\u001b[0m             \u001b[38;5;124m\"\u001b[39m\u001b[38;5;124mbase_SdssShape_x\u001b[39m\u001b[38;5;124m\"\u001b[39m: src[\u001b[38;5;124m'\u001b[39m\u001b[38;5;124mbase_SdssShape_x\u001b[39m\u001b[38;5;124m'\u001b[39m][indxs],\n\u001b[1;32m    210\u001b[0m             \u001b[38;5;124m\"\u001b[39m\u001b[38;5;124mbase_SdssShape_y\u001b[39m\u001b[38;5;124m\"\u001b[39m: src[\u001b[38;5;124m'\u001b[39m\u001b[38;5;124mbase_SdssShape_y\u001b[39m\u001b[38;5;124m'\u001b[39m][indxs],\n\u001b[1;32m    211\u001b[0m             \u001b[38;5;124m\"\u001b[39m\u001b[38;5;124mbase_SdssShape_xx\u001b[39m\u001b[38;5;124m\"\u001b[39m: src[\u001b[38;5;124m'\u001b[39m\u001b[38;5;124mbase_SdssShape_xx\u001b[39m\u001b[38;5;124m'\u001b[39m][indxs],\n\u001b[1;32m    212\u001b[0m             \u001b[38;5;124m\"\u001b[39m\u001b[38;5;124mbase_SdssShape_yy\u001b[39m\u001b[38;5;124m\"\u001b[39m: src[\u001b[38;5;124m'\u001b[39m\u001b[38;5;124mbase_SdssShape_yy\u001b[39m\u001b[38;5;124m'\u001b[39m][indxs],\n\u001b[1;32m    213\u001b[0m             \u001b[38;5;124m\"\u001b[39m\u001b[38;5;124mbase_SdssShape_xy\u001b[39m\u001b[38;5;124m\"\u001b[39m: src[\u001b[38;5;124m'\u001b[39m\u001b[38;5;124mbase_SdssShape_xy\u001b[39m\u001b[38;5;124m'\u001b[39m][indxs],\n\u001b[1;32m    214\u001b[0m             \u001b[38;5;124m\"\u001b[39m\u001b[38;5;124mbase_SdssShape_xxErr\u001b[39m\u001b[38;5;124m\"\u001b[39m: src[\u001b[38;5;124m'\u001b[39m\u001b[38;5;124mbase_SdssShape_xxErr\u001b[39m\u001b[38;5;124m'\u001b[39m][indxs],\n\u001b[1;32m    215\u001b[0m             \u001b[38;5;124m\"\u001b[39m\u001b[38;5;124mbase_SdssShape_yyErr\u001b[39m\u001b[38;5;124m\"\u001b[39m: src[\u001b[38;5;124m'\u001b[39m\u001b[38;5;124mbase_SdssShape_yyErr\u001b[39m\u001b[38;5;124m'\u001b[39m][indxs],\n\u001b[1;32m    216\u001b[0m             \u001b[38;5;124m\"\u001b[39m\u001b[38;5;124mbase_SdssShape_xyErr\u001b[39m\u001b[38;5;124m\"\u001b[39m: src[\u001b[38;5;124m'\u001b[39m\u001b[38;5;124mbase_SdssShape_xyErr\u001b[39m\u001b[38;5;124m'\u001b[39m][indxs],\n\u001b[1;32m    217\u001b[0m             \u001b[38;5;124m\"\u001b[39m\u001b[38;5;124mbase_PsfFlux_instFlux\u001b[39m\u001b[38;5;124m\"\u001b[39m: src[\u001b[38;5;124m\"\u001b[39m\u001b[38;5;124mbase_PsfFlux_instFlux\u001b[39m\u001b[38;5;124m\"\u001b[39m][indxs],\n\u001b[1;32m    218\u001b[0m             \u001b[38;5;124m\"\u001b[39m\u001b[38;5;124mbase_CircularApertureFlux_3_0_instFlux\u001b[39m\u001b[38;5;124m\"\u001b[39m: src[\u001b[38;5;124m\"\u001b[39m\u001b[38;5;124mbase_CircularApertureFlux_3_0_instFlux\u001b[39m\u001b[38;5;124m\"\u001b[39m][indxs],\n\u001b[1;32m    219\u001b[0m             \u001b[38;5;124m\"\u001b[39m\u001b[38;5;124mbase_CircularApertureFlux_25_0_instFlux\u001b[39m\u001b[38;5;124m\"\u001b[39m: src[\u001b[38;5;124m\"\u001b[39m\u001b[38;5;124mbase_CircularApertureFlux_25_0_instFlux\u001b[39m\u001b[38;5;124m\"\u001b[39m][indxs],\n\u001b[1;32m    220\u001b[0m             \u001b[38;5;124m\"\u001b[39m\u001b[38;5;124mbase_CircularApertureFlux_25_0_instFluxErr\u001b[39m\u001b[38;5;124m\"\u001b[39m: src[\u001b[38;5;124m\"\u001b[39m\u001b[38;5;124mbase_CircularApertureFlux_25_0_instFluxErr\u001b[39m\u001b[38;5;124m\"\u001b[39m][indxs],\n\u001b[1;32m    221\u001b[0m             \u001b[38;5;124m\"\u001b[39m\u001b[38;5;124mbase_CircularApertureFlux_70_0_instFlux\u001b[39m\u001b[38;5;124m\"\u001b[39m: src[\u001b[38;5;124m\"\u001b[39m\u001b[38;5;124mbase_CircularApertureFlux_70_0_instFlux\u001b[39m\u001b[38;5;124m\"\u001b[39m][indxs],\n\u001b[1;32m    222\u001b[0m             \u001b[38;5;124m\"\u001b[39m\u001b[38;5;124mbase_CircularApertureFlux_70_0_instFluxErr\u001b[39m\u001b[38;5;124m\"\u001b[39m: src[\u001b[38;5;124m\"\u001b[39m\u001b[38;5;124mbase_CircularApertureFlux_70_0_instFluxErr\u001b[39m\u001b[38;5;124m\"\u001b[39m][indxs],\n\u001b[1;32m    223\u001b[0m             \u001b[38;5;124m\"\u001b[39m\u001b[38;5;124mext_shapeHSM_HsmShapeBj_e1\u001b[39m\u001b[38;5;124m\"\u001b[39m: src[\u001b[38;5;124m\"\u001b[39m\u001b[38;5;124mext_shapeHSM_HsmShapeBj_e1\u001b[39m\u001b[38;5;124m\"\u001b[39m][indxs],\n\u001b[1;32m    224\u001b[0m             \u001b[38;5;124m\"\u001b[39m\u001b[38;5;124mext_shapeHSM_HsmShapeBj_e2\u001b[39m\u001b[38;5;124m\"\u001b[39m: src[\u001b[38;5;124m\"\u001b[39m\u001b[38;5;124mext_shapeHSM_HsmShapeBj_e2\u001b[39m\u001b[38;5;124m\"\u001b[39m][indxs],\n\u001b[1;32m    225\u001b[0m             \u001b[38;5;124m\"\u001b[39m\u001b[38;5;124mext_shapeHSM_HsmShapeBj_sigma\u001b[39m\u001b[38;5;124m\"\u001b[39m: src[\u001b[38;5;124m\"\u001b[39m\u001b[38;5;124mext_shapeHSM_HsmShapeBj_sigma\u001b[39m\u001b[38;5;124m\"\u001b[39m][indxs],\n\u001b[1;32m    226\u001b[0m             \u001b[38;5;124m\"\u001b[39m\u001b[38;5;124mext_shapeHSM_HsmPsfMoments_xx\u001b[39m\u001b[38;5;124m\"\u001b[39m: src[\u001b[38;5;124m\"\u001b[39m\u001b[38;5;124mext_shapeHSM_HsmPsfMoments_xx\u001b[39m\u001b[38;5;124m\"\u001b[39m][indxs],\n\u001b[1;32m    227\u001b[0m             \u001b[38;5;124m\"\u001b[39m\u001b[38;5;124mext_shapeHSM_HsmPsfMoments_yy\u001b[39m\u001b[38;5;124m\"\u001b[39m: src[\u001b[38;5;124m\"\u001b[39m\u001b[38;5;124mext_shapeHSM_HsmPsfMoments_yy\u001b[39m\u001b[38;5;124m\"\u001b[39m][indxs],\n\u001b[1;32m    228\u001b[0m             \u001b[38;5;124m\"\u001b[39m\u001b[38;5;124mext_shapeHSM_HsmPsfMoments_xy\u001b[39m\u001b[38;5;124m\"\u001b[39m: src[\u001b[38;5;124m\"\u001b[39m\u001b[38;5;124mext_shapeHSM_HsmPsfMoments_xy\u001b[39m\u001b[38;5;124m\"\u001b[39m][indxs],\n\u001b[1;32m    229\u001b[0m             \u001b[38;5;124m\"\u001b[39m\u001b[38;5;124mext_shapeHSM_HsmPsfMoments_xx\u001b[39m\u001b[38;5;124m\"\u001b[39m: src[\u001b[38;5;124m\"\u001b[39m\u001b[38;5;124mext_shapeHSM_HsmPsfMoments_xx\u001b[39m\u001b[38;5;124m\"\u001b[39m][indxs],\n\u001b[1;32m    230\u001b[0m             \u001b[38;5;124m\"\u001b[39m\u001b[38;5;124mext_shapeHSM_HsmPsfMoments_yy\u001b[39m\u001b[38;5;124m\"\u001b[39m: src[\u001b[38;5;124m\"\u001b[39m\u001b[38;5;124mext_shapeHSM_HsmPsfMoments_yy\u001b[39m\u001b[38;5;124m\"\u001b[39m][indxs],\n\u001b[1;32m    231\u001b[0m             \u001b[38;5;124m\"\u001b[39m\u001b[38;5;124mext_shapeHSM_HsmPsfMoments_xy\u001b[39m\u001b[38;5;124m\"\u001b[39m: src[\u001b[38;5;124m\"\u001b[39m\u001b[38;5;124mext_shapeHSM_HsmPsfMoments_xy\u001b[39m\u001b[38;5;124m\"\u001b[39m][indxs],\n\u001b[1;32m    232\u001b[0m             \u001b[38;5;124m\"\u001b[39m\u001b[38;5;124mext_shapeHSM_HsmShapeLinear_e1\u001b[39m\u001b[38;5;124m\"\u001b[39m: src[\u001b[38;5;124m\"\u001b[39m\u001b[38;5;124mext_shapeHSM_HsmShapeLinear_e1\u001b[39m\u001b[38;5;124m\"\u001b[39m][indxs],\n\u001b[1;32m    233\u001b[0m             \u001b[38;5;124m\"\u001b[39m\u001b[38;5;124mext_shapeHSM_HsmShapeLinear_e2\u001b[39m\u001b[38;5;124m\"\u001b[39m: src[\u001b[38;5;124m\"\u001b[39m\u001b[38;5;124mext_shapeHSM_HsmShapeLinear_e2\u001b[39m\u001b[38;5;124m\"\u001b[39m][indxs],\n\u001b[1;32m    234\u001b[0m             \u001b[38;5;124m\"\u001b[39m\u001b[38;5;124mext_shapeHSM_HsmShapeLinear_sigma\u001b[39m\u001b[38;5;124m\"\u001b[39m: src[\u001b[38;5;124m\"\u001b[39m\u001b[38;5;124mext_shapeHSM_HsmShapeLinear_sigma\u001b[39m\u001b[38;5;124m\"\u001b[39m][indxs],\n\u001b[1;32m    235\u001b[0m             \u001b[38;5;124m\"\u001b[39m\u001b[38;5;124mext_shapeHSM_HsmShapeRegauss_e1\u001b[39m\u001b[38;5;124m\"\u001b[39m: src[\u001b[38;5;124m\"\u001b[39m\u001b[38;5;124mext_shapeHSM_HsmShapeRegauss_e1\u001b[39m\u001b[38;5;124m\"\u001b[39m][indxs],\n\u001b[1;32m    236\u001b[0m             \u001b[38;5;124m\"\u001b[39m\u001b[38;5;124mext_shapeHSM_HsmShapeRegauss_e2\u001b[39m\u001b[38;5;124m\"\u001b[39m: src[\u001b[38;5;124m\"\u001b[39m\u001b[38;5;124mext_shapeHSM_HsmShapeRegauss_e2\u001b[39m\u001b[38;5;124m\"\u001b[39m][indxs],\n\u001b[1;32m    237\u001b[0m             \u001b[38;5;124m\"\u001b[39m\u001b[38;5;124mext_shapeHSM_HsmShapeRegauss_sigma\u001b[39m\u001b[38;5;124m\"\u001b[39m: src[\u001b[38;5;124m\"\u001b[39m\u001b[38;5;124mext_shapeHSM_HsmShapeRegauss_sigma\u001b[39m\u001b[38;5;124m\"\u001b[39m][indxs],\n\u001b[1;32m    238\u001b[0m             \u001b[38;5;124m\"\u001b[39m\u001b[38;5;124mext_shapeHSM_HsmSourceMoments_xx\u001b[39m\u001b[38;5;124m\"\u001b[39m: src[\u001b[38;5;124m\"\u001b[39m\u001b[38;5;124mext_shapeHSM_HsmSourceMoments_xx\u001b[39m\u001b[38;5;124m\"\u001b[39m][indxs],\n\u001b[1;32m    239\u001b[0m             \u001b[38;5;124m\"\u001b[39m\u001b[38;5;124mext_shapeHSM_HsmSourceMoments_yy\u001b[39m\u001b[38;5;124m\"\u001b[39m: src[\u001b[38;5;124m\"\u001b[39m\u001b[38;5;124mext_shapeHSM_HsmSourceMoments_yy\u001b[39m\u001b[38;5;124m\"\u001b[39m][indxs],\n\u001b[1;32m    240\u001b[0m             \u001b[38;5;124m\"\u001b[39m\u001b[38;5;124mext_shapeHSM_HsmSourceMoments_xy\u001b[39m\u001b[38;5;124m\"\u001b[39m: src[\u001b[38;5;124m\"\u001b[39m\u001b[38;5;124mext_shapeHSM_HsmSourceMoments_xy\u001b[39m\u001b[38;5;124m\"\u001b[39m][indxs]\n\u001b[1;32m    241\u001b[0m         }\n\u001b[1;32m    242\u001b[0m     )\n\u001b[1;32m    244\u001b[0m \u001b[38;5;66;03m# Sort the table by exposure time\u001b[39;00m\n\u001b[1;32m    245\u001b[0m t \u001b[38;5;241m=\u001b[39m Table(tab)\n",
      "File \u001b[0;32m/cvmfs/sw.lsst.eu/linux-x86_64/lsst_distrib/w_2022_14/conda/envs/lsst-scipipe-3.0.0-ext/share/eups/Linux64/afw/g648ecf20d8+de83aebc00/python/lsst/afw/table/_base.py:107\u001b[0m, in \u001b[0;36mCatalog.__getitem__\u001b[0;34m(self, key)\u001b[0m\n\u001b[1;32m    105\u001b[0m \u001b[38;5;28;01mif\u001b[39;00m \u001b[38;5;129;01mnot\u001b[39;00m \u001b[38;5;28mself\u001b[39m\u001b[38;5;241m.\u001b[39misContiguous():\n\u001b[1;32m    106\u001b[0m     \u001b[38;5;28;01mif\u001b[39;00m \u001b[38;5;28misinstance\u001b[39m(key, \u001b[38;5;28mstr\u001b[39m):\n\u001b[0;32m--> 107\u001b[0m         key \u001b[38;5;241m=\u001b[39m \u001b[38;5;28;43mself\u001b[39;49m\u001b[38;5;241;43m.\u001b[39;49m\u001b[43mschema\u001b[49m\u001b[43m[\u001b[49m\u001b[43mkey\u001b[49m\u001b[43m]\u001b[49m\u001b[38;5;241;43m.\u001b[39;49m\u001b[43masKey\u001b[49m\u001b[43m(\u001b[49m\u001b[43m)\u001b[49m\n\u001b[1;32m    108\u001b[0m     array \u001b[38;5;241m=\u001b[39m \u001b[38;5;28mself\u001b[39m\u001b[38;5;241m.\u001b[39m_getitem_(key)\n\u001b[1;32m    109\u001b[0m     \u001b[38;5;66;03m# This array doesn't share memory with the Catalog, so don't let it be modified by\u001b[39;00m\n\u001b[1;32m    110\u001b[0m     \u001b[38;5;66;03m# the user who thinks that the Catalog itself is being modified.\u001b[39;00m\n\u001b[1;32m    111\u001b[0m     \u001b[38;5;66;03m# Just be aware that this array can only be passed down to C++ as an ndarray::Array<T const>\u001b[39;00m\n\u001b[1;32m    112\u001b[0m     \u001b[38;5;66;03m# instead of an ordinary ndarray::Array<T>. If pybind isn't letting it down into C++,\u001b[39;00m\n\u001b[1;32m    113\u001b[0m     \u001b[38;5;66;03m# you may have left off the 'const' in the definition.\u001b[39;00m\n",
      "\u001b[0;31mNotFoundError\u001b[0m: \n  File \"include/lsst/afw/table/detail/SchemaImpl.h\", line 93, in decltype(auto) lsst::afw::table::detail::SchemaImpl::findAndApply(const string&, F&&) const [with F = lsst::afw::table::{anonymous}::MakePythonSchemaItem&; std::string = std::__cxx11::basic_string<char>]\n    Field with name 'spotgrid_x' not found {0}\nlsst::pex::exceptions::NotFoundError: 'Field with name 'spotgrid_x' not found'\n"
     ]
    }
   ],
   "source": [
    "analyzer_high = Analyzer(repo='/sdf/group/lsst/camera/IandT/repo_gen3/BOT_data/butler.yaml',\n",
    "                    collection='u/abrought/BF/run_13249/R03_S12/uncorrected')\n",
    "\n",
    "analyzer_high.fluxCutThreshold = 0.95\n",
    "analyzer_high.onlyConvergedGridFits = True\n",
    "analyzer_high.ellipticityRangeCut = (-1.0, 1.0)\n",
    "\n",
    "table_high = analyzer_high.getData()\n",
    "filename_high = analyzer_high.saveData(suffix=\"_ellipse_corrected\")"
   ]
  },
  {
   "cell_type": "code",
   "execution_count": 5,
   "id": "065b9a06-d809-4166-a2d0-2774fe925c22",
   "metadata": {},
   "outputs": [
    {
     "name": "stdout",
     "output_type": "stream",
     "text": [
      "Jarring a new data pickle... /sdf/home/a/abrought/run5/BF/data/data_13231_R02_S00_2022-04-21T01:27:24_corrected_linearized_noellipticitycut.pkl\n",
      "Done.\n"
     ]
    }
   ],
   "source": [
    "analyzer_high = Analyzer(repo='/sdf/group/lsst/camera/IandT/repo_gen3/BOT_data/butler.yaml',\n",
    "                    collection='u/abrought/BF/run_13249/R03_S12/corrected')\n",
    "\n",
    "analyzer_high.fluxCutThreshold = 0.95\n",
    "analyzer_high.onlyConvergedGridFits = True\n",
    "analyzer_high.ellipticityRangeCut = (-1.0, 1.0)\n",
    "\n",
    "table_high = analyzer_high.getData()\n",
    "filename_high = analyzer_high.saveData(suffix=\"_ellipse_corrected\")"
   ]
  },
  {
   "cell_type": "code",
   "execution_count": null,
   "id": "ef7fd7ab-d5b0-4a29-9f83-e078042ac2ce",
   "metadata": {},
   "outputs": [],
   "source": []
  }
 ],
 "metadata": {
  "kernelspec": {
   "display_name": "Python [conda env:lsst-scipipe-3.0.0-ext] *",
   "language": "python",
   "name": "conda-env-lsst-scipipe-3.0.0-ext-py"
  },
  "language_info": {
   "codemirror_mode": {
    "name": "ipython",
    "version": 3
   },
   "file_extension": ".py",
   "mimetype": "text/x-python",
   "name": "python",
   "nbconvert_exporter": "python",
   "pygments_lexer": "ipython3",
   "version": "3.8.13"
  }
 },
 "nbformat": 4,
 "nbformat_minor": 5
}
