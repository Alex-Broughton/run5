{
 "cells": [
  {
   "cell_type": "code",
   "execution_count": 1,
   "id": "1a4b2700-20a2-4021-b9c6-1d76d043cc81",
   "metadata": {},
   "outputs": [],
   "source": [
    "import sys\n",
    "sys.path.append('/sdf/home/a/abrought/bin')\n",
    "from SpotAnalysis import Analyzer"
   ]
  },
  {
   "cell_type": "code",
   "execution_count": 2,
   "id": "c26759df-a3d0-47fa-9308-07f68fd496a3",
   "metadata": {},
   "outputs": [],
   "source": [
    "analyzer = Analyzer(repo='/sdf/group/lsst/camera/IandT/repo_gen3/BOT_data/butler.yaml',\n",
    "                    collection='u/abrought/BF/run_13230/R02_S00/corrected_linearized')\n",
    "\n",
    "analyzer.fluxCutThreshold = 0.95\n",
    "analyzer.onlyConvergedGridFits = True\n",
    "analyzer.ellipticityRangeCut = (0.0, 0.7)"
   ]
  },
  {
   "cell_type": "code",
   "execution_count": 3,
   "id": "b7a2a3d8-5832-4e53-884c-b094d7394745",
   "metadata": {},
   "outputs": [
    {
     "ename": "NameError",
     "evalue": "name 'slacAmps' is not defined",
     "output_type": "error",
     "traceback": [
      "\u001b[0;31m---------------------------------------------------------------------------\u001b[0m",
      "\u001b[0;31mNameError\u001b[0m                                 Traceback (most recent call last)",
      "Input \u001b[0;32mIn [3]\u001b[0m, in \u001b[0;36m<module>\u001b[0;34m\u001b[0m\n\u001b[0;32m----> 1\u001b[0m table \u001b[38;5;241m=\u001b[39m \u001b[43manalyzer\u001b[49m\u001b[38;5;241;43m.\u001b[39;49m\u001b[43mgetData\u001b[49m\u001b[43m(\u001b[49m\u001b[43m)\u001b[49m\n",
      "File \u001b[0;32m~/bin/SpotAnalysis.py:155\u001b[0m, in \u001b[0;36mAnalyzer.getData\u001b[0;34m(self)\u001b[0m\n\u001b[1;32m    153\u001b[0m     amp \u001b[38;5;241m=\u001b[39m findAmp(detector, Point2I(y,x))\n\u001b[1;32m    154\u001b[0m     channels\u001b[38;5;241m.\u001b[39mappend(amp\u001b[38;5;241m.\u001b[39mgetName())\n\u001b[0;32m--> 155\u001b[0m     amps\u001b[38;5;241m.\u001b[39mappend(\u001b[43mslacAmps\u001b[49m[amp\u001b[38;5;241m.\u001b[39mgetName()])\n\u001b[1;32m    157\u001b[0m \u001b[38;5;66;03m# Calculate major and minor axes and theta of each spot       \u001b[39;00m\n\u001b[1;32m    158\u001b[0m Mxx \u001b[38;5;241m=\u001b[39m src[\u001b[38;5;124m'\u001b[39m\u001b[38;5;124mbase_SdssShape_xx\u001b[39m\u001b[38;5;124m'\u001b[39m]\n",
      "\u001b[0;31mNameError\u001b[0m: name 'slacAmps' is not defined"
     ]
    }
   ],
   "source": [
    "table = analyzer.getData()"
   ]
  },
  {
   "cell_type": "code",
   "execution_count": null,
   "id": "99cee20f-0706-4281-a56b-969468e5fd67",
   "metadata": {},
   "outputs": [],
   "source": []
  }
 ],
 "metadata": {
  "kernelspec": {
   "display_name": "Python 3 (ipykernel)",
   "language": "python",
   "name": "python3"
  },
  "language_info": {
   "codemirror_mode": {
    "name": "ipython",
    "version": 3
   },
   "file_extension": ".py",
   "mimetype": "text/x-python",
   "name": "python",
   "nbconvert_exporter": "python",
   "pygments_lexer": "ipython3",
   "version": "3.8.12"
  }
 },
 "nbformat": 4,
 "nbformat_minor": 5
}
