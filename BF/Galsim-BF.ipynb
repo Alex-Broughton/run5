{
 "cells": [
  {
   "cell_type": "code",
   "execution_count": 17,
   "id": "ee2bf27f-9c87-4797-8018-4a26a40eab63",
   "metadata": {},
   "outputs": [
    {
     "name": "stdout",
     "output_type": "stream",
     "text": [
      "195.9678\n",
      "<class 'galsim.sensor.SiliconSensor'>\n"
     ]
    },
    {
     "data": {
      "image/png": "[encoded data removed]",
      "text/plain": [
       "<Figure size 576x432 with 1 Axes>"
      ]
     },
     "metadata": {
      "needs_background": "light"
     },
     "output_type": "display_data"
    }
   ],
   "source": [
    "import sys\n",
    "import os\n",
    "import math\n",
    "import logging\n",
    "import galsim\n",
    "import matplotlib.pyplot as plt\n",
    "\n",
    "\"\"\"\n",
    "About as simple as it gets:\n",
    "  - Use a circular Gaussian profile for the galaxy.\n",
    "  - Convolve it by a circular Gaussian PSF.\n",
    "  - Add Gaussian noise to the image.\n",
    "\"\"\"\n",
    "gal_flux = 2.e5    # total counts on the image\n",
    "gal_sigma = 0.2     # arcsec\n",
    "psf_sigma = 0.01     # arcsec\n",
    "pixel_scale = 0.2  # arcsec / pixel\n",
    "noise = 30.        # standard deviation of the counts in each pixel\n",
    "\n",
    "# Define the galaxy profile\n",
    "gal = galsim.Gaussian(flux=gal_flux, sigma=gal_sigma)\n",
    "\n",
    "# Define the PSF profile\n",
    "psf = galsim.Gaussian(flux=1., sigma=psf_sigma) # PSF flux should always = 1\n",
    "\n",
    "# Final profile is the convolution of these\n",
    "# Can include any number of things in the list, all of which are convolved\n",
    "# together to make the final flux profile.\n",
    "final = galsim.Convolve([gal, psf])\n",
    "\n",
    "# Draw the image with a particular pixel scale, given in arcsec/pixel.\n",
    "# The returned image has a member, added_flux, which is gives the total flux actually added to\n",
    "# the image.  One could use this value to check if the image is large enough for some desired\n",
    "# accuracy level.  Here, we just ignore it.\n",
    "#image = final.drawImage(scale=pixel_scale)\n",
    "image = final.drawImage(scale=pixel_scale, method = \"phot\", save_photons=True)\n",
    "\n",
    "# Add Gaussian noise to the image with specified sigma\n",
    "image.addNoise(galsim.GaussianNoise(sigma=noise))\n",
    "\n",
    "# Add sensor effects\n",
    "sensor = galsim.SiliconSensor(strength = 1.0, diffusion_factor=100, nrecalc=10000)\n",
    "photons = galsim.PhotonArray(100000)\n",
    "sensor.accumulate(photons, image)\n",
    "bf_effect = sensor.calculate_pixel_areas(image)\n",
    "import numpy as np\n",
    "print(np.sum(bf_effect.array))\n",
    "\n",
    "results = image.FindAdaptiveMom()\n",
    "print(type(sensor))\n",
    "\n",
    "# plot it\n",
    "f,ax = plt.subplots(1,1, figsize=(8,6))\n",
    "#from matplotlib.colors import LogNorm\n",
    "im = ax.imshow(image.array,origin='lower',interpolation='None', cmap=\"gray\")\n",
    "\n"
   ]
  },
  {
   "cell_type": "code",
   "execution_count": null,
   "id": "a79a4476-fb4a-40ac-9f75-efa312af1d1d",
   "metadata": {},
   "outputs": [],
   "source": []
  }
 ],
 "metadata": {
  "kernelspec": {
   "display_name": "Python [conda env:lsst-scipipe-3.0.0-ext] *",
   "language": "python",
   "name": "conda-env-lsst-scipipe-3.0.0-ext-py"
  },
  "language_info": {
   "codemirror_mode": {
    "name": "ipython",
    "version": 3
   },
   "file_extension": ".py",
   "mimetype": "text/x-python",
   "name": "python",
   "nbconvert_exporter": "python",
   "pygments_lexer": "ipython3",
   "version": "3.8.12"
  }
 },
 "nbformat": 4,
 "nbformat_minor": 5
}
