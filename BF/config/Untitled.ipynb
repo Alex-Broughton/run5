{
 "cells": [
  {
   "cell_type": "code",
   "execution_count": 17,
   "id": "db497080-6795-43dd-b619-67ce9aa733a9",
   "metadata": {
    "execution": {
     "iopub.execute_input": "2023-05-17T20:01:45.306534Z",
     "iopub.status.busy": "2023-05-17T20:01:45.305948Z",
     "iopub.status.idle": "2023-05-17T20:01:45.308889Z",
     "shell.execute_reply": "2023-05-17T20:01:45.308452Z",
     "shell.execute_reply.started": "2023-05-17T20:01:45.306514Z"
    },
    "tags": []
   },
   "outputs": [],
   "source": [
    "import numpy as np\n",
    "from astropy.io import fits\n",
    "from astropy.table import Table\n",
    "import sys"
   ]
  },
  {
   "cell_type": "code",
   "execution_count": 18,
   "id": "2cd338fb-3402-4d20-a0e4-549d115c79e5",
   "metadata": {
    "execution": {
     "iopub.execute_input": "2023-05-17T20:01:58.897908Z",
     "iopub.status.busy": "2023-05-17T20:01:58.897346Z",
     "iopub.status.idle": "2023-05-17T20:01:58.900255Z",
     "shell.execute_reply": "2023-05-17T20:01:58.899794Z",
     "shell.execute_reply.started": "2023-05-17T20:01:58.897888Z"
    }
   },
   "outputs": [],
   "source": [
    "sys.path.append('/sdf/home/a/abrought/simulated/psfxt')"
   ]
  },
  {
   "cell_type": "code",
   "execution_count": null,
   "id": "c0aaf2f7-c520-48cd-bfe1-30d1f54bf149",
   "metadata": {},
   "outputs": [],
   "source": [
    "import "
   ]
  }
 ],
 "metadata": {
  "kernelspec": {
   "display_name": "LSST",
   "language": "python",
   "name": "lsst"
  },
  "language_info": {
   "codemirror_mode": {
    "name": "ipython",
    "version": 3
   },
   "file_extension": ".py",
   "mimetype": "text/x-python",
   "name": "python",
   "nbconvert_exporter": "python",
   "pygments_lexer": "ipython3",
   "version": "3.10.9"
  }
 },
 "nbformat": 4,
 "nbformat_minor": 5
}
