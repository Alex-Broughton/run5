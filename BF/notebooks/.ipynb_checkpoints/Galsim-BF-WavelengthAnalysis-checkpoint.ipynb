{
 "cells": [
  {
   "cell_type": "markdown",
   "id": "052f8d62-63b2-41cb-8172-1272e90e61ff",
   "metadata": {},
   "source": [
    "## Wavelgnth dependence of the BF Effect Using Galsim"
   ]
  },
  {
   "cell_type": "markdown",
   "id": "44b2175f-5a64-469b-b7a1-d601b8eefaf8",
   "metadata": {},
   "source": [
    "Originally created by Alex Broughton\n"
   ]
  },
  {
   "cell_type": "code",
   "execution_count": 1,
   "id": "fb4010f1-6ecd-4967-8cd6-7546c906505e",
   "metadata": {},
   "outputs": [
    {
     "name": "stdout",
     "output_type": "stream",
     "text": [
      "eups                  LOCAL:/cvmfs/sw.lsst.eu/linux-x86_64/lsst_distrib/w_2022_14/conda/envs/lsst-scipipe-3.0.0-ext/eups \tsetup\n",
      "lsst_distrib          g4eaec17cb9+23bdaa02ee \tw_latest w_2022_14 current setup\n"
     ]
    }
   ],
   "source": [
    "! eups list -s | grep lsst_distrib"
   ]
  },
  {
   "cell_type": "code",
   "execution_count": 2,
   "id": "18cae193-541b-4767-a1b4-53482c61af08",
   "metadata": {},
   "outputs": [],
   "source": [
    "# Helper functions\n",
    "N = 100\n",
    "\n",
    "def calc2ndMom(results):\n",
    "    # Calculate Second Moments\n",
    "    e1 = results.observed_shape.e1\n",
    "    e2 = results.observed_shape.e2\n",
    "    sigma = results.moments_sigma\n",
    "    sigma_ave = sigma / (1 - e1**2 - e2**2 )**(0.25) \n",
    "    Ixx = (1+e1) * sigma_ave**2\n",
    "    Iyy = (1-e1) * sigma_ave**2\n",
    "    Ixy = e2 * (sigma_ave**2) \n",
    "    \n",
    "    return Ixx, Iyy, Ixy"
   ]
  },
  {
   "cell_type": "markdown",
   "id": "f5d2c6c0-5ac3-4022-b294-693368cb5979",
   "metadata": {},
   "source": [
    "#### Galaxy @ 680nm, Flux 10^3 - 10^6"
   ]
  },
  {
   "cell_type": "code",
   "execution_count": 3,
   "id": "388f8cfa-e4cb-4517-886c-2a4b0a329ad5",
   "metadata": {},
   "outputs": [],
   "source": [
    "import sys\n",
    "import os\n",
    "import math\n",
    "import logging\n",
    "import galsim\n",
    "import numpy as np\n",
    "import matplotlib.pyplot as plt\n",
    "\n",
    "\"\"\"\n",
    "About as simple as it gets:\n",
    "  - Use a circular Gaussian profile for the galaxy.\n",
    "  - Convolve it by a circular Gaussian PSF.\n",
    "  - Add Gaussian noise to the image.\n",
    "\"\"\"\n",
    "gal_flux = 2.e5    # total counts on the image\n",
    "gal_sigma = 0.2     # arcsec\n",
    "pixel_scale = 0.2  # arcsec / pixel\n",
    "noise = 30.        # standard deviation of the counts in each pixel\n",
    "\n",
    "\n",
    "sensor = galsim.SiliconSensor(strength = 1.0, diffusion_factor=0.0, nrecalc=10000)\n",
    "new_params = galsim.hsm.HSMParams(max_mom2_iter=500)\n",
    "sed = galsim.SED('wave**1.0',wave_type=\"nm\", flux_type=\"1\")\n",
    "\n",
    "\n",
    "# Define the galaxy profile\n",
    "spectral_obj = galsim.Gaussian(flux=gal_flux, sigma=gal_sigma)*sed\n",
    "\n",
    "obj_680 = spectral_obj.evaluateAtWavelength(680.0)\n",
    "\n",
    "# Iterate over multpile fluxes\n",
    "sigmas_680 = []\n",
    "moments_xx_680 = []\n",
    "fluxes_680 = []\n",
    "peak_signal_680 = []\n",
    "for n in np.linspace(1000,1000000, N):\n",
    "    obj = obj_680.withFlux(n)\n",
    "\n",
    "    # Draw the image with a particular pixel scale, given in arcsec/pixel.\n",
    "    # The returned image has a member, added_flux, which is gives the total flux actually added to\n",
    "    # the image.  One could use this value to check if the image is large enough for some desired\n",
    "    # accuracy level.  Here, we just ignore it.\n",
    "    image = obj.drawImage(scale=pixel_scale, method = \"phot\", sensor=sensor, save_photons=True)\n",
    "\n",
    "    # Add Gaussian noise to the image with specified sigma\n",
    "    #image.addNoise(galsim.GaussianNoise(sigma=noise))\n",
    "\n",
    "    results = image.FindAdaptiveMom()\n",
    "    Ixx, Iyy, Ixy = calc2ndMom(results)\n",
    "    moments_xx_680.append(Ixx)\n",
    "    peak_signal_680.append(np.max(np.ravel(image)))\n",
    "    sigmas_680.append(results.moments_sigma)\n",
    "    fluxes_680.append(results.moments_amp)"
   ]
  },
  {
   "cell_type": "markdown",
   "id": "14c33243-4267-4909-abab-fb80efe93e38",
   "metadata": {},
   "source": [
    "#### Galaxy @ 450nm, Flux 10^3 - 10^6"
   ]
  },
  {
   "cell_type": "code",
   "execution_count": 4,
   "id": "131ad0e3-acf3-42bb-a4e9-00a1c5b16dc3",
   "metadata": {},
   "outputs": [],
   "source": [
    "import sys\n",
    "import os\n",
    "import math\n",
    "import logging\n",
    "import galsim\n",
    "import numpy as np\n",
    "import matplotlib.pyplot as plt\n",
    "\n",
    "\"\"\"\n",
    "About as simple as it gets:\n",
    "  - Use a circular Gaussian profile for the galaxy.\n",
    "  - Convolve it by a circular Gaussian PSF.\n",
    "  - Add Gaussian noise to the image.\n",
    "\"\"\"\n",
    "gal_flux = 2.e5    # total counts on the image\n",
    "gal_sigma = 0.2     # arcsec\n",
    "psf_sigma = 0.01     # arcsec\n",
    "pixel_scale = 0.2  # arcsec / pixel\n",
    "noise = 30.        # standard deviation of the counts in each pixel\n",
    "\n",
    "\n",
    "#sensor = galsim.SiliconSensor(strength = 1.0, diffusion_factor=1, nrecalc=10000)\n",
    "sed = galsim.SED('wave**1.0',wave_type=\"nm\", flux_type=\"1\")\n",
    "\n",
    "\n",
    "# Define the galaxy profile\n",
    "spectral_obj = galsim.Gaussian(flux=gal_flux, sigma=gal_sigma)*sed\n",
    "\n",
    "obj_450 = spectral_obj.evaluateAtWavelength(450.0)\n",
    "\n",
    "\n",
    "sigmas_450 = []\n",
    "moments_xx_450 = []\n",
    "fluxes_450 = []\n",
    "peak_signal_450 = []\n",
    "for n in np.linspace(1000,1000000, N):\n",
    "    obj = obj_450.withFlux(n)\n",
    "\n",
    "    # Draw the image with a particular pixel scale, given in arcsec/pixel.\n",
    "    # The returned image has a member, added_flux, which is gives the total flux actually added to\n",
    "    # the image.  One could use this value to check if the image is large enough for some desired\n",
    "    # accuracy level.  Here, we just ignore it.\n",
    "    image = obj.drawImage(scale=pixel_scale, method = \"phot\", sensor=sensor, save_photons=True)\n",
    "\n",
    "    # Add Gaussian noise to the image with specified sigma\n",
    "    #image.addNoise(galsim.GaussianNoise(sigma=noise))\n",
    "\n",
    "    results = image.FindAdaptiveMom()\n",
    "    Ixx, Iyy, Ixy = calc2ndMom(results)\n",
    "    moments_xx_450.append(Ixx)\n",
    "    peak_signal_450.append(np.max(np.ravel(image)))\n",
    "    sigmas_450.append(results.moments_sigma)\n",
    "    fluxes_450.append(results.moments_amp)\n"
   ]
  },
  {
   "cell_type": "markdown",
   "id": "df2b30c0-7fe8-4889-b2e5-7412319f41a2",
   "metadata": {},
   "source": [
    "#### Galaxy @ 1050nm, Flux 10^3 - 10^6"
   ]
  },
  {
   "cell_type": "code",
   "execution_count": 5,
   "id": "82d8a3fd-2382-4586-a470-aa7d3bbeb066",
   "metadata": {},
   "outputs": [],
   "source": [
    "import sys\n",
    "import os\n",
    "import math\n",
    "import logging\n",
    "import galsim\n",
    "import numpy as np\n",
    "import matplotlib.pyplot as plt\n",
    "\n",
    "\"\"\"\n",
    "About as simple as it gets:\n",
    "  - Use a circular Gaussian profile for the galaxy.\n",
    "  - Convolve it by a circular Gaussian PSF.\n",
    "  - Add Gaussian noise to the image.\n",
    "\"\"\"\n",
    "gal_flux = 2.e5    # total counts on the image\n",
    "gal_sigma = 0.2     # arcsec\n",
    "psf_sigma = 0.01     # arcsec\n",
    "pixel_scale = 0.2  # arcsec / pixel\n",
    "noise = 30.        # standard deviation of the counts in each pixel\n",
    "\n",
    "\n",
    "#sensor = galsim.SiliconSensor(strength = 1.0, diffusion_factor=1, nrecalc=10000)\n",
    "sed = galsim.SED('wave**1.0',wave_type=\"nm\", flux_type=\"1\")\n",
    "\n",
    "\n",
    "# Define the galaxy profile\n",
    "spectral_obj = galsim.Gaussian(flux=gal_flux, sigma=gal_sigma)*sed\n",
    "\n",
    "obj_1050 = spectral_obj.evaluateAtWavelength(1050.0)\n",
    "\n",
    "\n",
    "sigmas_1050 = []\n",
    "moments_xx_1050 = []\n",
    "fluxes_1050 = []\n",
    "peak_signal_1050 = []\n",
    "for n in np.linspace(1000,1000000, N):\n",
    "    obj = obj_1050.withFlux(n)\n",
    "\n",
    "    # Draw the image with a particular pixel scale, given in arcsec/pixel.\n",
    "    # The returned image has a member, added_flux, which is gives the total flux actually added to\n",
    "    # the image.  One could use this value to check if the image is large enough for some desired\n",
    "    # accuracy level.  Here, we just ignore it.\n",
    "    image = obj.drawImage(scale=pixel_scale, method = \"phot\", sensor=sensor, save_photons=True)\n",
    "\n",
    "    # Add Gaussian noise to the image with specified sigma\n",
    "    #image.addNoise(galsim.GaussianNoise(sigma=noise))\n",
    "\n",
    "    results = image.FindAdaptiveMom(hsmparams=new_params)\n",
    "    Ixx, Iyy, Ixy = calc2ndMom(results)\n",
    "    moments_xx_1050.append(Ixx)\n",
    "    peak_signal_1050.append(np.max(np.ravel(image)))\n",
    "    sigmas_1050.append(results.moments_sigma)\n",
    "    fluxes_1050.append(results.moments_amp)\n",
    "\n"
   ]
  },
  {
   "cell_type": "markdown",
   "id": "a3be0bef-dcd1-428e-8053-15d1f241edc3",
   "metadata": {},
   "source": [
    "#### Galaxy @ 365nm, Flux 10^3 - 10^6"
   ]
  },
  {
   "cell_type": "code",
   "execution_count": 9,
   "id": "cf19c42c-55d5-4b2e-94dc-bfa32b250efc",
   "metadata": {},
   "outputs": [],
   "source": [
    "import sys\n",
    "import os\n",
    "import math\n",
    "import logging\n",
    "import galsim\n",
    "import numpy as np\n",
    "import matplotlib.pyplot as plt\n",
    "\n",
    "\"\"\"\n",
    "About as simple as it gets:\n",
    "  - Use a circular Gaussian profile for the galaxy.\n",
    "  - Convolve it by a circular Gaussian PSF.\n",
    "  - Add Gaussian noise to the image.\n",
    "\"\"\"\n",
    "gal_flux = 2.e5    # total counts on the image\n",
    "gal_sigma = 0.2     # arcsec\n",
    "psf_sigma = 0.01     # arcsec\n",
    "pixel_scale = 0.2  # arcsec / pixel\n",
    "noise = 30.        # standard deviation of the counts in each pixel\n",
    "\n",
    "\n",
    "#sensor = galsim.SiliconSensor(strength = 1.0, diffusion_factor=1, nrecalc=10000)\n",
    "sed = galsim.SED('wave**1.0',wave_type=\"nm\", flux_type=\"1\")\n",
    "\n",
    "\n",
    "# Define the galaxy profile\n",
    "spectral_obj = galsim.Gaussian(flux=gal_flux, sigma=gal_sigma)*sed\n",
    "\n",
    "obj_365 = spectral_obj.evaluateAtWavelength(365.0)\n",
    "\n",
    "\n",
    "sigmas_365 = []\n",
    "moments_xx_365 = []\n",
    "fluxes_365 = []\n",
    "peak_signal_365 = []\n",
    "for n in np.linspace(1000,1000000, N):\n",
    "    obj = obj_365.withFlux(n)\n",
    "    \n",
    "    # Draw the image with a particular pixel scale, given in arcsec/pixel.\n",
    "    # The returned image has a member, added_flux, which is gives the total flux actually added to\n",
    "    # the image.  One could use this value to check if the image is large enough for some desired\n",
    "    # accuracy level.  Here, we just ignore it.\n",
    "    image = obj.drawImage(scale=pixel_scale, method = \"phot\", sensor=sensor, save_photons=True)\n",
    "\n",
    "    # Add Gaussian noise to the image with specified sigma\n",
    "    image.addNoise(galsim.GaussianNoise(sigma=noise))\n",
    "\n",
    "    results = image.FindAdaptiveMom(hsmparams=new_params)\n",
    "    Ixx, Iyy, Ixy = calc2ndMom(results)\n",
    "    moments_xx_365.append(Ixx)\n",
    "    peak_signal_365.append(np.max(np.ravel(image)))\n",
    "    sigmas_365.append(results.moments_sigma)\n",
    "    fluxes_365.append(results.moments_amp)\n"
   ]
  },
  {
   "cell_type": "markdown",
   "id": "75167f7c-d8be-4fd0-b368-473f5513b9ea",
   "metadata": {},
   "source": [
    "### Plot it (BF Only)"
   ]
  },
  {
   "cell_type": "code",
   "execution_count": 10,
   "id": "a79a4476-fb4a-40ac-9f75-efa312af1d1d",
   "metadata": {},
   "outputs": [
    {
     "data": {
      "text/plain": [
       "Text(0, 0.5, 'Ixx')"
      ]
     },
     "execution_count": 10,
     "metadata": {},
     "output_type": "execute_result"
    },
    {
     "data": {
      "image/png": "[encoded data removed]",
      "text/plain": [
       "<Figure size 720x576 with 1 Axes>"
      ]
     },
     "metadata": {
      "needs_background": "light"
     },
     "output_type": "display_data"
    }
   ],
   "source": [
    "plt.figure(figsize=(10,8))\n",
    "plt.scatter(fluxes_680[1:-1], moments_xx_680[1:-1], color=\"orange\")\n",
    "plt.scatter(fluxes_365[1:-1], moments_xx_365[1:-1], color =\"b\")\n",
    "plt.scatter(fluxes_450[1:-1], moments_xx_450[1:-1], color =\"g\")\n",
    "plt.scatter(fluxes_1050[1:-1], moments_xx_1050[1:-1], color=\"r\")\n",
    "\n",
    "m_680,b_680 = np.polyfit(fluxes_680[1:-1],moments_xx_680[1:-1],deg=1)\n",
    "m_365,b_365 = np.polyfit(fluxes_365[1:-1],moments_xx_365[1:-1],deg=1)\n",
    "m_450,b_450 = np.polyfit(fluxes_450[1:-1],moments_xx_450[1:-1],deg=1)\n",
    "m_1050,b_1050 = np.polyfit(fluxes_1050[1:-1],moments_xx_1050[1:-1],deg=1)\n",
    "plt.plot(np.linspace(1000,1000000,20), m_365 * np.linspace(1000,1000000,20) + b_365, \"b\", label=\"365nm\")\n",
    "plt.plot(np.linspace(1000,1000000,20), m_450 * np.linspace(1000,1000000,20) + b_450, \"g\", label=\"450nm\")\n",
    "plt.plot(np.linspace(1000,1000000,20), m_680 * np.linspace(1000,1000000,20) + b_680, \"orange\", label=\"680nm\")\n",
    "plt.plot(np.linspace(1000,1000000,20), m_1050 * np.linspace(1000,1000000,20) + b_1050, \"r\", label=\"1050nm\")\n",
    "\n",
    "plt.xlabel(\"Total Flux (e-)\")\n",
    "plt.ylabel(\"Ixx\")"
   ]
  },
  {
   "cell_type": "code",
   "execution_count": 11,
   "id": "f5fa92a6-d43f-4e1b-bf32-01ddde9a9f73",
   "metadata": {},
   "outputs": [
    {
     "data": {
      "text/plain": [
       "Text(0.5, 0, 'Wavelength, nm')"
      ]
     },
     "execution_count": 11,
     "metadata": {},
     "output_type": "execute_result"
    },
    {
     "data": {
      "image/png": "[encoded data removed]",
      "text/plain": [
       "<Figure size 432x288 with 1 Axes>"
      ]
     },
     "metadata": {
      "needs_background": "light"
     },
     "output_type": "display_data"
    }
   ],
   "source": [
    "plt.scatter([365,450,680,1050],[(m_365-m_365)/m_365,(m_450-m_365)/m_365,(m_680-m_365)/m_365,(m_1050-m_365)/m_365])\n",
    "plt.ylabel(\"Deviation of slope [%/100]\")\n",
    "plt.xlabel(\"Wavelength, nm\")"
   ]
  },
  {
   "cell_type": "code",
   "execution_count": null,
   "id": "beff0bda-5bd9-4a3f-aa1e-21dbf786aba0",
   "metadata": {},
   "outputs": [],
   "source": []
  }
 ],
 "metadata": {
  "kernelspec": {
   "display_name": "Python [conda env:lsst-scipipe-3.0.0-ext] *",
   "language": "python",
   "name": "conda-env-lsst-scipipe-3.0.0-ext-py"
  },
  "language_info": {
   "codemirror_mode": {
    "name": "ipython",
    "version": 3
   },
   "file_extension": ".py",
   "mimetype": "text/x-python",
   "name": "python",
   "nbconvert_exporter": "python",
   "pygments_lexer": "ipython3",
   "version": "3.8.13"
  }
 },
 "nbformat": 4,
 "nbformat_minor": 5
}
