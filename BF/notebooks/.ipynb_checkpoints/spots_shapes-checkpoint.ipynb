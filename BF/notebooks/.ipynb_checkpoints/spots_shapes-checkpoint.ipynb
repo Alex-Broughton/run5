{
 "cells": [
  {
   "cell_type": "markdown",
   "metadata": {},
   "source": [
    "## Spot Analysis of BF Correction\n",
    "\n",
    "Originally written by Alex Broughton\n",
    "\n"
   ]
  },
  {
   "cell_type": "code",
   "execution_count": 1,
   "metadata": {},
   "outputs": [
    {
     "name": "stdout",
     "output_type": "stream",
     "text": [
      "eups                  LOCAL:/cvmfs/sw.lsst.eu/linux-x86_64/lsst_distrib/w_2022_14/conda/envs/lsst-scipipe-3.0.0-ext/eups \tsetup\n",
      "lsst_distrib          g4eaec17cb9+23bdaa02ee \tw_latest w_2022_14 current setup\n"
     ]
    }
   ],
   "source": [
    "! eups list -s | grep lsst_distrib"
   ]
  },
  {
   "cell_type": "code",
   "execution_count": 2,
   "metadata": {
    "tags": []
   },
   "outputs": [
    {
     "name": "stderr",
     "output_type": "stream",
     "text": [
      "\n",
      "WARNING: version mismatch between CFITSIO header (v4.000999999999999) and linked library (v4.01).\n",
      "\n",
      "\n",
      "WARNING: version mismatch between CFITSIO header (v4.000999999999999) and linked library (v4.01).\n",
      "\n",
      "\n",
      "WARNING: version mismatch between CFITSIO header (v4.000999999999999) and linked library (v4.01).\n",
      "\n"
     ]
    }
   ],
   "source": [
    "import os\n",
    "import numpy as np\n",
    "import glob\n",
    "from astropy.io import fits\n",
    "import pickle as pkl\n",
    "import matplotlib.pyplot as plt\n",
    "from lsst.daf.butler import Butler\n",
    "import lsst.afw.display as afwDisplay\n",
    "import lsst.afw.image as afwImage\n",
    "from lsst.obs.lsst import LsstCam\n",
    "from lsst.afw.cameraGeom.utils import findAmp\n",
    "from lsst.geom import Point2I\n",
    "from astropy.table import Table, vstack, join\n",
    "from scipy import stats\n",
    "from scipy.optimize import curve_fit\n",
    "import logging\n",
    "\n",
    "\n",
    "logging.basicConfig()\n",
    "logger = logging.getLogger()\n",
    "logger.setLevel(logging.CRITICAL)"
   ]
  },
  {
   "cell_type": "code",
   "execution_count": 3,
   "metadata": {},
   "outputs": [],
   "source": [
    "import sys\n",
    "sys.path.append('/sdf/home/a/abrought/bin')\n",
    "from SpotAnalysis import Analyzer, readData, getSensorData, removeBadExps"
   ]
  },
  {
   "cell_type": "markdown",
   "metadata": {},
   "source": [
    "#### Read Data"
   ]
  },
  {
   "cell_type": "code",
   "execution_count": 18,
   "metadata": {},
   "outputs": [],
   "source": [
    "outdir = \"/sdf/home/a/abrought/run5/BF/data/\"\n",
    "files = glob.glob(outdir + \"data*uncorrected.pkl\")\n",
    "expstoremove=1\n",
    "\n",
    "es_uncorrected = []\n",
    "for file in files:\n",
    "    data = Table(pkl.load( open(file, \"rb\") ))\n",
    "    data = removeBadExps(expstoremove, data)\n",
    "    g1 = np.asarray(data['base_SdssShape_xx'][0])-np.asarray(data['base_SdssShape_yy'][0])\n",
    "    g2 = 2*np.asarray(data['base_SdssShape_xy'][0])\n",
    "    e = np.sqrt(g1.flatten()**2 + g2.flatten()**2)\n",
    "    es_uncorrected.extend(e)\n",
    "    \n",
    "outdir = \"/sdf/home/a/abrought/run5/BF/data/\"\n",
    "files = glob.glob(outdir + \"data*corrected.pkl\")\n",
    "expstoremove=1\n",
    "\n",
    "es_corrected = []\n",
    "for file in files:\n",
    "    data = Table(pkl.load( open(file, \"rb\") ))\n",
    "    data = removeBadExps(expstoremove, data)\n",
    "    g1 = np.asarray(data['base_SdssShape_xx'][0])-np.asarray(data['base_SdssShape_yy'][0])\n",
    "    g2 = 2*np.asarray(data['base_SdssShape_xy'][0])\n",
    "    e = np.sqrt(g1.flatten()**2 + g2.flatten()**2)\n",
    "    es_corrected.extend(e)"
   ]
  },
  {
   "cell_type": "markdown",
   "metadata": {
    "tags": []
   },
   "source": [
    "## Main Plot"
   ]
  },
  {
   "cell_type": "code",
   "execution_count": 19,
   "metadata": {},
   "outputs": [
    {
     "data": {
      "text/plain": [
       "(array([  5.,  15.,  34.,  99., 202., 272., 323., 253.,  92.,  26.]),\n",
       " array([0.40605226, 0.43568364, 0.46531502, 0.4949464 , 0.52457778,\n",
       "        0.55420917, 0.58384055, 0.61347193, 0.64310331, 0.67273469,\n",
       "        0.70236607]),\n",
       " <BarContainer object of 10 artists>)"
      ]
     },
     "execution_count": 19,
     "metadata": {},
     "output_type": "execute_result"
    },
    {
     "data": {
      "image/png": "[encoded data removed]",
      "text/plain": [
       "<Figure size 432x288 with 1 Axes>"
      ]
     },
     "metadata": {
      "needs_background": "light"
     },
     "output_type": "display_data"
    }
   ],
   "source": [
    "plt.hist(es)"
   ]
  },
  {
   "cell_type": "code",
   "execution_count": 20,
   "metadata": {},
   "outputs": [],
   "source": [
    "outdir = \"/sdf/home/a/abrought/run5/BF/data/\"\n",
    "files = glob.glob(outdir + \"data*corrected.pkl\")\n",
    "expstoremove=1\n",
    "\n",
    "es_corrected = []\n",
    "for file in files:\n",
    "    data = Table(pkl.load( open(file, \"rb\") ))\n",
    "    data = removeBadExps(expstoremove, data)\n",
    "    g1 = np.asarray(data['base_SdssShape_xx'][0])-np.asarray(data['base_SdssShape_yy'][0])\n",
    "    g2 = 2*np.asarray(data['base_SdssShape_xy'][0])\n",
    "    e = np.sqrt(g1.flatten()**2 + g2.flatten()**2)\n",
    "    es.extend(e)"
   ]
  },
  {
   "cell_type": "code",
   "execution_count": 21,
   "metadata": {},
   "outputs": [
    {
     "data": {
      "text/plain": [
       "(array([  7.,  27.,  87., 252., 480., 622., 665., 378., 108.,  15.]),\n",
       " array([0.40605226, 0.43731043, 0.46856861, 0.49982678, 0.53108495,\n",
       "        0.56234313, 0.5936013 , 0.62485948, 0.65611765, 0.68737582,\n",
       "        0.718634  ]),\n",
       " <BarContainer object of 10 artists>)"
      ]
     },
     "execution_count": 21,
     "metadata": {},
     "output_type": "execute_result"
    },
    {
     "data": {
      "image/png": "[encoded data removed]",
      "text/plain": [
       "<Figure size 432x288 with 1 Axes>"
      ]
     },
     "metadata": {
      "needs_background": "light"
     },
     "output_type": "display_data"
    }
   ],
   "source": [
    "plt.hist(es)"
   ]
  },
  {
   "cell_type": "code",
   "execution_count": null,
   "metadata": {},
   "outputs": [],
   "source": []
  }
 ],
 "metadata": {
  "kernelspec": {
   "display_name": "Python [conda env:lsst-scipipe-3.0.0-ext] *",
   "language": "python",
   "name": "conda-env-lsst-scipipe-3.0.0-ext-py"
  },
  "language_info": {
   "codemirror_mode": {
    "name": "ipython",
    "version": 3
   },
   "file_extension": ".py",
   "mimetype": "text/x-python",
   "name": "python",
   "nbconvert_exporter": "python",
   "pygments_lexer": "ipython3",
   "version": "3.8.13"
  }
 },
 "nbformat": 4,
 "nbformat_minor": 4
}
