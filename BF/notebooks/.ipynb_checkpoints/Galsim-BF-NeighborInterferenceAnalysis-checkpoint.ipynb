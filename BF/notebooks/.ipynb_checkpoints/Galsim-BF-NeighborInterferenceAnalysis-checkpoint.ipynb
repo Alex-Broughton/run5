{
 "cells": [
  {
   "cell_type": "markdown",
   "id": "052f8d62-63b2-41cb-8172-1272e90e61ff",
   "metadata": {},
   "source": [
    "## Dependence of the BF Effect on Neighboring Spots in Real Data/Simulation"
   ]
  },
  {
   "cell_type": "markdown",
   "id": "44b2175f-5a64-469b-b7a1-d601b8eefaf8",
   "metadata": {},
   "source": [
    "Originally created by Alex Broughton\n"
   ]
  },
  {
   "cell_type": "code",
   "execution_count": 1,
   "id": "fb4010f1-6ecd-4967-8cd6-7546c906505e",
   "metadata": {},
   "outputs": [
    {
     "name": "stdout",
     "output_type": "stream",
     "text": [
      "eups                  LOCAL:/cvmfs/sw.lsst.eu/linux-x86_64/lsst_distrib/w_2022_14/conda/envs/lsst-scipipe-3.0.0-ext/eups \tsetup\n",
      "lsst_distrib          g4eaec17cb9+23bdaa02ee \tw_latest w_2022_14 current setup\n"
     ]
    }
   ],
   "source": [
    "! eups list -s | grep lsst_distrib"
   ]
  },
  {
   "cell_type": "code",
   "execution_count": 2,
   "id": "18cae193-541b-4767-a1b4-53482c61af08",
   "metadata": {},
   "outputs": [],
   "source": [
    "# Helper functions\n",
    "\n",
    "def calc2ndMom(results):\n",
    "    # Calculate Second Moments\n",
    "    e1 = results.observed_shape.e1\n",
    "    e2 = results.observed_shape.e2\n",
    "    sigma = results.moments_sigma\n",
    "    sigma_ave = sigma / (1 - e1**2 - e2**2 )**(0.25) \n",
    "    Ixx = (1+e1) * sigma_ave**2\n",
    "    Iyy = (1-e1) * sigma_ave**2\n",
    "    Ixy = e2 * (sigma_ave**2) \n",
    "    \n",
    "    return Ixx, Iyy, Ixy"
   ]
  },
  {
   "cell_type": "markdown",
   "id": "f5d2c6c0-5ac3-4022-b294-693368cb5979",
   "metadata": {},
   "source": [
    "#### Galaxy @ 680nm, Flux 10^3 - 10^6"
   ]
  },
  {
   "cell_type": "code",
   "execution_count": null,
   "id": "5577cafe-77d3-40ef-842a-c97d8afd6cc5",
   "metadata": {
    "tags": []
   },
   "outputs": [],
   "source": [
    "# model atmospheric turbulence as a VonKarman, with some small shear\n",
    "#gprof = galsim.VonKarman(lam=1000.,r0=0.2,L0=10.0).shear(g1=0.06, g2=-0.05)\n",
    "\n",
    "# add 4.5 microns sigma of Gaussian to model diffusion\n",
    "# convert 4.5 microns to arcsec with factor 0.2\"/10micron \n",
    "pixscale = 0.2/10.e-6\n",
    "dprof = galsim.Gaussian(sigma=2.30677178e-6*pixscale)\n",
    "\n",
    "# Airy function to simulate diffraction through mask\n",
    "lam_over_diam = 0.00000475*(680./450.)  # radians\n",
    "lam_over_diam *= 206265  # Convert to arcsec\n",
    "airy = galsim.Airy(lam_over_diam)\n",
    "\n",
    "# Create a flat spectral energy density profile\n",
    "sed = galsim.SED('wave**1.0',wave_type=\"nm\", flux_type=\"1\")\n",
    "\n",
    "# Define the galaxy profile (returns instance of ChromaticObject)\n",
    "chromatic_obj = galsim.Convolve([dprof,airy]) * sed\n",
    "\n",
    "\n",
    "stamps = []\n",
    "for n in range(20):\n",
    "\n",
    "    # Select a single wavelength in nm (returns instance of GSObject)\n",
    "    prof = chromatic_obj.evaluateAtWavelength(680.0).withFlux(305180*.91893*1.08*.93*1.08*1.006*.95 * (n+1)*(1/1.25))\n",
    "\n",
    "    # add BF effect\n",
    "    #sensor = galsim.SiliconSensor(strength = 1.4, diffusion_factor=1.75, nrecalc=1000)\n",
    "    #sensor = galsim.SiliconSensor(strength = 1., diffusion_factor=1., nrecalc=1000)\n",
    "\n",
    "    # draw image\n",
    "    blank_image = galsim.Image(65*3,65*3,scale=0.2,xmin=0,ymin=0,dtype=np.float64)  \n",
    "    star_image1 = prof.drawImage(image=blank_image, offset=(-65.,0), scale=0.2, method=\"phot\", save_photons=True)\n",
    "    star_image2 = prof.drawImage(image=star_image1, offset=(-65.,65.), scale=0.2, method=\"phot\", save_photons=True,add_to_image=True)\n",
    "    star_image3 = prof.drawImage(image=star_image2, offset=(0,65.), scale=0.2, method=\"phot\", save_photons=True,add_to_image=True)\n",
    "    star_image4 = prof.drawImage(image=star_image3, offset=(65.,65.), scale=0.2, method=\"phot\", save_photons=True,add_to_image=True)\n",
    "    star_image5 = prof.drawImage(image=star_image4, offset=(65.,0), scale=0.2, method=\"phot\", save_photons=True,add_to_image=True)\n",
    "    star_image6 = prof.drawImage(image=star_image5, offset=(65.,-65), scale=0.2, method=\"phot\", save_photons=True,add_to_image=True)\n",
    "    star_image7 = prof.drawImage(image=star_image6, offset=(0,-65), scale=0.2, method=\"phot\", save_photons=True,add_to_image=True)\n",
    "    star_image8 = prof.drawImage(image=star_image7, offset=(-65.,-65.), scale=0.2, method=\"phot\", save_photons=True,add_to_image=True)\n",
    "    star_image = prof.drawImage(image=star_image8, scale=0.2, method=\"phot\", save_photons=True,add_to_image=True)\n",
    "\n",
    "    temp = galsim.Image(star_image, dtype=star_image.dtype, copy=True)\n",
    "\n",
    "    stamp = temp.subImage(galsim.BoundsI(temp.center.x - 33, temp.center.x + 33, temp.center.y - 33, temp.center.y + 33))\n",
    "    stamps.append(galsim.Image(stamp.array))\n",
    "\n",
    "\n",
    "# calculate HSM moments (these are in pixel coordinates)\n",
    "sigmas = []\n",
    "fluxes = []\n",
    "for stamp in stamps:\n",
    "    #mom = stamps[0].FindAdaptiveMom(weight=None, strict=False)\n",
    "    results = stamp.FindAdaptiveMom()\n",
    "    Ixx, Iyy, Ixy = calc2ndMom(results)\n",
    "    sigmas.append(Ixx)\n",
    "    fluxes.append(results.moments_amp)\n",
    "    \n",
    "    \n",
    "# plot it\n",
    "plt.figure(figsize=(8,6))\n",
    "plt.scatter(fluxes, sigmas)"
   ]
  },
  {
   "cell_type": "code",
   "execution_count": null,
   "id": "388f8cfa-e4cb-4517-886c-2a4b0a329ad5",
   "metadata": {},
   "outputs": [],
   "source": [
    "import sys\n",
    "import os\n",
    "import math\n",
    "import logging\n",
    "import galsim\n",
    "import numpy as np\n",
    "import matplotlib.pyplot as plt\n",
    "\n",
    "\"\"\"\n",
    "About as simple as it gets:\n",
    "  - Use a circular Gaussian profile for the galaxy.\n",
    "  - Convolve it by a circular Gaussian PSF.\n",
    "  - Add Gaussian noise to the image.\n",
    "\"\"\"\n",
    "gal_flux = 2.e5    # total counts on the image\n",
    "gal_sigma = 0.2     # arcsec\n",
    "pixel_scale = 0.2  # arcsec / pixel\n",
    "noise = 30.        # standard deviation of the counts in each pixel\n",
    "\n",
    "\n",
    "sensor = galsim.SiliconSensor(strength = 1.0, diffusion_factor=0.0, nrecalc=10000)\n",
    "new_params = galsim.hsm.HSMParams(max_mom2_iter=500)\n",
    "sed = galsim.SED('wave**1.0',wave_type=\"nm\", flux_type=\"1\")\n",
    "\n",
    "\n",
    "# Define the galaxy profile\n",
    "spectral_obj = galsim.Gaussian(flux=gal_flux, sigma=gal_sigma)*sed\n",
    "\n",
    "obj_680 = spectral_obj.evaluateAtWavelength(680.0)\n",
    "\n",
    "# Iterate over multpile fluxes\n",
    "sigmas_680 = []\n",
    "moments_xx_680 = []\n",
    "fluxes_680 = []\n",
    "peak_signal_680 = []\n",
    "for n in np.linspace(1000,1000000, 20):\n",
    "    obj = obj_680.withFlux(n)\n",
    "\n",
    "    # Draw the image with a particular pixel scale, given in arcsec/pixel.\n",
    "    # The returned image has a member, added_flux, which is gives the total flux actually added to\n",
    "    # the image.  One could use this value to check if the image is large enough for some desired\n",
    "    # accuracy level.  Here, we just ignore it.\n",
    "    image = obj.drawImage(scale=pixel_scale, method = \"phot\", sensor=sensor, save_photons=True)\n",
    "\n",
    "    # Add Gaussian noise to the image with specified sigma\n",
    "    #image.addNoise(galsim.GaussianNoise(sigma=noise))\n",
    "\n",
    "    results = image.FindAdaptiveMom()\n",
    "    Ixx, Iyy, Ixy = calc2ndMom(results)\n",
    "    moments_xx_680.append(Ixx)\n",
    "    peak_signal_680.append(np.max(np.ravel(image)))\n",
    "    sigmas_680.append(results.moments_sigma)\n",
    "    fluxes_680.append(n)"
   ]
  },
  {
   "cell_type": "markdown",
   "id": "14c33243-4267-4909-abab-fb80efe93e38",
   "metadata": {},
   "source": [
    "#### Galaxy @ 450nm, Flux 10^3 - 10^6"
   ]
  },
  {
   "cell_type": "code",
   "execution_count": null,
   "id": "131ad0e3-acf3-42bb-a4e9-00a1c5b16dc3",
   "metadata": {},
   "outputs": [],
   "source": [
    "import sys\n",
    "import os\n",
    "import math\n",
    "import logging\n",
    "import galsim\n",
    "import numpy as np\n",
    "import matplotlib.pyplot as plt\n",
    "\n",
    "\"\"\"\n",
    "About as simple as it gets:\n",
    "  - Use a circular Gaussian profile for the galaxy.\n",
    "  - Convolve it by a circular Gaussian PSF.\n",
    "  - Add Gaussian noise to the image.\n",
    "\"\"\"\n",
    "gal_flux = 2.e5    # total counts on the image\n",
    "gal_sigma = 0.2     # arcsec\n",
    "psf_sigma = 0.01     # arcsec\n",
    "pixel_scale = 0.2  # arcsec / pixel\n",
    "noise = 30.        # standard deviation of the counts in each pixel\n",
    "\n",
    "\n",
    "#sensor = galsim.SiliconSensor(strength = 1.0, diffusion_factor=1, nrecalc=10000)\n",
    "sed = galsim.SED('wave**1.0',wave_type=\"nm\", flux_type=\"1\")\n",
    "\n",
    "\n",
    "# Define the galaxy profile\n",
    "spectral_obj = galsim.Gaussian(flux=gal_flux, sigma=gal_sigma)*sed\n",
    "\n",
    "obj_450 = spectral_obj.evaluateAtWavelength(450.0)\n",
    "\n",
    "\n",
    "sigmas_450 = []\n",
    "moments_xx_450 = []\n",
    "fluxes_450 = []\n",
    "peak_signal_450 = []\n",
    "for n in np.linspace(1000,1000000, 20):\n",
    "    obj = obj_450.withFlux(n)\n",
    "\n",
    "    # Draw the image with a particular pixel scale, given in arcsec/pixel.\n",
    "    # The returned image has a member, added_flux, which is gives the total flux actually added to\n",
    "    # the image.  One could use this value to check if the image is large enough for some desired\n",
    "    # accuracy level.  Here, we just ignore it.\n",
    "    image = obj.drawImage(scale=pixel_scale, method = \"phot\", sensor=sensor, save_photons=True)\n",
    "\n",
    "    # Add Gaussian noise to the image with specified sigma\n",
    "    #image.addNoise(galsim.GaussianNoise(sigma=noise))\n",
    "\n",
    "    results = image.FindAdaptiveMom()\n",
    "    Ixx, Iyy, Ixy = calc2ndMom(results)\n",
    "    moments_xx_450.append(Ixx)\n",
    "    peak_signal_450.append(np.max(np.ravel(image)))\n",
    "    sigmas_450.append(results.moments_sigma)\n",
    "    fluxes_450.append(n)\n"
   ]
  },
  {
   "cell_type": "markdown",
   "id": "df2b30c0-7fe8-4889-b2e5-7412319f41a2",
   "metadata": {},
   "source": [
    "#### Galaxy @ 1050nm, Flux 10^3 - 10^6"
   ]
  },
  {
   "cell_type": "code",
   "execution_count": null,
   "id": "82d8a3fd-2382-4586-a470-aa7d3bbeb066",
   "metadata": {},
   "outputs": [],
   "source": [
    "import sys\n",
    "import os\n",
    "import math\n",
    "import logging\n",
    "import galsim\n",
    "import numpy as np\n",
    "import matplotlib.pyplot as plt\n",
    "\n",
    "\"\"\"\n",
    "About as simple as it gets:\n",
    "  - Use a circular Gaussian profile for the galaxy.\n",
    "  - Convolve it by a circular Gaussian PSF.\n",
    "  - Add Gaussian noise to the image.\n",
    "\"\"\"\n",
    "gal_flux = 2.e5    # total counts on the image\n",
    "gal_sigma = 0.2     # arcsec\n",
    "psf_sigma = 0.01     # arcsec\n",
    "pixel_scale = 0.2  # arcsec / pixel\n",
    "noise = 30.        # standard deviation of the counts in each pixel\n",
    "\n",
    "\n",
    "#sensor = galsim.SiliconSensor(strength = 1.0, diffusion_factor=1, nrecalc=10000)\n",
    "sed = galsim.SED('wave**1.0',wave_type=\"nm\", flux_type=\"1\")\n",
    "\n",
    "\n",
    "# Define the galaxy profile\n",
    "spectral_obj = galsim.Gaussian(flux=gal_flux, sigma=gal_sigma)*sed\n",
    "\n",
    "obj_1050 = spectral_obj.evaluateAtWavelength(1050.0)\n",
    "\n",
    "\n",
    "sigmas_1050 = []\n",
    "moments_xx_1050 = []\n",
    "fluxes_1050 = []\n",
    "peak_signal_1050 = []\n",
    "for n in np.linspace(1000,1000000, 20):\n",
    "    obj = obj_1050.withFlux(n)\n",
    "\n",
    "    # Draw the image with a particular pixel scale, given in arcsec/pixel.\n",
    "    # The returned image has a member, added_flux, which is gives the total flux actually added to\n",
    "    # the image.  One could use this value to check if the image is large enough for some desired\n",
    "    # accuracy level.  Here, we just ignore it.\n",
    "    image = obj.drawImage(scale=pixel_scale, method = \"phot\", sensor=sensor, save_photons=True)\n",
    "\n",
    "    # Add Gaussian noise to the image with specified sigma\n",
    "    #image.addNoise(galsim.GaussianNoise(sigma=noise))\n",
    "\n",
    "    results = image.FindAdaptiveMom(hsmparams=new_params)\n",
    "    Ixx, Iyy, Ixy = calc2ndMom(results)\n",
    "    moments_xx_1050.append(Ixx)\n",
    "    peak_signal_1050.append(np.max(np.ravel(image)))\n",
    "    sigmas_1050.append(results.moments_sigma)\n",
    "    fluxes_1050.append(n)\n",
    "\n"
   ]
  },
  {
   "cell_type": "markdown",
   "id": "a3be0bef-dcd1-428e-8053-15d1f241edc3",
   "metadata": {},
   "source": [
    "#### Galaxy @ 365nm, Flux 10^3 - 10^6"
   ]
  },
  {
   "cell_type": "code",
   "execution_count": 4,
   "id": "cf19c42c-55d5-4b2e-94dc-bfa32b250efc",
   "metadata": {},
   "outputs": [
    {
     "ename": "NameError",
     "evalue": "name 'sensor' is not defined",
     "output_type": "error",
     "traceback": [
      "\u001b[0;31m---------------------------------------------------------------------------\u001b[0m",
      "\u001b[0;31mNameError\u001b[0m                                 Traceback (most recent call last)",
      "Input \u001b[0;32mIn [4]\u001b[0m, in \u001b[0;36m<cell line: 36>\u001b[0;34m()\u001b[0m\n\u001b[1;32m     37\u001b[0m obj \u001b[38;5;241m=\u001b[39m obj_365\u001b[38;5;241m.\u001b[39mwithFlux(n)\n\u001b[1;32m     39\u001b[0m \u001b[38;5;66;03m# Draw the image with a particular pixel scale, given in arcsec/pixel.\u001b[39;00m\n\u001b[1;32m     40\u001b[0m \u001b[38;5;66;03m# The returned image has a member, added_flux, which is gives the total flux actually added to\u001b[39;00m\n\u001b[1;32m     41\u001b[0m \u001b[38;5;66;03m# the image.  One could use this value to check if the image is large enough for some desired\u001b[39;00m\n\u001b[1;32m     42\u001b[0m \u001b[38;5;66;03m# accuracy level.  Here, we just ignore it.\u001b[39;00m\n\u001b[0;32m---> 43\u001b[0m image \u001b[38;5;241m=\u001b[39m obj\u001b[38;5;241m.\u001b[39mdrawImage(scale\u001b[38;5;241m=\u001b[39mpixel_scale, method \u001b[38;5;241m=\u001b[39m \u001b[38;5;124m\"\u001b[39m\u001b[38;5;124mphot\u001b[39m\u001b[38;5;124m\"\u001b[39m, sensor\u001b[38;5;241m=\u001b[39m\u001b[43msensor\u001b[49m, save_photons\u001b[38;5;241m=\u001b[39m\u001b[38;5;28;01mTrue\u001b[39;00m)\n\u001b[1;32m     45\u001b[0m \u001b[38;5;66;03m# Add Gaussian noise to the image with specified sigma\u001b[39;00m\n\u001b[1;32m     46\u001b[0m image\u001b[38;5;241m.\u001b[39maddNoise(galsim\u001b[38;5;241m.\u001b[39mGaussianNoise(sigma\u001b[38;5;241m=\u001b[39mnoise))\n",
      "\u001b[0;31mNameError\u001b[0m: name 'sensor' is not defined"
     ]
    }
   ],
   "source": [
    "import sys\n",
    "import os\n",
    "import math\n",
    "import logging\n",
    "import galsim\n",
    "import numpy as np\n",
    "import matplotlib.pyplot as plt\n",
    "\n",
    "\"\"\"\n",
    "About as simple as it gets:\n",
    "  - Use a circular Gaussian profile for the galaxy.\n",
    "  - Convolve it by a circular Gaussian PSF.\n",
    "  - Add Gaussian noise to the image.\n",
    "\"\"\"\n",
    "gal_flux = 2.e5    # total counts on the image\n",
    "gal_sigma = 0.2     # arcsec\n",
    "psf_sigma = 0.01     # arcsec\n",
    "pixel_scale = 0.2  # arcsec / pixel\n",
    "noise = 30.        # standard deviation of the counts in each pixel\n",
    "\n",
    "\n",
    "#sensor = galsim.SiliconSensor(strength = 1.0, diffusion_factor=1, nrecalc=10000)\n",
    "sed = galsim.SED('wave**1.0',wave_type=\"nm\", flux_type=\"1\")\n",
    "\n",
    "\n",
    "# Define the galaxy profile\n",
    "spectral_obj = galsim.Gaussian(flux=gal_flux, sigma=gal_sigma)*sed\n",
    "\n",
    "obj_365 = spectral_obj.evaluateAtWavelength(365.0)\n",
    "\n",
    "\n",
    "sigmas_365 = []\n",
    "moments_xx_365 = []\n",
    "fluxes_365 = []\n",
    "peak_signal_365 = []\n",
    "for n in np.linspace(1000,1000000, 20):\n",
    "    obj = obj_365.withFlux(n)\n",
    "\n",
    "    # Draw the image with a particular pixel scale, given in arcsec/pixel.\n",
    "    # The returned image has a member, added_flux, which is gives the total flux actually added to\n",
    "    # the image.  One could use this value to check if the image is large enough for some desired\n",
    "    # accuracy level.  Here, we just ignore it.\n",
    "    image = obj.drawImage(scale=pixel_scale, method = \"phot\", sensor=sensor, save_photons=True)\n",
    "\n",
    "    # Add Gaussian noise to the image with specified sigma\n",
    "    image.addNoise(galsim.GaussianNoise(sigma=noise))\n",
    "\n",
    "    results = image.FindAdaptiveMom(hsmparams=new_params)\n",
    "    Ixx, Iyy, Ixy = calc2ndMom(results)\n",
    "    moments_xx_365.append(Ixx)\n",
    "    peak_signal_365.append(np.max(np.ravel(image)))\n",
    "    sigmas_365.append(results.moments_sigma)\n",
    "    fluxes_365.append(n)\n"
   ]
  },
  {
   "cell_type": "markdown",
   "id": "75167f7c-d8be-4fd0-b368-473f5513b9ea",
   "metadata": {},
   "source": [
    "### Plot it "
   ]
  },
  {
   "cell_type": "code",
   "execution_count": null,
   "id": "a79a4476-fb4a-40ac-9f75-efa312af1d1d",
   "metadata": {},
   "outputs": [],
   "source": [
    "plt.figure(figsize=(10,8))\n",
    "plt.scatter(fluxes_680[1:-1], moments_xx_680[1:-1], color=\"orange\")\n",
    "plt.scatter(fluxes_365[1:-1], moments_xx_365[1:-1], color =\"b\")\n",
    "plt.scatter(fluxes_450[1:-1], moments_xx_450[1:-1], color =\"g\")\n",
    "plt.scatter(fluxes_1050[1:-1], moments_xx_1050[1:-1], color=\"r\")\n",
    "\n",
    "m_680,b_680 = np.polyfit(fluxes_680[1:-1],moments_xx_680[1:-1],deg=1)\n",
    "m_365,b_365 = np.polyfit(fluxes_365[1:-1],moments_xx_365[1:-1],deg=1)\n",
    "m_450,b_450 = np.polyfit(fluxes_450[1:-1],moments_xx_450[1:-1],deg=1)\n",
    "m_1050,b_1050 = np.polyfit(fluxes_1050[1:-1],moments_xx_1050[1:-1],deg=1)\n",
    "plt.plot(np.linspace(1000,1000000,20), m_365 * np.linspace(1000,1000000,20) + b_365, \"b\", label=\"365nm\")\n",
    "plt.plot(np.linspace(1000,1000000,20), m_450 * np.linspace(1000,1000000,20) + b_450, \"g\", label=\"450nm\")\n",
    "plt.plot(np.linspace(1000,1000000,20), m_680 * np.linspace(1000,1000000,20) + b_680, \"orange\", label=\"680nm\")\n",
    "plt.plot(np.linspace(1000,1000000,20), m_1050 * np.linspace(1000,1000000,20) + b_1050, \"r\", label=\"1050nm\")\n",
    "\n",
    "plt.xlabel(\"Total Flux (e-)\")\n",
    "plt.ylabel(\"Ixx\")"
   ]
  },
  {
   "cell_type": "code",
   "execution_count": 11,
   "id": "98803fa4-1575-47d6-8c56-598acec0235c",
   "metadata": {},
   "outputs": [
    {
     "ename": "ValueError",
     "evalue": "setting an array element with a sequence.",
     "output_type": "error",
     "traceback": [
      "\u001b[0;31m---------------------------------------------------------------------------\u001b[0m",
      "\u001b[0;31mTypeError\u001b[0m                                 Traceback (most recent call last)",
      "\u001b[0;31mTypeError\u001b[0m: float() argument must be a string or a number, not 'Image'",
      "\nThe above exception was the direct cause of the following exception:\n",
      "\u001b[0;31mValueError\u001b[0m                                Traceback (most recent call last)",
      "Input \u001b[0;32mIn [11]\u001b[0m, in \u001b[0;36m<cell line: 2>\u001b[0;34m()\u001b[0m\n\u001b[1;32m      1\u001b[0m plt\u001b[38;5;241m.\u001b[39mfigure(figsize\u001b[38;5;241m=\u001b[39m(\u001b[38;5;241m10\u001b[39m,\u001b[38;5;241m8\u001b[39m))\n\u001b[0;32m----> 2\u001b[0m \u001b[43mplt\u001b[49m\u001b[38;5;241;43m.\u001b[39;49m\u001b[43mscatter\u001b[49m\u001b[43m(\u001b[49m\u001b[43mpeak_signal_680\u001b[49m\u001b[43m[\u001b[49m\u001b[38;5;241;43m1\u001b[39;49m\u001b[43m:\u001b[49m\u001b[38;5;241;43m-\u001b[39;49m\u001b[38;5;241;43m1\u001b[39;49m\u001b[43m]\u001b[49m\u001b[43m,\u001b[49m\u001b[43m \u001b[49m\u001b[43mmoments_xx_680\u001b[49m\u001b[43m[\u001b[49m\u001b[38;5;241;43m1\u001b[39;49m\u001b[43m:\u001b[49m\u001b[38;5;241;43m-\u001b[39;49m\u001b[38;5;241;43m1\u001b[39;49m\u001b[43m]\u001b[49m\u001b[43m,\u001b[49m\u001b[43m \u001b[49m\u001b[43mcolor\u001b[49m\u001b[38;5;241;43m=\u001b[39;49m\u001b[38;5;124;43m\"\u001b[39;49m\u001b[38;5;124;43morange\u001b[39;49m\u001b[38;5;124;43m\"\u001b[39;49m\u001b[43m)\u001b[49m\n\u001b[1;32m      3\u001b[0m plt\u001b[38;5;241m.\u001b[39mscatter(peak_signal_365[\u001b[38;5;241m1\u001b[39m:\u001b[38;5;241m-\u001b[39m\u001b[38;5;241m1\u001b[39m], moments_xx_365[\u001b[38;5;241m1\u001b[39m:\u001b[38;5;241m-\u001b[39m\u001b[38;5;241m1\u001b[39m], color \u001b[38;5;241m=\u001b[39m\u001b[38;5;124m\"\u001b[39m\u001b[38;5;124mb\u001b[39m\u001b[38;5;124m\"\u001b[39m)\n\u001b[1;32m      4\u001b[0m plt\u001b[38;5;241m.\u001b[39mscatter(peak_signal_450[\u001b[38;5;241m1\u001b[39m:\u001b[38;5;241m-\u001b[39m\u001b[38;5;241m1\u001b[39m], moments_xx_450[\u001b[38;5;241m1\u001b[39m:\u001b[38;5;241m-\u001b[39m\u001b[38;5;241m1\u001b[39m], color \u001b[38;5;241m=\u001b[39m\u001b[38;5;124m\"\u001b[39m\u001b[38;5;124mg\u001b[39m\u001b[38;5;124m\"\u001b[39m)\n",
      "File \u001b[0;32m/cvmfs/sw.lsst.eu/linux-x86_64/lsst_distrib/w_2022_14/conda/envs/lsst-scipipe-3.0.0-ext/lib/python3.8/site-packages/matplotlib/pyplot.py:2807\u001b[0m, in \u001b[0;36mscatter\u001b[0;34m(x, y, s, c, marker, cmap, norm, vmin, vmax, alpha, linewidths, edgecolors, plotnonfinite, data, **kwargs)\u001b[0m\n\u001b[1;32m   2802\u001b[0m \u001b[38;5;129m@_copy_docstring_and_deprecators\u001b[39m(Axes\u001b[38;5;241m.\u001b[39mscatter)\n\u001b[1;32m   2803\u001b[0m \u001b[38;5;28;01mdef\u001b[39;00m \u001b[38;5;21mscatter\u001b[39m(\n\u001b[1;32m   2804\u001b[0m         x, y, s\u001b[38;5;241m=\u001b[39m\u001b[38;5;28;01mNone\u001b[39;00m, c\u001b[38;5;241m=\u001b[39m\u001b[38;5;28;01mNone\u001b[39;00m, marker\u001b[38;5;241m=\u001b[39m\u001b[38;5;28;01mNone\u001b[39;00m, cmap\u001b[38;5;241m=\u001b[39m\u001b[38;5;28;01mNone\u001b[39;00m, norm\u001b[38;5;241m=\u001b[39m\u001b[38;5;28;01mNone\u001b[39;00m,\n\u001b[1;32m   2805\u001b[0m         vmin\u001b[38;5;241m=\u001b[39m\u001b[38;5;28;01mNone\u001b[39;00m, vmax\u001b[38;5;241m=\u001b[39m\u001b[38;5;28;01mNone\u001b[39;00m, alpha\u001b[38;5;241m=\u001b[39m\u001b[38;5;28;01mNone\u001b[39;00m, linewidths\u001b[38;5;241m=\u001b[39m\u001b[38;5;28;01mNone\u001b[39;00m, \u001b[38;5;241m*\u001b[39m,\n\u001b[1;32m   2806\u001b[0m         edgecolors\u001b[38;5;241m=\u001b[39m\u001b[38;5;28;01mNone\u001b[39;00m, plotnonfinite\u001b[38;5;241m=\u001b[39m\u001b[38;5;28;01mFalse\u001b[39;00m, data\u001b[38;5;241m=\u001b[39m\u001b[38;5;28;01mNone\u001b[39;00m, \u001b[38;5;241m*\u001b[39m\u001b[38;5;241m*\u001b[39mkwargs):\n\u001b[0;32m-> 2807\u001b[0m     __ret \u001b[38;5;241m=\u001b[39m \u001b[43mgca\u001b[49m\u001b[43m(\u001b[49m\u001b[43m)\u001b[49m\u001b[38;5;241;43m.\u001b[39;49m\u001b[43mscatter\u001b[49m\u001b[43m(\u001b[49m\n\u001b[1;32m   2808\u001b[0m \u001b[43m        \u001b[49m\u001b[43mx\u001b[49m\u001b[43m,\u001b[49m\u001b[43m \u001b[49m\u001b[43my\u001b[49m\u001b[43m,\u001b[49m\u001b[43m \u001b[49m\u001b[43ms\u001b[49m\u001b[38;5;241;43m=\u001b[39;49m\u001b[43ms\u001b[49m\u001b[43m,\u001b[49m\u001b[43m \u001b[49m\u001b[43mc\u001b[49m\u001b[38;5;241;43m=\u001b[39;49m\u001b[43mc\u001b[49m\u001b[43m,\u001b[49m\u001b[43m \u001b[49m\u001b[43mmarker\u001b[49m\u001b[38;5;241;43m=\u001b[39;49m\u001b[43mmarker\u001b[49m\u001b[43m,\u001b[49m\u001b[43m \u001b[49m\u001b[43mcmap\u001b[49m\u001b[38;5;241;43m=\u001b[39;49m\u001b[43mcmap\u001b[49m\u001b[43m,\u001b[49m\u001b[43m \u001b[49m\u001b[43mnorm\u001b[49m\u001b[38;5;241;43m=\u001b[39;49m\u001b[43mnorm\u001b[49m\u001b[43m,\u001b[49m\n\u001b[1;32m   2809\u001b[0m \u001b[43m        \u001b[49m\u001b[43mvmin\u001b[49m\u001b[38;5;241;43m=\u001b[39;49m\u001b[43mvmin\u001b[49m\u001b[43m,\u001b[49m\u001b[43m \u001b[49m\u001b[43mvmax\u001b[49m\u001b[38;5;241;43m=\u001b[39;49m\u001b[43mvmax\u001b[49m\u001b[43m,\u001b[49m\u001b[43m \u001b[49m\u001b[43malpha\u001b[49m\u001b[38;5;241;43m=\u001b[39;49m\u001b[43malpha\u001b[49m\u001b[43m,\u001b[49m\u001b[43m \u001b[49m\u001b[43mlinewidths\u001b[49m\u001b[38;5;241;43m=\u001b[39;49m\u001b[43mlinewidths\u001b[49m\u001b[43m,\u001b[49m\n\u001b[1;32m   2810\u001b[0m \u001b[43m        \u001b[49m\u001b[43medgecolors\u001b[49m\u001b[38;5;241;43m=\u001b[39;49m\u001b[43medgecolors\u001b[49m\u001b[43m,\u001b[49m\u001b[43m \u001b[49m\u001b[43mplotnonfinite\u001b[49m\u001b[38;5;241;43m=\u001b[39;49m\u001b[43mplotnonfinite\u001b[49m\u001b[43m,\u001b[49m\n\u001b[1;32m   2811\u001b[0m \u001b[43m        \u001b[49m\u001b[38;5;241;43m*\u001b[39;49m\u001b[38;5;241;43m*\u001b[39;49m\u001b[43m(\u001b[49m\u001b[43m{\u001b[49m\u001b[38;5;124;43m\"\u001b[39;49m\u001b[38;5;124;43mdata\u001b[39;49m\u001b[38;5;124;43m\"\u001b[39;49m\u001b[43m:\u001b[49m\u001b[43m \u001b[49m\u001b[43mdata\u001b[49m\u001b[43m}\u001b[49m\u001b[43m \u001b[49m\u001b[38;5;28;43;01mif\u001b[39;49;00m\u001b[43m \u001b[49m\u001b[43mdata\u001b[49m\u001b[43m \u001b[49m\u001b[38;5;129;43;01mis\u001b[39;49;00m\u001b[43m \u001b[49m\u001b[38;5;129;43;01mnot\u001b[39;49;00m\u001b[43m \u001b[49m\u001b[38;5;28;43;01mNone\u001b[39;49;00m\u001b[43m \u001b[49m\u001b[38;5;28;43;01melse\u001b[39;49;00m\u001b[43m \u001b[49m\u001b[43m{\u001b[49m\u001b[43m}\u001b[49m\u001b[43m)\u001b[49m\u001b[43m,\u001b[49m\u001b[43m \u001b[49m\u001b[38;5;241;43m*\u001b[39;49m\u001b[38;5;241;43m*\u001b[39;49m\u001b[43mkwargs\u001b[49m\u001b[43m)\u001b[49m\n\u001b[1;32m   2812\u001b[0m     sci(__ret)\n\u001b[1;32m   2813\u001b[0m     \u001b[38;5;28;01mreturn\u001b[39;00m __ret\n",
      "File \u001b[0;32m/cvmfs/sw.lsst.eu/linux-x86_64/lsst_distrib/w_2022_14/conda/envs/lsst-scipipe-3.0.0-ext/lib/python3.8/site-packages/matplotlib/__init__.py:1412\u001b[0m, in \u001b[0;36m_preprocess_data.<locals>.inner\u001b[0;34m(ax, data, *args, **kwargs)\u001b[0m\n\u001b[1;32m   1409\u001b[0m \u001b[38;5;129m@functools\u001b[39m\u001b[38;5;241m.\u001b[39mwraps(func)\n\u001b[1;32m   1410\u001b[0m \u001b[38;5;28;01mdef\u001b[39;00m \u001b[38;5;21minner\u001b[39m(ax, \u001b[38;5;241m*\u001b[39margs, data\u001b[38;5;241m=\u001b[39m\u001b[38;5;28;01mNone\u001b[39;00m, \u001b[38;5;241m*\u001b[39m\u001b[38;5;241m*\u001b[39mkwargs):\n\u001b[1;32m   1411\u001b[0m     \u001b[38;5;28;01mif\u001b[39;00m data \u001b[38;5;129;01mis\u001b[39;00m \u001b[38;5;28;01mNone\u001b[39;00m:\n\u001b[0;32m-> 1412\u001b[0m         \u001b[38;5;28;01mreturn\u001b[39;00m \u001b[43mfunc\u001b[49m\u001b[43m(\u001b[49m\u001b[43max\u001b[49m\u001b[43m,\u001b[49m\u001b[43m \u001b[49m\u001b[38;5;241;43m*\u001b[39;49m\u001b[38;5;28;43mmap\u001b[39;49m\u001b[43m(\u001b[49m\u001b[43msanitize_sequence\u001b[49m\u001b[43m,\u001b[49m\u001b[43m \u001b[49m\u001b[43margs\u001b[49m\u001b[43m)\u001b[49m\u001b[43m,\u001b[49m\u001b[43m \u001b[49m\u001b[38;5;241;43m*\u001b[39;49m\u001b[38;5;241;43m*\u001b[39;49m\u001b[43mkwargs\u001b[49m\u001b[43m)\u001b[49m\n\u001b[1;32m   1414\u001b[0m     bound \u001b[38;5;241m=\u001b[39m new_sig\u001b[38;5;241m.\u001b[39mbind(ax, \u001b[38;5;241m*\u001b[39margs, \u001b[38;5;241m*\u001b[39m\u001b[38;5;241m*\u001b[39mkwargs)\n\u001b[1;32m   1415\u001b[0m     auto_label \u001b[38;5;241m=\u001b[39m (bound\u001b[38;5;241m.\u001b[39marguments\u001b[38;5;241m.\u001b[39mget(label_namer)\n\u001b[1;32m   1416\u001b[0m                   \u001b[38;5;129;01mor\u001b[39;00m bound\u001b[38;5;241m.\u001b[39mkwargs\u001b[38;5;241m.\u001b[39mget(label_namer))\n",
      "File \u001b[0;32m/cvmfs/sw.lsst.eu/linux-x86_64/lsst_distrib/w_2022_14/conda/envs/lsst-scipipe-3.0.0-ext/lib/python3.8/site-packages/matplotlib/axes/_axes.py:4458\u001b[0m, in \u001b[0;36mAxes.scatter\u001b[0;34m(self, x, y, s, c, marker, cmap, norm, vmin, vmax, alpha, linewidths, edgecolors, plotnonfinite, **kwargs)\u001b[0m\n\u001b[1;32m   4452\u001b[0m         linewidths \u001b[38;5;241m=\u001b[39m [\n\u001b[1;32m   4453\u001b[0m             lw \u001b[38;5;28;01mif\u001b[39;00m lw \u001b[38;5;129;01mis\u001b[39;00m \u001b[38;5;129;01mnot\u001b[39;00m \u001b[38;5;28;01mNone\u001b[39;00m \u001b[38;5;28;01melse\u001b[39;00m rcParams[\u001b[38;5;124m'\u001b[39m\u001b[38;5;124mlines.linewidth\u001b[39m\u001b[38;5;124m'\u001b[39m]\n\u001b[1;32m   4454\u001b[0m             \u001b[38;5;28;01mfor\u001b[39;00m lw \u001b[38;5;129;01min\u001b[39;00m linewidths]\n\u001b[1;32m   4456\u001b[0m offsets \u001b[38;5;241m=\u001b[39m np\u001b[38;5;241m.\u001b[39mma\u001b[38;5;241m.\u001b[39mcolumn_stack([x, y])\n\u001b[0;32m-> 4458\u001b[0m collection \u001b[38;5;241m=\u001b[39m \u001b[43mmcoll\u001b[49m\u001b[38;5;241;43m.\u001b[39;49m\u001b[43mPathCollection\u001b[49m\u001b[43m(\u001b[49m\n\u001b[1;32m   4459\u001b[0m \u001b[43m        \u001b[49m\u001b[43m(\u001b[49m\u001b[43mpath\u001b[49m\u001b[43m,\u001b[49m\u001b[43m)\u001b[49m\u001b[43m,\u001b[49m\u001b[43m \u001b[49m\u001b[43mscales\u001b[49m\u001b[43m,\u001b[49m\n\u001b[1;32m   4460\u001b[0m \u001b[43m        \u001b[49m\u001b[43mfacecolors\u001b[49m\u001b[38;5;241;43m=\u001b[39;49m\u001b[43mcolors\u001b[49m\u001b[43m,\u001b[49m\n\u001b[1;32m   4461\u001b[0m \u001b[43m        \u001b[49m\u001b[43medgecolors\u001b[49m\u001b[38;5;241;43m=\u001b[39;49m\u001b[43medgecolors\u001b[49m\u001b[43m,\u001b[49m\n\u001b[1;32m   4462\u001b[0m \u001b[43m        \u001b[49m\u001b[43mlinewidths\u001b[49m\u001b[38;5;241;43m=\u001b[39;49m\u001b[43mlinewidths\u001b[49m\u001b[43m,\u001b[49m\n\u001b[1;32m   4463\u001b[0m \u001b[43m        \u001b[49m\u001b[43moffsets\u001b[49m\u001b[38;5;241;43m=\u001b[39;49m\u001b[43moffsets\u001b[49m\u001b[43m,\u001b[49m\n\u001b[1;32m   4464\u001b[0m \u001b[43m        \u001b[49m\u001b[43mtransOffset\u001b[49m\u001b[38;5;241;43m=\u001b[39;49m\u001b[43mkwargs\u001b[49m\u001b[38;5;241;43m.\u001b[39;49m\u001b[43mpop\u001b[49m\u001b[43m(\u001b[49m\u001b[38;5;124;43m'\u001b[39;49m\u001b[38;5;124;43mtransform\u001b[39;49m\u001b[38;5;124;43m'\u001b[39;49m\u001b[43m,\u001b[49m\u001b[43m \u001b[49m\u001b[38;5;28;43mself\u001b[39;49m\u001b[38;5;241;43m.\u001b[39;49m\u001b[43mtransData\u001b[49m\u001b[43m)\u001b[49m\u001b[43m,\u001b[49m\n\u001b[1;32m   4465\u001b[0m \u001b[43m        \u001b[49m\u001b[43malpha\u001b[49m\u001b[38;5;241;43m=\u001b[39;49m\u001b[43malpha\u001b[49m\n\u001b[1;32m   4466\u001b[0m \u001b[43m        \u001b[49m\u001b[43m)\u001b[49m\n\u001b[1;32m   4467\u001b[0m collection\u001b[38;5;241m.\u001b[39mset_transform(mtransforms\u001b[38;5;241m.\u001b[39mIdentityTransform())\n\u001b[1;32m   4468\u001b[0m collection\u001b[38;5;241m.\u001b[39mupdate(kwargs)\n",
      "File \u001b[0;32m/cvmfs/sw.lsst.eu/linux-x86_64/lsst_distrib/w_2022_14/conda/envs/lsst-scipipe-3.0.0-ext/lib/python3.8/site-packages/matplotlib/collections.py:1013\u001b[0m, in \u001b[0;36mPathCollection.__init__\u001b[0;34m(self, paths, sizes, **kwargs)\u001b[0m\n\u001b[1;32m    999\u001b[0m \u001b[38;5;28;01mdef\u001b[39;00m \u001b[38;5;21m__init__\u001b[39m(\u001b[38;5;28mself\u001b[39m, paths, sizes\u001b[38;5;241m=\u001b[39m\u001b[38;5;28;01mNone\u001b[39;00m, \u001b[38;5;241m*\u001b[39m\u001b[38;5;241m*\u001b[39mkwargs):\n\u001b[1;32m   1000\u001b[0m     \u001b[38;5;124;03m\"\"\"\u001b[39;00m\n\u001b[1;32m   1001\u001b[0m \u001b[38;5;124;03m    Parameters\u001b[39;00m\n\u001b[1;32m   1002\u001b[0m \u001b[38;5;124;03m    ----------\u001b[39;00m\n\u001b[0;32m   (...)\u001b[0m\n\u001b[1;32m   1010\u001b[0m \u001b[38;5;124;03m        Forwarded to `.Collection`.\u001b[39;00m\n\u001b[1;32m   1011\u001b[0m \u001b[38;5;124;03m    \"\"\"\u001b[39;00m\n\u001b[0;32m-> 1013\u001b[0m     \u001b[38;5;28;43msuper\u001b[39;49m\u001b[43m(\u001b[49m\u001b[43m)\u001b[49m\u001b[38;5;241;43m.\u001b[39;49m\u001b[38;5;21;43m__init__\u001b[39;49m\u001b[43m(\u001b[49m\u001b[38;5;241;43m*\u001b[39;49m\u001b[38;5;241;43m*\u001b[39;49m\u001b[43mkwargs\u001b[49m\u001b[43m)\u001b[49m\n\u001b[1;32m   1014\u001b[0m     \u001b[38;5;28mself\u001b[39m\u001b[38;5;241m.\u001b[39mset_paths(paths)\n\u001b[1;32m   1015\u001b[0m     \u001b[38;5;28mself\u001b[39m\u001b[38;5;241m.\u001b[39mset_sizes(sizes)\n",
      "File \u001b[0;32m/cvmfs/sw.lsst.eu/linux-x86_64/lsst_distrib/w_2022_14/conda/envs/lsst-scipipe-3.0.0-ext/lib/python3.8/site-packages/matplotlib/collections.py:200\u001b[0m, in \u001b[0;36mCollection.__init__\u001b[0;34m(self, edgecolors, facecolors, linewidths, linestyles, capstyle, joinstyle, antialiaseds, offsets, transOffset, norm, cmap, pickradius, hatch, urls, zorder, **kwargs)\u001b[0m\n\u001b[1;32m    197\u001b[0m \u001b[38;5;28mself\u001b[39m\u001b[38;5;241m.\u001b[39m_offsets \u001b[38;5;241m=\u001b[39m np\u001b[38;5;241m.\u001b[39mzeros((\u001b[38;5;241m1\u001b[39m, \u001b[38;5;241m2\u001b[39m))\n\u001b[1;32m    199\u001b[0m \u001b[38;5;28;01mif\u001b[39;00m offsets \u001b[38;5;129;01mis\u001b[39;00m \u001b[38;5;129;01mnot\u001b[39;00m \u001b[38;5;28;01mNone\u001b[39;00m:\n\u001b[0;32m--> 200\u001b[0m     offsets \u001b[38;5;241m=\u001b[39m \u001b[43mnp\u001b[49m\u001b[38;5;241;43m.\u001b[39;49m\u001b[43masanyarray\u001b[49m\u001b[43m(\u001b[49m\u001b[43moffsets\u001b[49m\u001b[43m,\u001b[49m\u001b[43m \u001b[49m\u001b[38;5;28;43mfloat\u001b[39;49m\u001b[43m)\u001b[49m\n\u001b[1;32m    201\u001b[0m     \u001b[38;5;66;03m# Broadcast (2,) -> (1, 2) but nothing else.\u001b[39;00m\n\u001b[1;32m    202\u001b[0m     \u001b[38;5;28;01mif\u001b[39;00m offsets\u001b[38;5;241m.\u001b[39mshape \u001b[38;5;241m==\u001b[39m (\u001b[38;5;241m2\u001b[39m,):\n",
      "\u001b[0;31mValueError\u001b[0m: setting an array element with a sequence."
     ]
    },
    {
     "data": {
      "image/png": "[encoded data removed]",
      "text/plain": [
       "<Figure size 720x576 with 1 Axes>"
      ]
     },
     "metadata": {
      "needs_background": "light"
     },
     "output_type": "display_data"
    }
   ],
   "source": [
    "plt.figure(figsize=(10,8))\n",
    "plt.scatter(peak_signal_680[1:-1], moments_xx_680[1:-1], color=\"orange\")\n",
    "plt.scatter(peak_signal_365[1:-1], moments_xx_365[1:-1], color =\"b\")\n",
    "plt.scatter(peak_signal_450[1:-1], moments_xx_450[1:-1], color =\"g\")\n",
    "plt.scatter(peak_signal_1050[1:-1], moments_xx_1050[1:-1], color=\"r\")\n",
    "\n",
    "m_680,b_680 = np.polyfit(peak_signal_680[1:-1],moments_xx_680[1:-1],deg=1)\n",
    "m_365,b_365 = np.polyfit(peak_signal_365[1:-1],moments_xx_365[1:-1],deg=1)\n",
    "m_450,b_450 = np.polyfit(peak_signal_450[1:-1],moments_xx_450[1:-1],deg=1)\n",
    "m_1050,b_1050 = np.polyfit(peak_signal_1050[1:-1],moments_xx_1050[1:-1],deg=1)\n",
    "plt.plot(np.linspace(1000,1000000,20), m_365 * np.linspace(1000,1000000,20) + b_365, \"b\", label=\"365nm\")\n",
    "plt.plot(np.linspace(1000,1000000,20), m_450 * np.linspace(1000,1000000,20) + b_450, \"g\", label=\"450nm\")\n",
    "plt.plot(np.linspace(1000,1000000,20), m_680 * np.linspace(1000,1000000,20) + b_680, \"orange\", label=\"680nm\")\n",
    "plt.plot(np.linspace(1000,1000000,20), m_1050 * np.linspace(1000,1000000,20) + b_1050, \"r\", label=\"1050nm\")\n",
    "\n",
    "plt.xlabel(\"Peak Signal (e-)\")\n",
    "plt.ylabel(\"Ixx\")"
   ]
  },
  {
   "cell_type": "code",
   "execution_count": 7,
   "id": "f5fa92a6-d43f-4e1b-bf32-01ddde9a9f73",
   "metadata": {},
   "outputs": [
    {
     "ename": "NameError",
     "evalue": "name 'm_365' is not defined",
     "output_type": "error",
     "traceback": [
      "\u001b[0;31m---------------------------------------------------------------------------\u001b[0m",
      "\u001b[0;31mNameError\u001b[0m                                 Traceback (most recent call last)",
      "Input \u001b[0;32mIn [7]\u001b[0m, in \u001b[0;36m<cell line: 1>\u001b[0;34m()\u001b[0m\n\u001b[0;32m----> 1\u001b[0m plt\u001b[38;5;241m.\u001b[39mscatter([\u001b[38;5;241m365\u001b[39m,\u001b[38;5;241m450\u001b[39m,\u001b[38;5;241m680\u001b[39m,\u001b[38;5;241m1050\u001b[39m],[\u001b[38;5;241m100\u001b[39m\u001b[38;5;241m*\u001b[39m(\u001b[43mm_365\u001b[49m\u001b[38;5;241m-\u001b[39mm_365)\u001b[38;5;241m/\u001b[39mm_365,\u001b[38;5;241m100\u001b[39m\u001b[38;5;241m*\u001b[39m(m_450\u001b[38;5;241m-\u001b[39mm_365)\u001b[38;5;241m/\u001b[39mm_365,\u001b[38;5;241m100\u001b[39m\u001b[38;5;241m*\u001b[39m(m_680\u001b[38;5;241m-\u001b[39mm_365)\u001b[38;5;241m/\u001b[39mm_365,\u001b[38;5;241m100\u001b[39m\u001b[38;5;241m*\u001b[39m(m_1050\u001b[38;5;241m-\u001b[39mm_365)\u001b[38;5;241m/\u001b[39mm_365])\n\u001b[1;32m      2\u001b[0m plt\u001b[38;5;241m.\u001b[39mylabel(\u001b[38;5;124m\"\u001b[39m\u001b[38;5;132;01m% d\u001b[39;00m\u001b[38;5;124meviation of slope\u001b[39m\u001b[38;5;124m\"\u001b[39m)\n\u001b[1;32m      3\u001b[0m plt\u001b[38;5;241m.\u001b[39mxlabel(\u001b[38;5;124m\"\u001b[39m\u001b[38;5;124mWavelength, nm\u001b[39m\u001b[38;5;124m\"\u001b[39m)\n",
      "\u001b[0;31mNameError\u001b[0m: name 'm_365' is not defined"
     ]
    }
   ],
   "source": [
    "plt.scatter([365,450,680,1050],[100*(m_365-m_365)/m_365,100*(m_450-m_365)/m_365,100*(m_680-m_365)/m_365,100*(m_1050-m_365)/m_365])\n",
    "plt.ylabel(\"% deviation of slope\")\n",
    "plt.xlabel(\"Wavelength, nm\")"
   ]
  },
  {
   "cell_type": "code",
   "execution_count": null,
   "id": "beff0bda-5bd9-4a3f-aa1e-21dbf786aba0",
   "metadata": {},
   "outputs": [],
   "source": []
  }
 ],
 "metadata": {
  "kernelspec": {
   "display_name": "Python [conda env:lsst-scipipe-3.0.0-ext] *",
   "language": "python",
   "name": "conda-env-lsst-scipipe-3.0.0-ext-py"
  },
  "language_info": {
   "codemirror_mode": {
    "name": "ipython",
    "version": 3
   },
   "file_extension": ".py",
   "mimetype": "text/x-python",
   "name": "python",
   "nbconvert_exporter": "python",
   "pygments_lexer": "ipython3",
   "version": "3.8.13"
  }
 },
 "nbformat": 4,
 "nbformat_minor": 5
}
