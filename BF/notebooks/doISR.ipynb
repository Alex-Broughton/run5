{
 "cells": [
  {
   "cell_type": "markdown",
   "id": "7bba2a72-04ff-43c1-a513-2ea79adac551",
   "metadata": {},
   "source": [
    "# Simple ISR Generator"
   ]
  },
  {
   "cell_type": "markdown",
   "id": "7927f580-78b3-4c46-a87e-ba016cb46b4d",
   "metadata": {},
   "source": [
    "Here's my setup.sh file:\n"
   ]
  },
  {
   "cell_type": "code",
   "execution_count": 1,
   "id": "dc0e50eb-8772-4172-b954-35236f8e3949",
   "metadata": {
    "execution": {
     "iopub.execute_input": "2023-07-28T08:53:12.238984Z",
     "iopub.status.busy": "2023-07-28T08:53:12.238825Z"
    }
   },
   "outputs": [
    {
     "name": "stdout",
     "output_type": "stream",
     "text": [
      "grep: write error: Broken pipe\n",
      "grep: write error: Broken pipe\n",
      "grep: write error: Broken pipe\n",
      "grep: write error: Broken pipe\n",
      "grep: write error: Broken pipe\n",
      "grep: write error: Broken pipe\n",
      "grep: write error: Broken pipe\n"
     ]
    }
   ],
   "source": [
    "! source /sdf/group/rubin/sw/tag/w_2023_19/loadLSST.bash\n",
    "! setup lsst_distrib -t w_2023_19"
   ]
  },
  {
   "cell_type": "code",
   "execution_count": 1,
   "id": "b0bf573e-2d2f-49c1-8eb5-aadd9fc8dd21",
   "metadata": {
    "execution": {
     "iopub.execute_input": "2023-07-28T08:53:31.038998Z",
     "iopub.status.busy": "2023-07-28T08:53:31.038650Z",
     "iopub.status.idle": "2023-07-28T08:53:32.106675Z",
     "shell.execute_reply": "2023-07-28T08:53:32.106166Z",
     "shell.execute_reply.started": "2023-07-28T08:53:31.038983Z"
    },
    "tags": []
   },
   "outputs": [
    {
     "name": "stdout",
     "output_type": "stream",
     "text": [
      "lsst_distrib          g4213664e8e+995cec829e \tw_2023_29 setup\n",
      "cp_pipe               LOCAL:/sdf/home/a/abrought/alternate_branches/dm_stack/cp_pipe \tsetup\n",
      "ip_isr                LOCAL:/sdf/home/a/abrought/alternate_branches/dm_stack/ip_isr \tsetup\n"
     ]
    }
   ],
   "source": [
    "! eups list -s | grep lsst_distrib\n",
    "! eups list -s | grep cp_pipe\n",
    "! eups list -s | grep ip_isr\n",
    "# lsst_distrib          gdf42428520+d521942ec3 \tcurrent w_2023_19 setup"
   ]
  },
  {
   "cell_type": "code",
   "execution_count": 2,
   "id": "81544ec9-f11a-44d9-9736-2a593edb4426",
   "metadata": {
    "execution": {
     "iopub.execute_input": "2023-07-28T08:53:41.328719Z",
     "iopub.status.busy": "2023-07-28T08:53:41.328453Z",
     "iopub.status.idle": "2023-07-28T08:53:48.300673Z",
     "shell.execute_reply": "2023-07-28T08:53:48.300129Z",
     "shell.execute_reply.started": "2023-07-28T08:53:41.328701Z"
    },
    "tags": []
   },
   "outputs": [],
   "source": [
    "import os\n",
    "import numpy as np\n",
    "import glob\n",
    "from astropy.io import fits\n",
    "import pickle as pkl\n",
    "import matplotlib.pyplot as plt\n",
    "from lsst.daf.butler import Butler\n",
    "import lsst.afw.display as afwDisplay\n",
    "import lsst.afw.image as afwImage\n",
    "from astropy.table import Table, vstack, join\n",
    "from scipy import stats\n",
    "from scipy.optimize import curve_fit\n",
    "from lsst.obs.lsst import LsstCam\n",
    "camera = LsstCam().getCamera()\n",
    "from matplotlib.pyplot import cm\n",
    "import lsst.cp.pipe as cpPipe\n",
    "import lsst.ip.isr as ipIsr\n",
    "import itertools\n",
    "from lsst.cp.pipe.makeBrighterFatterKernel import BrighterFatterKernelSolveTask\n",
    "\n",
    "\n",
    "plt.rcParams.update({'font.size': 15})\n",
    "\n",
    "slacAmps = {'C10':'AMP01','C11':'AMP02','C12':'AMP03','C13':'AMP04',\\\n",
    "           'C14':'AMP05','C15':'AMP06','C16':'AMP07','C17':'AMP08',\\\n",
    "           'C07':'AMP09','C06':'AMP10','C05':'AMP11','C04':'AMP12',\\\n",
    "           'C03':'AMP13','C02':'AMP14','C01':'AMP15','C00':'AMP16'}\n",
    "\n",
    "slacAmps2 = {y: x for x, y in slacAmps.items()}\n",
    "\n",
    "def avg_kernels(d, exclude_channels=[]):\n",
    "    t = np.zeros(d[\"C00\"].shape)\n",
    "    for k,channel in zip(d.values(), d.keys()):\n",
    "        if channel in exclude_channels:\n",
    "            continue\n",
    "        t += k\n",
    "    return t / len(d.values())"
   ]
  },
  {
   "cell_type": "code",
   "execution_count": 3,
   "id": "c2f301bf-bd94-4997-8c45-6dd672385df5",
   "metadata": {
    "execution": {
     "iopub.execute_input": "2023-07-28T08:53:48.302106Z",
     "iopub.status.busy": "2023-07-28T08:53:48.301649Z",
     "iopub.status.idle": "2023-07-28T08:53:56.745570Z",
     "shell.execute_reply": "2023-07-28T08:53:56.744908Z",
     "shell.execute_reply.started": "2023-07-28T08:53:48.302090Z"
    },
    "tags": []
   },
   "outputs": [],
   "source": [
    "#repo_path = \"/sdf/group/lsst/camera/IandT/repo_gen3/BOT_data/butler.yaml\"\n",
    "\n",
    "repo_path = \"/repo/main\"\n",
    "butler = Butler(repo_path)\n",
    "registry = butler.registry\n"
   ]
  },
  {
   "cell_type": "code",
   "execution_count": 4,
   "id": "5ce6aeed-f764-427d-9c50-24f04b26871f",
   "metadata": {
    "execution": {
     "iopub.execute_input": "2023-07-28T08:53:56.746584Z",
     "iopub.status.busy": "2023-07-28T08:53:56.746444Z",
     "iopub.status.idle": "2023-07-28T08:53:56.749160Z",
     "shell.execute_reply": "2023-07-28T08:53:56.748670Z",
     "shell.execute_reply.started": "2023-07-28T08:53:56.746565Z"
    },
    "tags": []
   },
   "outputs": [],
   "source": [
    "# R03-S12 (ITL - Good)\n",
    "sensor = \"R03-S12\"\n",
    "det=23 "
   ]
  },
  {
   "cell_type": "code",
   "execution_count": 5,
   "id": "8aaf1ebb-de87-4dfc-94f7-224502522a6a",
   "metadata": {
    "execution": {
     "iopub.execute_input": "2023-07-28T08:54:21.163391Z",
     "iopub.status.busy": "2023-07-28T08:54:21.163043Z",
     "iopub.status.idle": "2023-07-28T08:54:24.126205Z",
     "shell.execute_reply": "2023-07-28T08:54:24.125250Z",
     "shell.execute_reply.started": "2023-07-28T08:54:21.163370Z"
    },
    "tags": []
   },
   "outputs": [],
   "source": [
    "# Original good run of PTC\n",
    "\n",
    "ptc_col = f'u/abrought/BF/2023.07.19/ptc.{sensor}.trunc_to_newpcti.fullnoisematrix'\n",
    "bfk_col = f'u/abrought/BF/2023.07.19/bfk.{sensor}.20000adu'\n",
    "bias_col = 'u/cslage/bias_13144'\n",
    "lin_col = 'u/cslage/linearizer_28jan22/20220128T174703Z'\n",
    "\n",
    "# Get the PTC\n",
    "ptc = butler.get('ptc', detector=det, instrument='LSSTCam', collections=ptc_col)\n",
    "\n",
    "# Get the BFK\n",
    "bfk = butler.get('bfk', detector=det, instrument='LSSTCam', collections=bfk_col)\n",
    "bfk_kernel = avg_kernels(bfk.ampKernels)\n",
    "\n",
    "# Get bias\n",
    "bias = butler.get('bias', detector=det, instrument=\"LSSTCam\", collections=bias_col)\n",
    "\n",
    "# Get linearizer\n",
    "linearizer = butler.get('linearizer', detector=det, instrument=\"LSSTCam\", collections=lin_col)\n",
    "\n",
    "# Get the dummy exposure\n",
    "datasetRefs = list(registry.queryDatasets(datasetType=\"cpPtcExtract\", collections=ptc_col))\n",
    "raw=butler.get('raw', dataId=datasetRefs[100].dataId, collections=ptc_col)"
   ]
  },
  {
   "cell_type": "code",
   "execution_count": 11,
   "id": "f9d5ab86-fc0a-4794-9949-692b27d406bd",
   "metadata": {
    "execution": {
     "iopub.execute_input": "2023-07-28T08:55:46.832803Z",
     "iopub.status.busy": "2023-07-28T08:55:46.832408Z",
     "iopub.status.idle": "2023-07-28T08:56:32.703479Z",
     "shell.execute_reply": "2023-07-28T08:56:32.702826Z",
     "shell.execute_reply.started": "2023-07-28T08:55:46.832780Z"
    },
    "tags": []
   },
   "outputs": [
    {
     "name": "stderr",
     "output_type": "stream",
     "text": [
      "WARNING:lsst.isr:No WCS found in input exposure.\n",
      "WARNING:lsst.ip.isr.calibType:Overriding amplifier defined linearityType (Spline) for C10\n",
      "WARNING:lsst.ip.isr.calibType:Overriding amplifier defined linearityCoeffs ([ 1.60945586e+03  1.22676542e+04  2.11747540e+04  2.97762501e+04\n",
      "  3.81559732e+04  4.66618013e+04  5.50788275e+04  6.35237786e+04\n",
      "  7.23547623e+04  8.14810749e+04  0.00000000e+00 -5.31778833e+00\n",
      "  6.50177541e+00  2.54898913e+01  4.66351121e+01  6.66848427e+01\n",
      "  5.74596335e+01  1.06545763e+01 -9.41904507e+00  3.62629130e+01]) for C10\n",
      "WARNING:lsst.ip.isr.calibType:Overriding amplifier defined linearityType (Spline) for C11\n",
      "WARNING:lsst.ip.isr.calibType:Overriding amplifier defined linearityCoeffs ([ 1.54576663e+03  1.18896340e+04  2.04798386e+04  2.84824273e+04\n",
      "  3.64891914e+04  4.46322712e+04  5.26844358e+04  6.07528460e+04\n",
      "  6.92029638e+04  7.79482682e+04  0.00000000e+00 -5.76840542e+00\n",
      "  4.56155137e+00  2.31350676e+01  4.41091369e+01  7.15522860e+01\n",
      "  7.98441089e+01  5.01231165e+01  1.38505590e+01  3.21557682e+01]) for C11\n",
      "WARNING:lsst.ip.isr.calibType:Overriding amplifier defined linearityType (Spline) for C12\n",
      "WARNING:lsst.ip.isr.calibType:Overriding amplifier defined linearityCoeffs ([ 1.52053261e+03  1.16316111e+04  2.00118900e+04  2.78621523e+04\n",
      "  3.56924305e+04  4.36585512e+04  5.15359580e+04  5.94302472e+04\n",
      "  6.76883935e+04  7.62552154e+04  0.00000000e+00 -5.06526710e+00\n",
      "  3.92856102e+00  2.12394314e+01  3.94141906e+01  6.60771703e+01\n",
      "  7.81098916e+01  5.40256181e+01  1.25948367e+01  8.53181085e+00]) for C12\n",
      "WARNING:lsst.ip.isr.calibType:Overriding amplifier defined linearityType (Spline) for C13\n",
      "WARNING:lsst.ip.isr.calibType:Overriding amplifier defined linearityCoeffs ([ 1.53704483e+03  1.18155116e+04  2.03514034e+04  2.83033946e+04\n",
      "  3.62595348e+04  4.43511288e+04  5.23523824e+04  6.03697790e+04\n",
      "  6.87664696e+04  7.74564806e+04  0.00000000e+00 -5.25918145e+00\n",
      "  4.91174379e+00  2.31556496e+01  4.44626129e+01  7.39919319e+01\n",
      "  8.68586120e+01  6.35140234e+01  2.37039700e+01  2.24310961e+01]) for C13\n",
      "WARNING:lsst.ip.isr.calibType:Overriding amplifier defined linearityType (Spline) for C14\n",
      "WARNING:lsst.ip.isr.calibType:Overriding amplifier defined linearityCoeffs ([ 1.53692017e+03  1.18120703e+04  2.03452078e+04  2.82946330e+04\n",
      "  3.62482059e+04  4.43371890e+04  5.23358608e+04  6.03506703e+04\n",
      "  6.87446515e+04  7.74318585e+04  0.00000000e+00 -4.77988347e+00\n",
      "  4.09148378e+00  1.97697248e+01  3.80333964e+01  6.50309166e+01\n",
      "  7.53979659e+01  4.85964897e+01  4.87616788e+00 -1.04907166e-01]) for C14\n",
      "WARNING:lsst.ip.isr.calibType:Overriding amplifier defined linearityType (Spline) for C15\n",
      "WARNING:lsst.ip.isr.calibType:Overriding amplifier defined linearityCoeffs ([ 1.52795778e+03  1.17488807e+04  2.02369845e+04  2.81444566e+04\n",
      "  3.60560545e+04  4.41023479e+04  5.20588066e+04  6.00313179e+04\n",
      "  6.83809999e+04  7.70223600e+04  0.00000000e+00 -5.76363915e+00\n",
      "  3.46982257e+00  2.01893840e+01  3.96837405e+01  6.72413734e+01\n",
      "  7.79302339e+01  5.29277730e+01  1.21713897e+01  1.15543212e+01]) for C15\n",
      "WARNING:lsst.ip.isr.calibType:Overriding amplifier defined linearityType (Spline) for C16\n",
      "WARNING:lsst.ip.isr.calibType:Overriding amplifier defined linearityCoeffs ([ 1.52604636e+03  1.17340487e+04  2.02114224e+04  2.81088984e+04\n",
      "  3.60104950e+04  4.40466168e+04  5.19930176e+04  5.99554506e+04\n",
      "  6.82945774e+04  7.69250137e+04  0.00000000e+00 -5.72931764e+00\n",
      "  2.61259157e+00  1.67969129e+01  3.14538940e+01  5.08549990e+01\n",
      "  4.81119159e+01  6.64972412e+00 -4.05391533e+01 -3.37784155e+01]) for C16\n",
      "WARNING:lsst.ip.isr.calibType:Overriding amplifier defined linearityType (Spline) for C17\n",
      "WARNING:lsst.ip.isr.calibType:Overriding amplifier defined linearityCoeffs ([ 1.56181566e+03  1.19071678e+04  2.05528208e+04  2.89018403e+04\n",
      "  3.70355966e+04  4.52917562e+04  5.34617206e+04  6.16587901e+04\n",
      "  7.02305612e+04  7.90889925e+04  0.00000000e+00 -5.46491680e+00\n",
      "  2.53419874e+00  1.81202514e+01  3.32328157e+01  4.88475692e+01\n",
      "  3.70532957e+01 -1.14634228e+01 -4.81474198e+01 -2.41465258e+01]) for C17\n",
      "WARNING:lsst.ip.isr.calibType:Overriding amplifier defined linearityType (Spline) for C07\n",
      "WARNING:lsst.ip.isr.calibType:Overriding amplifier defined linearityCoeffs ([ 1.71378434e+03  1.33175970e+04  2.28822961e+04  3.21745006e+04\n",
      "  4.12258260e+04  5.04265763e+04  5.95176272e+04  6.86208587e+04\n",
      "  7.81940052e+04  8.80494112e+04  0.00000000e+00  1.75912797e-01\n",
      " -3.78978253e+00 -2.15765600e+01 -5.73299608e+01 -1.33213677e+02\n",
      " -2.50622047e+02 -3.39246273e+02 -3.84460842e+02 -4.37575817e+02]) for C07\n",
      "WARNING:lsst.ip.isr.calibType:Overriding amplifier defined linearityType (Spline) for C06\n",
      "WARNING:lsst.ip.isr.calibType:Overriding amplifier defined linearityCoeffs ([ 1.52046038e+03  1.17222556e+04  2.01905104e+04  2.83855232e+04\n",
      "  3.63773187e+04  4.44969949e+04  5.31570089e+04  6.12649051e+04\n",
      "  6.89976202e+04  7.76960840e+04  0.00000000e+00 -4.96038225e+00\n",
      "  2.64637974e+00  1.35216186e+01  2.86607674e+01  3.42790976e+01\n",
      "  2.06849621e+00 -4.32918124e+01 -4.80933367e+01 -7.95473811e+00]) for C06\n",
      "WARNING:lsst.ip.isr.calibType:Overriding amplifier defined linearityType (Spline) for C05\n",
      "WARNING:lsst.ip.isr.calibType:Overriding amplifier defined linearityCoeffs ([ 1.50608708e+03  1.16141564e+04  2.00046117e+04  2.81243352e+04\n",
      "  3.60427085e+04  4.40877877e+04  5.26682404e+04  6.07016477e+04\n",
      "  6.83633208e+04  7.69818702e+04  0.00000000e+00 -5.80760294e+00\n",
      "  2.72640192e+00  1.63016046e+01  3.57510296e+01  4.76740299e+01\n",
      "  2.57472583e+01 -1.49951209e+01 -2.57856994e+01  1.15586651e+01]) for C05\n",
      "WARNING:lsst.ip.isr.calibType:Overriding amplifier defined linearityType (Spline) for C04\n",
      "WARNING:lsst.ip.isr.calibType:Overriding amplifier defined linearityCoeffs ([ 1.49929206e+03  1.14902124e+04  1.98130316e+04  2.78545763e+04\n",
      "  3.57015298e+04  4.36605583e+04  5.15314690e+04  5.94297178e+04\n",
      "  6.76995353e+04  7.62365146e+04  0.00000000e+00 -5.28651713e+00\n",
      "  2.79911612e+00  1.67948665e+01  3.57081344e+01  5.16262601e+01\n",
      "  4.29511211e+01  2.90027145e+00 -2.34243266e+01  5.73677309e+00]) for C04\n",
      "WARNING:lsst.ip.isr.calibType:Overriding amplifier defined linearityType (Spline) for C03\n",
      "WARNING:lsst.ip.isr.calibType:Overriding amplifier defined linearityCoeffs ([ 1.50778224e+03  1.15461490e+04  1.99084930e+04  2.79882267e+04\n",
      "  3.58724451e+04  4.38692707e+04  5.17775601e+04  5.97133174e+04\n",
      "  6.80224079e+04  7.65999290e+04  0.00000000e+00 -4.26099221e+00\n",
      "  3.20456541e+00  1.60097185e+01  3.54218940e+01  5.21662028e+01\n",
      "  4.55267721e+01  5.67335177e+00 -2.58115957e+01 -2.96273075e+00]) for C03\n",
      "WARNING:lsst.ip.isr.calibType:Overriding amplifier defined linearityType (Spline) for C02\n",
      "WARNING:lsst.ip.isr.calibType:Overriding amplifier defined linearityCoeffs ([ 1.52079268e+03  1.16478555e+04  2.00840866e+04  2.82352104e+04\n",
      "  3.61890914e+04  4.42565745e+04  5.22347392e+04  6.02406145e+04\n",
      "  6.86231216e+04  7.72764311e+04  0.00000000e+00 -4.78312313e+00\n",
      "  3.78579343e+00  1.74385378e+01  3.84407888e+01  5.43026931e+01\n",
      "  4.71317046e+01  7.55784584e+00 -1.71094734e+01  1.47286497e+01]) for C02\n",
      "WARNING:lsst.ip.isr.calibType:Overriding amplifier defined linearityType (Spline) for C01\n",
      "WARNING:lsst.ip.isr.calibType:Overriding amplifier defined linearityCoeffs ([ 1.50290315e+03  1.15219844e+04  1.98682628e+04  2.79324739e+04\n",
      "  3.58015452e+04  4.37830075e+04  5.16761035e+04  5.95966149e+04\n",
      "  6.78897421e+04  7.64507842e+04  0.00000000e+00 -5.77044452e+00\n",
      "  3.07243125e+00  1.72026624e+01  3.84099458e+01  5.44878841e+01\n",
      "  4.62219232e+01  6.24180841e+00 -1.02019408e+01  3.15768980e+01]) for C01\n",
      "WARNING:lsst.ip.isr.calibType:Overriding amplifier defined linearityType (Spline) for C00\n",
      "WARNING:lsst.ip.isr.calibType:Overriding amplifier defined linearityCoeffs ([ 1.54133674e+03  1.18880752e+04  2.04766437e+04  2.87880881e+04\n",
      "  3.68934279e+04  4.51284654e+04  5.39115175e+04  6.21346075e+04\n",
      "  6.99771861e+04  7.87992344e+04  0.00000000e+00 -6.14740088e+00\n",
      "  4.14071991e+00  1.85749307e+01  3.97808218e+01  4.96194313e+01\n",
      "  2.15335715e+01 -1.23898308e+01 -1.21031439e-01  5.80637789e+01]) for C00\n",
      "WARNING:lsst.isr:No rough magnitude zero point defined for filter SDSSi~ND_OD0.5.\n"
     ]
    }
   ],
   "source": [
    "from lsst.ip.isr.isrTask import IsrTask\n",
    "\n",
    "config = IsrTask.ConfigClass()\n",
    "config.doBias = True\n",
    "config.doVariance = True\n",
    "config.doLinearize = True\n",
    "config.doCrosstalk = False\n",
    "config.doDefect = False\n",
    "config.doNanMasking = True\n",
    "config.doInterpolate = True\n",
    "config.doSaturationInterpolation = False\n",
    "config.doBrighterFatter = False\n",
    "config.doDark = False\n",
    "config.doFlat = False\n",
    "config.doApplyGains = False\n",
    "config.usePtcGains = True\n",
    "config.brighterFatterApplyGain = True\n",
    "config.doFluxConservingBrighterFatterCorrection = True\n",
    "config.doFringe = False\n",
    "config.doOverscan = True\n",
    "config.overscan.fitType = 'MEDIAN_PER_ROW'  \n",
    "config.doDeferredCharge = False\n",
    "\n",
    "isrtask = IsrTask(config=config)\n",
    "result = isrtask.run(raw, camera=camera, bias=bias, linearizer=linearizer,\n",
    "                     ptc=ptc, bfKernel=bfk_kernel, defects=None, dark=None, \n",
    "                     detectorNum=det)\n"
   ]
  },
  {
   "cell_type": "code",
   "execution_count": 12,
   "id": "e254ac11",
   "metadata": {},
   "outputs": [
    {
     "data": {
      "text/plain": [
       "<lsst.afw.image._exposure.ExposureF at 0x7f1a2014dd30>"
      ]
     },
     "execution_count": 12,
     "metadata": {},
     "output_type": "execute_result"
    }
   ],
   "source": [
    "result.exposure"
   ]
  },
  {
   "cell_type": "markdown",
   "id": "449d4b3f-fdb5-42d9-80f2-29b7054086bd",
   "metadata": {},
   "source": [
    "# Recreation of Flux Conserving BF ISR Function"
   ]
  },
  {
   "cell_type": "code",
   "execution_count": 19,
   "id": "92cd0e54-260b-4963-9b29-bb8bc611465f",
   "metadata": {
    "execution": {
     "iopub.execute_input": "2023-07-28T09:05:00.917054Z",
     "iopub.status.busy": "2023-07-28T09:05:00.916882Z",
     "iopub.status.idle": "2023-07-28T09:05:00.934291Z",
     "shell.execute_reply": "2023-07-28T09:05:00.933895Z",
     "shell.execute_reply.started": "2023-07-28T09:05:00.917038Z"
    },
    "tags": []
   },
   "outputs": [],
   "source": [
    "import numpy as np\n",
    "from scipy.signal import convolve2d\n",
    "import galsim\n",
    "import matplotlib.pyplot as plt\n",
    "import lsst.afw.image as afwImage\n",
    "import lsst.afw.math as afwMath\n",
    "from scipy.ndimage import gaussian_filter\n",
    "\n",
    "def transferFlux(cFunc, fStep, correctionMode=True):\n",
    "    \"\"\"Take the input convolved deflection potential and the flux array\n",
    "    to compute and apply the flux transfer into the correction array.\n",
    "    Parameters\n",
    "    ----------\n",
    "    cFunc: `np.array`\n",
    "        Deflection potential, being the convolution of the flux F with the\n",
    "        kernel K.\n",
    "    fStep: `np.array`\n",
    "        The array of flux values which act as the source of the flux transfer.\n",
    "    correctionMode: `bool`\n",
    "        Defines if applying correction (True) or generating sims (False).\n",
    "    Returns\n",
    "    -------\n",
    "    corr:\n",
    "        BFE correction array\n",
    "    \"\"\"\n",
    "\n",
    "    if cFunc.shape != fStep.shape:\n",
    "        raise RuntimeError(f'transferFlux: array shapes do not match: {cFunc.shape}, {fStep.shape}')\n",
    "\n",
    "    # set the sign of the correction and set its value for the\n",
    "    # time averaged solution\n",
    "    if correctionMode:\n",
    "        # negative sign if applying BFE correction\n",
    "        factor = -0.5\n",
    "    else:\n",
    "        # positive sign if generating BFE simulations\n",
    "        factor = 0.5\n",
    "\n",
    "    # initialise the BFE correction image to zero\n",
    "    corr = np.zeros_like(cFunc)\n",
    "\n",
    "    # Generate a 2D mesh of x,y coordinates\n",
    "    yDim, xDim = cFunc.shape\n",
    "    y = np.arange(yDim, dtype=int)\n",
    "    x = np.arange(xDim, dtype=int)\n",
    "    xc, yc = np.meshgrid(x, y)\n",
    "\n",
    "    # process each axis in turn\n",
    "    for ax in [0, 1]:\n",
    "\n",
    "        # gradient of phi on right/upper edge of pixel\n",
    "        diff = np.diff(cFunc, axis=ax)\n",
    "\n",
    "        # expand array back to full size with zero gradient at the end\n",
    "        gx = np.zeros_like(cFunc)\n",
    "        yDiff, xDiff = diff.shape\n",
    "        gx[:yDiff, :xDiff] += diff\n",
    "\n",
    "        # select pixels with either positive gradients on the right edge,\n",
    "        # flux flowing to the right/up\n",
    "        # or negative gradients, flux flowing to the left/down\n",
    "        for i, sel in enumerate([gx > 0, gx < 0]):\n",
    "            xSelPixels = xc[sel]\n",
    "            ySelPixels = yc[sel]\n",
    "            # and add the flux into the pixel to the right or top\n",
    "            # depending on which axis we are handling\n",
    "            if ax == 0:\n",
    "                xPix = xSelPixels\n",
    "                yPix = ySelPixels+1\n",
    "            else:\n",
    "                xPix = xSelPixels+1\n",
    "                yPix = ySelPixels\n",
    "            # define flux as the either current pixel value or pixel\n",
    "            # above/right\n",
    "            # depending on whether positive or negative gradient\n",
    "            if i == 0:\n",
    "                # positive gradients, flux flowing to higher coordinate values\n",
    "                flux = factor * fStep[sel]*gx[sel]\n",
    "            else:\n",
    "                # negative gradients, flux flowing to lower coordinate values\n",
    "                flux = factor * fStep[yPix, xPix]*gx[sel]\n",
    "            # change the fluxes of the donor and receiving pixels\n",
    "            # such that flux is conserved\n",
    "            corr[sel] -= flux\n",
    "            corr[yPix, xPix] += flux\n",
    "\n",
    "    # return correction array\n",
    "    return corr\n",
    "\n",
    "def applyFluxConservingC18(kernel, img, maxIter=100, threshold=10):\n",
    "    # Implemented by Lance Miller\n",
    "\n",
    "    # get kernel and its shape\n",
    "    kLy, kLx = kernel.shape\n",
    "    kernelImage = afwImage.ImageD(kLx, kLy)\n",
    "    kernelImage.getArray()[:, :] = kernel\n",
    "    image = afwImage.ImageD(img.shape[1], img.shape[0])\n",
    "    image.getArray()[:, :] = img\n",
    "    tempImage = image.clone()\n",
    "\n",
    "\n",
    "    nanIndex = np.isnan(tempImage.getArray())\n",
    "    tempImage.getArray()[nanIndex] = 0.\n",
    "\n",
    "    outImage = afwImage.ImageF(image.getDimensions())\n",
    "    corr = np.zeros_like(image.getArray())\n",
    "    prevImage = np.zeros_like(image.getArray())\n",
    "    \n",
    "    # IF second parameter is true, correction diverges\n",
    "    convCntrl = afwMath.ConvolutionControl(False, False, 1)\n",
    "\n",
    "    fixedKernel = afwMath.FixedKernel(kernelImage)\n",
    "\n",
    "    # set the padding amount\n",
    "    # ensure we pad by an even amount larger than the kernel\n",
    "    kLy = 2 * ((1+kLy)//2)\n",
    "    kLx = 2 * ((1+kLx)//2)\n",
    "\n",
    "    # The deflection potential only depends on the gradient of\n",
    "    # the convolution, so we can subtract the mean, which then\n",
    "    # allows us to pad the image with zeros and avoid wrap-around effects\n",
    "    # (although still not handling the image edges with a physical model)\n",
    "    # This wouldn't be great if there were a strong image gradient.\n",
    "    imydim, imxdim = tempImage.array.shape\n",
    "    imean = np.mean(tempImage.getArray()[~nanIndex])\n",
    "    # subtract mean from image\n",
    "    tempImage -= imean\n",
    "    tempImage.array[nanIndex] = 0.\n",
    "    padArray = np.pad(tempImage.getArray(), ((0, kLy), (0, kLx)))\n",
    "\n",
    "    outImage = afwImage.ImageF(np.pad(outImage.getArray(), ((0, kLy), (0, kLx))))\n",
    "    \n",
    "    # Convert array to afw image so afwMath.convolve works\n",
    "    padImage = afwImage.ImageF(padArray.shape[1], padArray.shape[0])\n",
    "    padImage.array[:] = padArray\n",
    "\n",
    "    for iteration in range(maxIter):\n",
    "        print(f'{iteration + 1}/{maxIter}')\n",
    "        \n",
    "        # create deflection potential, convolution of flux with kernel\n",
    "        # using padded counts array\n",
    "        \n",
    "        afwMath.convolve(outImage, padImage, fixedKernel, convCntrl)\n",
    "        tmpArray = tempImage.getArray()\n",
    "        outArray = outImage.getArray()\n",
    "        #print(outArray)\n",
    "\n",
    "        # trim convolution output back to original shape\n",
    "        outArray = outArray[:imydim, :imxdim]\n",
    "\n",
    "        # generate the correction array, with correctionMode set as input\n",
    "        corr[...] = transferFlux(outArray, tmpArray, correctionMode=True)\n",
    "\n",
    "        # update the arrays for the next iteration\n",
    "        tmpArray[:, :] = image.getArray()[:, :]\n",
    "        tmpArray += corr\n",
    "        tmpArray[nanIndex] = 0.\n",
    "        # update padded array\n",
    "        # subtract mean\n",
    "        tmpArray -= imean\n",
    "        tempImage.array[nanIndex] = 0.\n",
    "        padArray = np.pad(tempImage.getArray(), ((0, kLy), (0, kLx)))\n",
    "\n",
    "        if iteration > 0:\n",
    "            diff = np.sum(np.abs(prevImage - tmpArray))\n",
    "            print(diff)\n",
    "            if diff < threshold:\n",
    "                break\n",
    "            prevImage[:, :] = tmpArray[:, :]\n",
    "\n",
    "    image.getArray()[:] += corr[:]\n",
    "    \n",
    "    return image.getArray(), iteration\n",
    "\n",
    "# The image needs to be units of electrons/holes\n",
    "\n",
    "def applyC18(kernel, img, maxIter=100, threshold = 10.):\n",
    "\n",
    "    kLx = np.shape(kernel)[1]\n",
    "    kLy = np.shape(kernel)[0]\n",
    "    kernelImage = afwImage.ImageD(kLx, kLy)\n",
    "    kernelImage.getArray()[:, :] = kernel\n",
    "    image = afwImage.ImageD(img.shape[1], img.shape[0])\n",
    "    image.getArray()[:, :] = img\n",
    "    tempImage = image.clone()\n",
    "\n",
    "    nanIndex = np.isnan(tempImage.getArray())\n",
    "    tempImage.getArray()[nanIndex] = 0.\n",
    "\n",
    "    outImage = afwImage.ImageD(image.getDimensions())\n",
    "    corr = np.zeros_like(image.getArray())\n",
    "    prev_image = np.zeros_like(image.getArray())\n",
    "    convCntrl = afwMath.ConvolutionControl(False, True, 1)\n",
    "    fixedKernel = afwMath.FixedKernel(kernelImage)\n",
    "\n",
    "    # Define boundary by convolution region.  The region that the\n",
    "    # correction will be calculated for is one fewer in each dimension\n",
    "    # because of the second derivative terms.\n",
    "    # NOTE: these need to use integer math, as we're using start:end as\n",
    "    # np index ranges.\n",
    "    startX = kLx//2\n",
    "    endX = -kLx//2\n",
    "    startY = kLy//2\n",
    "    endY = -kLy//2\n",
    "    \n",
    "\n",
    "    for iteration in range(maxIter):\n",
    "        #print(iteration)\n",
    "        #print(outImage.getArray().shape, tempImage.getArray().shape, fixedKernel.getArray.shape())\n",
    "        afwMath.convolve(outImage, tempImage, fixedKernel, convCntrl)\n",
    "        #print(outImage.getArray().shape, tempImage.getArray().shape, fixedKernel.getArray.shape())\n",
    "        tmpArray = tempImage.getArray()\n",
    "        outArray = outImage.getArray()\n",
    "\n",
    "        with np.errstate(invalid=\"ignore\", over=\"ignore\"):\n",
    "            # First derivative term\n",
    "            gradTmp = np.gradient(tmpArray[startY:endY, startX:endX])\n",
    "            gradOut = np.gradient(outArray[startY:endY, startX:endX])\n",
    "            first = (gradTmp[0]*gradOut[0] + gradTmp[1]*gradOut[1])[1:-1, 1:-1]\n",
    "\n",
    "            # Second derivative term\n",
    "            diffOut20 = np.diff(outArray, 2, 0)[startY:endY, startX + 1:endX - 1]\n",
    "            diffOut21 = np.diff(outArray, 2, 1)[startY + 1:endY - 1, startX:endX]\n",
    "            second = tmpArray[startY + 1:endY - 1, startX + 1:endX - 1]*(diffOut20 + diffOut21)\n",
    "\n",
    "            corr[startY + 1:endY - 1, startX + 1:endX - 1] = 0.5*(first + second)\n",
    "\n",
    "            tmpArray[:, :] = image.getArray()[:, :]\n",
    "            tmpArray[nanIndex] = 0.\n",
    "            tmpArray[startY:endY, startX:endX] += corr[startY:endY, startX:endX]\n",
    "\n",
    "        #if iteration > 0:\n",
    "        diff = np.sum(np.abs(prev_image - tmpArray))\n",
    "        print(iteration, diff)\n",
    "        if diff < threshold:\n",
    "            break\n",
    "        prev_image[:, :] = tmpArray[:, :]\n",
    "\n",
    "    image.getArray()[startY + 1:endY - 1, startX + 1:endX - 1] += corr[startY + 1:endY - 1, startX + 1:endX - 1]\n",
    "    \n",
    "    return image.getArray(), iteration\n"
   ]
  },
  {
   "cell_type": "code",
   "execution_count": 16,
   "id": "1550cc64-5d17-43ae-ac84-7e6a97b9e4e1",
   "metadata": {
    "execution": {
     "iopub.execute_input": "2023-07-28T09:05:01.779647Z",
     "iopub.status.busy": "2023-07-28T09:05:01.779315Z",
     "iopub.status.idle": "2023-07-28T09:06:06.707280Z",
     "shell.execute_reply": "2023-07-28T09:06:06.706625Z",
     "shell.execute_reply.started": "2023-07-28T09:05:01.779633Z"
    },
    "tags": []
   },
   "outputs": [
    {
     "name": "stdout",
     "output_type": "stream",
     "text": [
      "1/100\n",
      "2/100\n",
      "226885133.20367005\n",
      "3/100\n",
      "0.0012210356095181396\n"
     ]
    }
   ],
   "source": [
    "# Diverges if the convolution control copy edge is True\n",
    "outImage, iteration = applyC18(bfk_kernel, result.outputExposure.getImage().getArray())"
   ]
  },
  {
   "cell_type": "code",
   "execution_count": 20,
   "id": "bbb2805b-a6e3-4845-8dc4-7cd745b2a1f0",
   "metadata": {},
   "outputs": [
    {
     "name": "stdout",
     "output_type": "stream",
     "text": [
      "0 4729129702.04525\n",
      "1 14.920870366005929\n",
      "2 0.0075290975278221595\n"
     ]
    }
   ],
   "source": [
    "# Diverges if the convolution control copy edge is True\n",
    "outImage, iteration = applyC18(bfk_kernel, result.outputExposure.getImage().getArray())"
   ]
  },
  {
   "cell_type": "code",
   "execution_count": 21,
   "id": "1138d69f",
   "metadata": {},
   "outputs": [
    {
     "data": {
      "text/plain": [
       "-4502244569"
      ]
     },
     "execution_count": 21,
     "metadata": {},
     "output_type": "execute_result"
    }
   ],
   "source": [
    "226885133 - 4729129702"
   ]
  },
  {
   "cell_type": "code",
   "execution_count": null,
   "id": "33f1f9d2",
   "metadata": {},
   "outputs": [],
   "source": []
  }
 ],
 "metadata": {
  "kernelspec": {
   "display_name": "LSST",
   "language": "python",
   "name": "lsst"
  },
  "language_info": {
   "codemirror_mode": {
    "name": "ipython",
    "version": 3
   },
   "file_extension": ".py",
   "mimetype": "text/x-python",
   "name": "python",
   "nbconvert_exporter": "python",
   "pygments_lexer": "ipython3",
   "version": "3.11.4"
  }
 },
 "nbformat": 4,
 "nbformat_minor": 5
}
