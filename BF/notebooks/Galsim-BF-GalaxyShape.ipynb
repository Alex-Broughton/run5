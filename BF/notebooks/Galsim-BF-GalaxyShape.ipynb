{
 "cells": [
  {
   "cell_type": "markdown",
   "id": "052f8d62-63b2-41cb-8172-1272e90e61ff",
   "metadata": {},
   "source": [
    "## BF Effect on Galaxy Shape w/ Galsim"
   ]
  },
  {
   "cell_type": "markdown",
   "id": "44b2175f-5a64-469b-b7a1-d601b8eefaf8",
   "metadata": {},
   "source": [
    "Originally created by Alex Broughton\n"
   ]
  },
  {
   "cell_type": "code",
   "execution_count": 1,
   "id": "fb4010f1-6ecd-4967-8cd6-7546c906505e",
   "metadata": {},
   "outputs": [
    {
     "name": "stdout",
     "output_type": "stream",
     "text": [
      "eups                  LOCAL:/cvmfs/sw.lsst.eu/linux-x86_64/lsst_distrib/w_2022_32/conda/envs/lsst-scipipe-4.1.0-ext/eups \tsetup\n",
      "lsst_distrib          g0b29ad24fb+cafeaf151e \tw_2022_32 current w_latest setup\n"
     ]
    }
   ],
   "source": [
    "! eups list -s | grep lsst_distrib"
   ]
  },
  {
   "cell_type": "code",
   "execution_count": 2,
   "id": "18cae193-541b-4767-a1b4-53482c61af08",
   "metadata": {},
   "outputs": [],
   "source": [
    "# Helper functions\n",
    "import sys\n",
    "import os\n",
    "import math\n",
    "import logging\n",
    "import galsim\n",
    "import numpy as np\n",
    "import matplotlib.pyplot as plt\n",
    "\n",
    "def calc2ndMom(results):\n",
    "    # Calculate Second Moments\n",
    "    e1 = results.observed_shape.e1\n",
    "    e2 = results.observed_shape.e2\n",
    "    sigma = results.moments_sigma\n",
    "    sigma_ave = sigma / (1 - e1**2 - e2**2 )**(0.25) \n",
    "    Ixx = (1+e1) * sigma_ave**2\n",
    "    Iyy = (1-e1) * sigma_ave**2\n",
    "    Ixy = e2 * (sigma_ave**2) \n",
    "    \n",
    "    return Ixx, Iyy, Ixy"
   ]
  },
  {
   "cell_type": "markdown",
   "id": "f5d2c6c0-5ac3-4022-b294-693368cb5979",
   "metadata": {
    "tags": []
   },
   "source": [
    "#### Galaxy @ 680nm, Flux 10^3 - 10^6"
   ]
  },
  {
   "cell_type": "code",
   "execution_count": 6,
   "id": "5577cafe-77d3-40ef-842a-c97d8afd6cc5",
   "metadata": {
    "tags": []
   },
   "outputs": [
    {
     "ename": "GalSimHSMError",
     "evalue": "Error: too many iterations in adaptive moments\n",
     "output_type": "error",
     "traceback": [
      "\u001b[0;31m---------------------------------------------------------------------------\u001b[0m",
      "\u001b[0;31mRuntimeError\u001b[0m                              Traceback (most recent call last)",
      "File \u001b[0;32m~/.local/lib/python3.8/site-packages/galsim/hsm.py:725\u001b[0m, in \u001b[0;36mFindAdaptiveMom\u001b[0;34m(object_image, weight, badpix, guess_sig, precision, guess_centroid, strict, round_moments, hsmparams)\u001b[0m\n\u001b[1;32m    724\u001b[0m result \u001b[38;5;241m=\u001b[39m ShapeData()\n\u001b[0;32m--> 725\u001b[0m \u001b[43m_galsim\u001b[49m\u001b[38;5;241;43m.\u001b[39;49m\u001b[43m_FindAdaptiveMomView\u001b[49m\u001b[43m(\u001b[49m\u001b[43mresult\u001b[49m\u001b[38;5;241;43m.\u001b[39;49m\u001b[43m_data\u001b[49m\u001b[43m,\u001b[49m\n\u001b[1;32m    726\u001b[0m \u001b[43m                             \u001b[49m\u001b[43mobject_image\u001b[49m\u001b[38;5;241;43m.\u001b[39;49m\u001b[43m_image\u001b[49m\u001b[43m,\u001b[49m\u001b[43m \u001b[49m\u001b[43mweight\u001b[49m\u001b[38;5;241;43m.\u001b[39;49m\u001b[43m_image\u001b[49m\u001b[43m,\u001b[49m\n\u001b[1;32m    727\u001b[0m \u001b[43m                             \u001b[49m\u001b[38;5;28;43mfloat\u001b[39;49m\u001b[43m(\u001b[49m\u001b[43mguess_sig\u001b[49m\u001b[43m)\u001b[49m\u001b[43m,\u001b[49m\u001b[43m \u001b[49m\u001b[38;5;28;43mfloat\u001b[39;49m\u001b[43m(\u001b[49m\u001b[43mprecision\u001b[49m\u001b[43m)\u001b[49m\u001b[43m,\u001b[49m\u001b[43m \u001b[49m\u001b[43mguess_centroid\u001b[49m\u001b[38;5;241;43m.\u001b[39;49m\u001b[43m_p\u001b[49m\u001b[43m,\u001b[49m\n\u001b[1;32m    728\u001b[0m \u001b[43m                             \u001b[49m\u001b[38;5;28;43mbool\u001b[39;49m\u001b[43m(\u001b[49m\u001b[43mround_moments\u001b[49m\u001b[43m)\u001b[49m\u001b[43m,\u001b[49m\u001b[43m \u001b[49m\u001b[43mhsmparams\u001b[49m\u001b[38;5;241;43m.\u001b[39;49m\u001b[43m_hsmp\u001b[49m\u001b[43m)\u001b[49m\n\u001b[1;32m    729\u001b[0m \u001b[38;5;28;01mreturn\u001b[39;00m result\n",
      "\u001b[0;31mRuntimeError\u001b[0m: Error: too many iterations in adaptive moments\n",
      "\nDuring handling of the above exception, another exception occurred:\n",
      "\u001b[0;31mGalSimHSMError\u001b[0m                            Traceback (most recent call last)",
      "Input \u001b[0;32mIn [6]\u001b[0m, in \u001b[0;36m<cell line: 32>\u001b[0;34m()\u001b[0m\n\u001b[1;32m     30\u001b[0m \u001b[38;5;66;03m# calculate HSM moments (these are in pixel coordinates)\u001b[39;00m\n\u001b[1;32m     31\u001b[0m new_params \u001b[38;5;241m=\u001b[39m galsim\u001b[38;5;241m.\u001b[39mhsm\u001b[38;5;241m.\u001b[39mHSMParams(max_amoment\u001b[38;5;241m=\u001b[39m\u001b[38;5;241m5.0e5\u001b[39m)\n\u001b[0;32m---> 32\u001b[0m results \u001b[38;5;241m=\u001b[39m \u001b[43mimage\u001b[49m\u001b[38;5;241;43m.\u001b[39;49m\u001b[43mFindAdaptiveMom\u001b[49m\u001b[43m(\u001b[49m\u001b[43mhsmparams\u001b[49m\u001b[38;5;241;43m=\u001b[39;49m\u001b[43mnew_params\u001b[49m\u001b[43m)\u001b[49m\n\u001b[1;32m     33\u001b[0m Ixx, Iyy, Ixy \u001b[38;5;241m=\u001b[39m calc2ndMom(results)\n\u001b[1;32m     34\u001b[0m flux \u001b[38;5;241m=\u001b[39m results\u001b[38;5;241m.\u001b[39mmoments_amp\n",
      "File \u001b[0;32m~/.local/lib/python3.8/site-packages/galsim/hsm.py:732\u001b[0m, in \u001b[0;36mFindAdaptiveMom\u001b[0;34m(object_image, weight, badpix, guess_sig, precision, guess_centroid, strict, round_moments, hsmparams)\u001b[0m\n\u001b[1;32m    730\u001b[0m \u001b[38;5;28;01mexcept\u001b[39;00m \u001b[38;5;167;01mRuntimeError\u001b[39;00m \u001b[38;5;28;01mas\u001b[39;00m err:\n\u001b[1;32m    731\u001b[0m     \u001b[38;5;28;01mif\u001b[39;00m (strict \u001b[38;5;241m==\u001b[39m \u001b[38;5;28;01mTrue\u001b[39;00m):\n\u001b[0;32m--> 732\u001b[0m         \u001b[38;5;28;01mraise\u001b[39;00m GalSimHSMError(\u001b[38;5;28mstr\u001b[39m(err))\n\u001b[1;32m    733\u001b[0m     \u001b[38;5;28;01melse\u001b[39;00m:\n\u001b[1;32m    734\u001b[0m         \u001b[38;5;28;01mreturn\u001b[39;00m ShapeData(error_message \u001b[38;5;241m=\u001b[39m \u001b[38;5;28mstr\u001b[39m(err))\n",
      "\u001b[0;31mGalSimHSMError\u001b[0m: Error: too many iterations in adaptive moments\n"
     ]
    }
   ],
   "source": [
    "# model atmospheric turbulence as a VonKarman, with some small shear\n",
    "#gprof = galsim.VonKarman(lam=1000.,r0=0.2,L0=10.0).shear(g1=0.06, g2=-0.05)\n",
    "\n",
    "# add 4.5 microns sigma of Gaussian to model diffusion\n",
    "# convert 4.5 microns to arcsec with factor 0.2\"/10micron \n",
    "pixscale = 0.2/10.e-6\n",
    "dprof = galsim.Gaussian(sigma=2.0e-6*pixscale)\n",
    "\n",
    "# Airy function to simulate diffraction through mask\n",
    "#lam_over_diam = 0.00000475*(680./450.)  # radians\n",
    "#lam_over_diam *= 206265  # Convert to arcsec\n",
    "#airy = galsim.Airy(lam_over_diam)\n",
    "\n",
    "# Create a flat spectral energy density profile\n",
    "sed = galsim.SED('wave**1.0',wave_type=\"nm\", flux_type=\"1\")\n",
    "\n",
    "# Define the galaxy profile (returns instance of ChromaticObject)\n",
    "chromatic_obj = galsim.Convolve([dprof]) * sed\n",
    "\n",
    "# Select a single wavelength in nm (returns instance of GSObject)\n",
    "prof = chromatic_obj.evaluateAtWavelength(450.0).shear(g1=0.2, g2=0.05).withFlux(305180*.91893*1.08*.93*1.08*1.006*.95 * (5+1)*(1/1.25))\n",
    "\n",
    "# add BF effect\n",
    "sensor = galsim.SiliconSensor(strength = 1., diffusion_factor=1., nrecalc=1000)\n",
    "\n",
    "# draw image\n",
    "blank_image = galsim.Image(65,65,scale=0.2,xmin=0,ymin=0,dtype=np.float64)  \n",
    "image = prof.drawImage(image=blank_image, scale=0.2, method=\"phot\", save_photons=True)\n",
    "\n",
    "# calculate HSM moments (these are in pixel coordinates)\n",
    "new_params = galsim.hsm.HSMParams(max_amoment=5.0e5)\n",
    "results = image.FindAdaptiveMom(hsmparams=new_params)\n",
    "Ixx, Iyy, Ixy = calc2ndMom(results)\n",
    "flux = results.moments_amp\n",
    "\n",
    "\n",
    "    \n",
    "\n",
    "# plot it\n",
    "plt.figure(figsize=(8,6))\n",
    "plt.imshow(image.array)"
   ]
  },
  {
   "cell_type": "markdown",
   "id": "b4ec7c12-b8af-45af-8bf6-29a4d3cdf6be",
   "metadata": {},
   "source": [
    "### With BF"
   ]
  },
  {
   "cell_type": "code",
   "execution_count": 5,
   "id": "beff0bda-5bd9-4a3f-aa1e-21dbf786aba0",
   "metadata": {
    "tags": []
   },
   "outputs": [
    {
     "data": {
      "text/plain": [
       "<matplotlib.image.AxesImage at 0x7fa28a9499f0>"
      ]
     },
     "execution_count": 5,
     "metadata": {},
     "output_type": "execute_result"
    },
    {
     "data": {
      "image/png": "[encoded data removed]",
      "text/plain": [
       "<Figure size 432x288 with 1 Axes>"
      ]
     },
     "metadata": {
      "needs_background": "light"
     },
     "output_type": "display_data"
    }
   ],
   "source": [
    "import sys\n",
    "import os\n",
    "import math\n",
    "import logging\n",
    "import galsim\n",
    "\n",
    "\"\"\"\n",
    "About as simple as it gets:\n",
    "  - Use a circular Gaussian profile for the galaxy.\n",
    "  - Convolve it by a circular Gaussian PSF.\n",
    "  - Add Gaussian noise to the image.\n",
    "\"\"\"\n",
    "\n",
    "gal_flux = 2.0e4    # total counts on the image\n",
    "gal_sigma = 0.2     # arcsec\n",
    "pixel_scale = 0.2  # arcsec / pixel\n",
    "noise = 10.        # standard deviation of the counts in each pixel\n",
    "\n",
    "# add BF effect\n",
    "sensor = galsim.SiliconSensor(strength = 1., diffusion_factor=1., nrecalc=10000)\n",
    "\n",
    "# Create a flat spectral energy density profile\n",
    "sed = galsim.SED('wave**1.0',wave_type=\"nm\", flux_type=\"1\")\n",
    "\n",
    "# Define the galaxy profile\n",
    "gal = galsim.Gaussian(flux=gal_flux, sigma=gal_sigma) * sed\n",
    "final = gal.shear(g1=0.2, g2=0.05).evaluateAtWavelength(680.0)\n",
    "\n",
    "\n",
    "# Draw the image with a particular pixel scale, given in arcsec/pixel.\n",
    "# The returned image has a member, added_flux, which is gives the total flux actually added to\n",
    "# the image.  One could use this value to check if the image is large enough for some desired\n",
    "# accuracy level.  Here, we just ignore it.\n",
    "\n",
    "blank_image = galsim.Image(65,65,scale=0.2,xmin=0,ymin=0,dtype=np.float64)  \n",
    "image1 = final.drawImage(image=blank_image, scale=0.2, method=\"phot\", save_photons=True)\n",
    "\n",
    "\n",
    "# Add Gaussian noise to the image with specified sigma\n",
    "# image.addNoise(galsim.GaussianNoise(sigma=noise))\n",
    "\n",
    "# calculate HSM moments (these are in pixel coordinates)\n",
    "results = image1.FindAdaptiveMom()\n",
    "Ixx, Iyy, Ixy = calc2ndMom(results)\n",
    "flux = results.moments_amp\n",
    "\n",
    "# Calculate higher order image moments\n",
    "sys.path.append('/sdf/home/a/abrought/bin/PSFHOME/psfhome')\n",
    "from moments import *\n",
    "psf_base = galsim.Gaussian(sigma = 1.0)\n",
    "sxm = shapeletXmoment(psf_base, 6)\n",
    "pqlist = sxm.get_pq_full(6)\n",
    "moments = sxm.get_all_moments(image1, pqlist)\n",
    "\n",
    "\n",
    "plt.imshow(image1.array)"
   ]
  },
  {
   "cell_type": "code",
   "execution_count": 42,
   "id": "663f6b14-d666-4a6a-8f35-3a58c5570666",
   "metadata": {},
   "outputs": [
    {
     "name": "stdout",
     "output_type": "stream",
     "text": [
      "1.58951906944595 0.7283978421357884 0.10001441962735357\n"
     ]
    },
    {
     "data": {
      "text/latex": [
       "$M_{02} = 0.08629681169986725$"
      ],
      "text/plain": [
       "<IPython.core.display.Latex object>"
      ]
     },
     "metadata": {},
     "output_type": "display_data"
    },
    {
     "data": {
      "text/latex": [
       "$M_{11} = 1.035062313079834$"
      ],
      "text/plain": [
       "<IPython.core.display.Latex object>"
      ]
     },
     "metadata": {},
     "output_type": "display_data"
    },
    {
     "data": {
      "text/latex": [
       "$M_{20} = 0.37150651216506964$"
      ],
      "text/plain": [
       "<IPython.core.display.Latex object>"
      ]
     },
     "metadata": {},
     "output_type": "display_data"
    },
    {
     "data": {
      "text/latex": [
       "$M_{03} = 7.196528139158355e-06$"
      ],
      "text/plain": [
       "<IPython.core.display.Latex object>"
      ]
     },
     "metadata": {},
     "output_type": "display_data"
    },
    {
     "data": {
      "text/latex": [
       "$M_{12} = -0.00017791164943537646$"
      ],
      "text/plain": [
       "<IPython.core.display.Latex object>"
      ]
     },
     "metadata": {},
     "output_type": "display_data"
    },
    {
     "data": {
      "text/latex": [
       "$M_{21} = 4.30615038007792e-05$"
      ],
      "text/plain": [
       "<IPython.core.display.Latex object>"
      ]
     },
     "metadata": {},
     "output_type": "display_data"
    },
    {
     "data": {
      "text/latex": [
       "$M_{30} = -0.0001479297641108678$"
      ],
      "text/plain": [
       "<IPython.core.display.Latex object>"
      ]
     },
     "metadata": {},
     "output_type": "display_data"
    },
    {
     "data": {
      "text/latex": [
       "$M_{04} = 0.8210871986944932$"
      ],
      "text/plain": [
       "<IPython.core.display.Latex object>"
      ]
     },
     "metadata": {},
     "output_type": "display_data"
    },
    {
     "data": {
      "text/latex": [
       "$M_{13} = 0.004005503083857455$"
      ],
      "text/plain": [
       "<IPython.core.display.Latex object>"
      ]
     },
     "metadata": {},
     "output_type": "display_data"
    },
    {
     "data": {
      "text/latex": [
       "$M_{22} = 0.2503239142367765$"
      ],
      "text/plain": [
       "<IPython.core.display.Latex object>"
      ]
     },
     "metadata": {},
     "output_type": "display_data"
    },
    {
     "data": {
      "text/latex": [
       "$M_{31} = 6.734326919647567e-05$"
      ],
      "text/plain": [
       "<IPython.core.display.Latex object>"
      ]
     },
     "metadata": {},
     "output_type": "display_data"
    },
    {
     "data": {
      "text/latex": [
       "$M_{40} = 0.7498864027074313$"
      ],
      "text/plain": [
       "<IPython.core.display.Latex object>"
      ]
     },
     "metadata": {},
     "output_type": "display_data"
    },
    {
     "data": {
      "text/latex": [
       "$M_{05} = 0.0001804795151881117$"
      ],
      "text/plain": [
       "<IPython.core.display.Latex object>"
      ]
     },
     "metadata": {},
     "output_type": "display_data"
    },
    {
     "data": {
      "text/latex": [
       "$M_{14} = -0.00023961525831856553$"
      ],
      "text/plain": [
       "<IPython.core.display.Latex object>"
      ]
     },
     "metadata": {},
     "output_type": "display_data"
    },
    {
     "data": {
      "text/latex": [
       "$M_{23} = 8.162018779158805e-05$"
      ],
      "text/plain": [
       "<IPython.core.display.Latex object>"
      ]
     },
     "metadata": {},
     "output_type": "display_data"
    },
    {
     "data": {
      "text/latex": [
       "$M_{32} = -0.000256715549234266$"
      ],
      "text/plain": [
       "<IPython.core.display.Latex object>"
      ]
     },
     "metadata": {},
     "output_type": "display_data"
    },
    {
     "data": {
      "text/latex": [
       "$M_{41} = -6.619301975246262e-06$"
      ],
      "text/plain": [
       "<IPython.core.display.Latex object>"
      ]
     },
     "metadata": {},
     "output_type": "display_data"
    },
    {
     "data": {
      "text/latex": [
       "$M_{50} = -0.0007763309425386675$"
      ],
      "text/plain": [
       "<IPython.core.display.Latex object>"
      ]
     },
     "metadata": {},
     "output_type": "display_data"
    },
    {
     "data": {
      "text/latex": [
       "$M_{06} = 1.8775164016025523$"
      ],
      "text/plain": [
       "<IPython.core.display.Latex object>"
      ]
     },
     "metadata": {},
     "output_type": "display_data"
    },
    {
     "data": {
      "text/latex": [
       "$M_{15} = -0.009271119193143704$"
      ],
      "text/plain": [
       "<IPython.core.display.Latex object>"
      ]
     },
     "metadata": {},
     "output_type": "display_data"
    },
    {
     "data": {
      "text/latex": [
       "$M_{24} = 0.40972161085107484$"
      ],
      "text/plain": [
       "<IPython.core.display.Latex object>"
      ]
     },
     "metadata": {},
     "output_type": "display_data"
    },
    {
     "data": {
      "text/latex": [
       "$M_{33} = 0.006005978795579069$"
      ],
      "text/plain": [
       "<IPython.core.display.Latex object>"
      ]
     },
     "metadata": {},
     "output_type": "display_data"
    },
    {
     "data": {
      "text/latex": [
       "$M_{42} = 0.3758718304253509$"
      ],
      "text/plain": [
       "<IPython.core.display.Latex object>"
      ]
     },
     "metadata": {},
     "output_type": "display_data"
    },
    {
     "data": {
      "text/latex": [
       "$M_{51} = 0.0002532118223776528$"
      ],
      "text/plain": [
       "<IPython.core.display.Latex object>"
      ]
     },
     "metadata": {},
     "output_type": "display_data"
    },
    {
     "data": {
      "text/latex": [
       "$M_{60} = 1.8731223260354002$"
      ],
      "text/plain": [
       "<IPython.core.display.Latex object>"
      ]
     },
     "metadata": {},
     "output_type": "display_data"
    },
    {
     "name": "stdout",
     "output_type": "stream",
     "text": [
      "(25,)\n",
      "(25,)\n"
     ]
    }
   ],
   "source": [
    "print(Ixx, Iyy, Ixy)\n",
    "def get_pq_full(nmax):\n",
    "    pq_list = []\n",
    "        \n",
    "    for n in range(2, nmax+1):\n",
    "        p = 0\n",
    "        q = n\n",
    "\n",
    "        pq_list.append((p,q))\n",
    "\n",
    "        while p<n:\n",
    "            p+=1\n",
    "            q-=1\n",
    "            pq_list.append((p,q))\n",
    "            \n",
    "    return pq_list\n",
    "\n",
    "from IPython.display import display, Latex\n",
    "for i, (p,q) in enumerate(get_pq_full(6)):\n",
    "    display(Latex(r'$M_{%s%s} = %s$' % (p, q,moments[i])))\n",
    "\n",
    "\n",
    "HOMs[0] = moments\n",
    "print(moments.shape)\n",
    "print(moments.shape)"
   ]
  },
  {
   "cell_type": "markdown",
   "id": "4302a9ce-1ece-4e3d-b08a-ca2f3d46c6d8",
   "metadata": {},
   "source": [
    "### Without BF"
   ]
  },
  {
   "cell_type": "code",
   "execution_count": 11,
   "id": "bdaadecb-ad11-4e13-abe9-1fb4c74839ce",
   "metadata": {},
   "outputs": [
    {
     "data": {
      "text/plain": [
       "<matplotlib.colorbar.Colorbar at 0x7f7482ec4fd0>"
      ]
     },
     "execution_count": 11,
     "metadata": {},
     "output_type": "execute_result"
    },
    {
     "data": {
      "image/png": "[encoded data removed]",
      "text/plain": [
       "<Figure size 432x288 with 2 Axes>"
      ]
     },
     "metadata": {
      "needs_background": "light"
     },
     "output_type": "display_data"
    }
   ],
   "source": [
    "import sys\n",
    "import os\n",
    "import math\n",
    "import logging\n",
    "import galsim\n",
    "\n",
    "\"\"\"\n",
    "About as simple as it gets:\n",
    "  - Use a circular Gaussian profile for the galaxy.\n",
    "  - Convolve it by a circular Gaussian PSF.\n",
    "  - Add Gaussian noise to the image.\n",
    "\"\"\"\n",
    "\n",
    "gal_flux = 2.e5    # total counts on the image\n",
    "gal_sigma = 0.2     # arcsec\n",
    "pixel_scale = 0.2  # arcsec / pixel\n",
    "noise = 10.        # standard deviation of the counts in each pixel\n",
    "\n",
    "# add BF effect\n",
    "sensor = galsim.SiliconSensor(strength = 0.0001, diffusion_factor=1., nrecalc=10000)\n",
    "\n",
    "# Create a flat spectral energy density profile\n",
    "sed = galsim.SED('wave**1.0',wave_type=\"nm\", flux_type=\"1\")\n",
    "\n",
    "# Define the galaxy profile\n",
    "gal = galsim.Gaussian(flux=gal_flux, sigma=gal_sigma) * sed\n",
    "final = gal.shear(g1=0.2, g2=0.05).evaluateAtWavelength(680.0)\n",
    "\n",
    "\n",
    "# Draw the image with a particular pixel scale, given in arcsec/pixel.\n",
    "# The returned image has a member, added_flux, which is gives the total flux actually added to\n",
    "# the image.  One could use this value to check if the image is large enough for some desired\n",
    "# accuracy level.  Here, we just ignore it.\n",
    "\n",
    "blank_image = galsim.Image(65,65,scale=0.2,xmin=0,ymin=0,dtype=np.float64)  \n",
    "image2 = final.drawImage(image=blank_image, scale=0.2, method=\"phot\", save_photons=True)\n",
    "\n",
    "\n",
    "# Add Gaussian noise to the image with specified sigma\n",
    "# image.addNoise(galsim.GaussianNoise(sigma=noise))\n",
    "\n",
    "# calculate HSM moments (these are in pixel coordinates)\n",
    "results = image2.FindAdaptiveMom()\n",
    "Ixx, Iyy, Ixy = calc2ndMom(results)\n",
    "flux = results.moments_amp\n",
    "\n",
    "plt.imshow(image2.array)\n",
    "plt.colorbar()"
   ]
  },
  {
   "cell_type": "code",
   "execution_count": 7,
   "id": "be971fdf-9e61-4b9e-a708-91e29db11bb7",
   "metadata": {},
   "outputs": [
    {
     "name": "stdout",
     "output_type": "stream",
     "text": [
      "1.5912072863297602 0.7288545654252787 0.1006859930808992\n"
     ]
    }
   ],
   "source": [
    "print(Ixx, Iyy, Ixy)"
   ]
  },
  {
   "cell_type": "code",
   "execution_count": 12,
   "id": "afe2ad98-28b3-48ff-bddc-e46a0d1debff",
   "metadata": {},
   "outputs": [
    {
     "name": "stderr",
     "output_type": "stream",
     "text": [
      "/tmp/ipykernel_75059/727903430.py:2: RuntimeWarning: invalid value encountered in true_divide\n",
      "  plt.imshow((image1.array-image2.array)/image2.array)\n"
     ]
    },
    {
     "data": {
      "text/plain": [
       "<matplotlib.colorbar.Colorbar at 0x7f7482dc5b20>"
      ]
     },
     "execution_count": 12,
     "metadata": {},
     "output_type": "execute_result"
    },
    {
     "data": {
      "image/png": "[encoded data removed]",
      "text/plain": [
       "<Figure size 720x720 with 2 Axes>"
      ]
     },
     "metadata": {
      "needs_background": "light"
     },
     "output_type": "display_data"
    }
   ],
   "source": [
    "plt.figure(figsize=(10,10))\n",
    "plt.imshow((image1.array-image2.array)/image2.array)\n",
    "plt.colorbar()"
   ]
  },
  {
   "cell_type": "code",
   "execution_count": null,
   "id": "ff7e044f-5eb6-437a-9e38-a0c5550e17ea",
   "metadata": {},
   "outputs": [],
   "source": []
  }
 ],
 "metadata": {
  "kernelspec": {
   "display_name": "LSST",
   "language": "python",
   "name": "lsst"
  },
  "language_info": {
   "codemirror_mode": {
    "name": "ipython",
    "version": 3
   },
   "file_extension": ".py",
   "mimetype": "text/x-python",
   "name": "python",
   "nbconvert_exporter": "python",
   "pygments_lexer": "ipython3",
   "version": "3.10.10"
  }
 },
 "nbformat": 4,
 "nbformat_minor": 5
}
