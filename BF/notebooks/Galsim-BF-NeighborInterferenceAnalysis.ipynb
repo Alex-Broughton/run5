{
 "cells": [
  {
   "cell_type": "markdown",
   "id": "052f8d62-63b2-41cb-8172-1272e90e61ff",
   "metadata": {},
   "source": [
    "## Dependence of the BF Effect on Neighboring Spots in Real Data/Simulation"
   ]
  },
  {
   "cell_type": "markdown",
   "id": "44b2175f-5a64-469b-b7a1-d601b8eefaf8",
   "metadata": {},
   "source": [
    "Originally created by Alex Broughton\n"
   ]
  },
  {
   "cell_type": "code",
   "execution_count": 1,
   "id": "fb4010f1-6ecd-4967-8cd6-7546c906505e",
   "metadata": {},
   "outputs": [
    {
     "name": "stdout",
     "output_type": "stream",
     "text": [
      "eups                  LOCAL:/cvmfs/sw.lsst.eu/linux-x86_64/lsst_distrib/w_2022_14/conda/envs/lsst-scipipe-3.0.0-ext/eups \tsetup\n",
      "lsst_distrib          g4eaec17cb9+23bdaa02ee \tw_latest w_2022_14 current setup\n"
     ]
    }
   ],
   "source": [
    "! eups list -s | grep lsst_distrib"
   ]
  },
  {
   "cell_type": "code",
   "execution_count": 2,
   "id": "18cae193-541b-4767-a1b4-53482c61af08",
   "metadata": {},
   "outputs": [],
   "source": [
    "# Helper functions\n",
    "import sys\n",
    "import os\n",
    "import math\n",
    "import logging\n",
    "import galsim\n",
    "import numpy as np\n",
    "import matplotlib.pyplot as plt\n",
    "\n",
    "def calc2ndMom(results):\n",
    "    # Calculate Second Moments\n",
    "    e1 = results.observed_shape.e1\n",
    "    e2 = results.observed_shape.e2\n",
    "    sigma = results.moments_sigma\n",
    "    sigma_ave = sigma / (1 - e1**2 - e2**2 )**(0.25) \n",
    "    Ixx = (1+e1) * sigma_ave**2\n",
    "    Iyy = (1-e1) * sigma_ave**2\n",
    "    Ixy = e2 * (sigma_ave**2) \n",
    "    \n",
    "    return Ixx, Iyy, Ixy"
   ]
  },
  {
   "cell_type": "markdown",
   "id": "f5d2c6c0-5ac3-4022-b294-693368cb5979",
   "metadata": {},
   "source": [
    "#### Galaxy @ 680nm, Flux 10^3 - 10^6"
   ]
  },
  {
   "cell_type": "code",
   "execution_count": 3,
   "id": "5577cafe-77d3-40ef-842a-c97d8afd6cc5",
   "metadata": {
    "tags": []
   },
   "outputs": [
    {
     "data": {
      "text/plain": [
       "<matplotlib.collections.PathCollection at 0x7fc235e3df10>"
      ]
     },
     "execution_count": 3,
     "metadata": {},
     "output_type": "execute_result"
    },
    {
     "data": {
      "image/png": "[encoded data removed]",
      "text/plain": [
       "<Figure size 576x432 with 1 Axes>"
      ]
     },
     "metadata": {
      "needs_background": "light"
     },
     "output_type": "display_data"
    }
   ],
   "source": [
    "# model atmospheric turbulence as a VonKarman, with some small shear\n",
    "#gprof = galsim.VonKarman(lam=1000.,r0=0.2,L0=10.0).shear(g1=0.06, g2=-0.05)\n",
    "\n",
    "# add 4.5 microns sigma of Gaussian to model diffusion\n",
    "# convert 4.5 microns to arcsec with factor 0.2\"/10micron \n",
    "pixscale = 0.2/10.e-6\n",
    "dprof = galsim.Gaussian(sigma=2.30677178e-6*pixscale)\n",
    "\n",
    "# Airy function to simulate diffraction through mask\n",
    "lam_over_diam = 0.00000475*(680./450.)  # radians\n",
    "lam_over_diam *= 206265  # Convert to arcsec\n",
    "airy = galsim.Airy(lam_over_diam)\n",
    "\n",
    "# Create a flat spectral energy density profile\n",
    "sed = galsim.SED('wave**1.0',wave_type=\"nm\", flux_type=\"1\")\n",
    "\n",
    "# Define the galaxy profile (returns instance of ChromaticObject)\n",
    "chromatic_obj = galsim.Convolve([dprof,airy]) * sed\n",
    "\n",
    "\n",
    "stamps = []\n",
    "for n in range(20):\n",
    "\n",
    "    # Select a single wavelength in nm (returns instance of GSObject)\n",
    "    prof = chromatic_obj.evaluateAtWavelength(680.0).withFlux(305180*.91893*1.08*.93*1.08*1.006*.95 * (n+1)*(1/1.25))\n",
    "\n",
    "    # add BF effect\n",
    "    #sensor = galsim.SiliconSensor(strength = 1.4, diffusion_factor=1.75, nrecalc=1000)\n",
    "    #sensor = galsim.SiliconSensor(strength = 1., diffusion_factor=1., nrecalc=1000)\n",
    "\n",
    "    # draw image\n",
    "    blank_image = galsim.Image(65*3,65*3,scale=0.2,xmin=0,ymin=0,dtype=np.float64)  \n",
    "    star_image1 = prof.drawImage(image=blank_image, offset=(-65.,0), scale=0.2, method=\"phot\", save_photons=True)\n",
    "    star_image2 = prof.drawImage(image=star_image1, offset=(-65.,65.), scale=0.2, method=\"phot\", save_photons=True,add_to_image=True)\n",
    "    star_image3 = prof.drawImage(image=star_image2, offset=(0,65.), scale=0.2, method=\"phot\", save_photons=True,add_to_image=True)\n",
    "    star_image4 = prof.drawImage(image=star_image3, offset=(65.,65.), scale=0.2, method=\"phot\", save_photons=True,add_to_image=True)\n",
    "    star_image5 = prof.drawImage(image=star_image4, offset=(65.,0), scale=0.2, method=\"phot\", save_photons=True,add_to_image=True)\n",
    "    star_image6 = prof.drawImage(image=star_image5, offset=(65.,-65), scale=0.2, method=\"phot\", save_photons=True,add_to_image=True)\n",
    "    star_image7 = prof.drawImage(image=star_image6, offset=(0,-65), scale=0.2, method=\"phot\", save_photons=True,add_to_image=True)\n",
    "    star_image8 = prof.drawImage(image=star_image7, offset=(-65.,-65.), scale=0.2, method=\"phot\", save_photons=True,add_to_image=True)\n",
    "    star_image = prof.drawImage(image=star_image8, scale=0.2, method=\"phot\", save_photons=True,add_to_image=True)\n",
    "\n",
    "    temp = galsim.Image(star_image, dtype=star_image.dtype, copy=True)\n",
    "\n",
    "    stamp = temp.subImage(galsim.BoundsI(temp.center.x - 33, temp.center.x + 33, temp.center.y - 33, temp.center.y + 33))\n",
    "    stamps.append(galsim.Image(stamp.array))\n",
    "\n",
    "\n",
    "# calculate HSM moments (these are in pixel coordinates)\n",
    "sigmas = []\n",
    "fluxes = []\n",
    "for stamp in stamps:\n",
    "    #mom = stamps[0].FindAdaptiveMom(weight=None, strict=False)\n",
    "    results = stamp.FindAdaptiveMom()\n",
    "    Ixx, Iyy, Ixy = calc2ndMom(results)\n",
    "    sigmas.append(Ixx)\n",
    "    fluxes.append(results.moments_amp)\n",
    "    \n",
    "    \n",
    "# plot it\n",
    "plt.figure(figsize=(8,6))\n",
    "plt.scatter(fluxes, sigmas)"
   ]
  },
  {
   "cell_type": "code",
   "execution_count": 4,
   "id": "2e0223b9-cad1-4266-92f1-b7544d8d3cbb",
   "metadata": {},
   "outputs": [
    {
     "data": {
      "text/plain": [
       "<matplotlib.collections.PathCollection at 0x7fc233d30c70>"
      ]
     },
     "execution_count": 4,
     "metadata": {},
     "output_type": "execute_result"
    },
    {
     "data": {
      "image/png": "[encoded data removed]",
      "text/plain": [
       "<Figure size 576x432 with 1 Axes>"
      ]
     },
     "metadata": {
      "needs_background": "light"
     },
     "output_type": "display_data"
    }
   ],
   "source": [
    "# model atmospheric turbulence as a VonKarman, with some small shear\n",
    "#gprof = galsim.VonKarman(lam=1000.,r0=0.2,L0=10.0).shear(g1=0.06, g2=-0.05)\n",
    "\n",
    "# add 4.5 microns sigma of Gaussian to model diffusion\n",
    "# convert 4.5 microns to arcsec with factor 0.2\"/10micron \n",
    "pixscale = 0.2/10.e-6\n",
    "dprof = galsim.Gaussian(sigma=2.30677178e-6*pixscale)\n",
    "\n",
    "# Airy function to simulate diffraction through mask\n",
    "lam_over_diam = 0.00000475*(680./450.)  # radians\n",
    "lam_over_diam *= 206265  # Convert to arcsec\n",
    "airy = galsim.Airy(lam_over_diam)\n",
    "\n",
    "# Create a flat spectral energy density profile\n",
    "sed = galsim.SED('wave**1.0',wave_type=\"nm\", flux_type=\"1\")\n",
    "\n",
    "# Define the galaxy profile (returns instance of ChromaticObject)\n",
    "chromatic_obj = galsim.Convolve([dprof,airy]) * sed\n",
    "\n",
    "\n",
    "stamps = []\n",
    "for n in range(20):\n",
    "\n",
    "    # Select a single wavelength in nm (returns instance of GSObject)\n",
    "    prof = chromatic_obj.evaluateAtWavelength(680.0).withFlux(305180*.91893*1.08*.93*1.08*1.006*.95 * (n+1)*(1/1.25))\n",
    "\n",
    "    # add BF effect\n",
    "    #sensor = galsim.SiliconSensor(strength = 1.4, diffusion_factor=1.75, nrecalc=1000)\n",
    "    #sensor = galsim.SiliconSensor(strength = 1., diffusion_factor=1., nrecalc=1000)\n",
    "\n",
    "    # draw image\n",
    "    blank_image = galsim.Image(33,33,scale=0.2,xmin=0,ymin=0,dtype=np.float64)  \n",
    "    star_image = prof.drawImage(image=blank_image, scale=0.2, method=\"phot\", save_photons=True, add_to_image=True)\n",
    "\n",
    "    stamps.append(galsim.Image(star_image.array))\n",
    "\n",
    "\n",
    "# calculate HSM moments (these are in pixel coordinates)\n",
    "sigmas_single = []\n",
    "fluxes_single = []\n",
    "for stamp in stamps:\n",
    "    #mom = stamps[0].FindAdaptiveMom(weight=None, strict=False)\n",
    "    results = stamp.FindAdaptiveMom()\n",
    "    Ixx, Iyy, Ixy = calc2ndMom(results)\n",
    "    sigmas_single.append(Ixx)\n",
    "    fluxes_single.append(results.moments_amp)\n",
    "    \n",
    "    \n",
    "# plot it\n",
    "plt.figure(figsize=(8,6))\n",
    "plt.scatter(fluxes_single, sigmas_single)\n",
    "plt.scatter(fluxes, sigmas)\n"
   ]
  },
  {
   "cell_type": "code",
   "execution_count": null,
   "id": "beff0bda-5bd9-4a3f-aa1e-21dbf786aba0",
   "metadata": {},
   "outputs": [],
   "source": []
  }
 ],
 "metadata": {
  "kernelspec": {
   "display_name": "Python [conda env:lsst-scipipe-4.0.1-ext] *",
   "language": "python",
   "name": "conda-env-lsst-scipipe-4.0.1-ext-py"
  },
  "language_info": {
   "codemirror_mode": {
    "name": "ipython",
    "version": 3
   },
   "file_extension": ".py",
   "mimetype": "text/x-python",
   "name": "python",
   "nbconvert_exporter": "python",
   "pygments_lexer": "ipython3",
   "version": "3.10.5"
  }
 },
 "nbformat": 4,
 "nbformat_minor": 5
}
