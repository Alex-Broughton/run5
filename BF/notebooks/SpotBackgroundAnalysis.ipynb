{
 "cells": [
  {
   "cell_type": "code",
   "execution_count": 1,
   "id": "35f059b2-d801-484e-97bb-4e20c823b6f8",
   "metadata": {},
   "outputs": [
    {
     "name": "stdout",
     "output_type": "stream",
     "text": [
      "eups                  LOCAL:/cvmfs/sw.lsst.eu/linux-x86_64/lsst_distrib/w_2022_14/conda/envs/lsst-scipipe-3.0.0-ext/eups \tsetup\n",
      "lsst_distrib          g4eaec17cb9+23bdaa02ee \tw_latest w_2022_14 current setup\n"
     ]
    }
   ],
   "source": [
    "! eups list -s | grep lsst_distrib"
   ]
  },
  {
   "cell_type": "code",
   "execution_count": 2,
   "id": "7ef292fc-7064-4384-b59c-ae55370f45a1",
   "metadata": {},
   "outputs": [
    {
     "name": "stderr",
     "output_type": "stream",
     "text": [
      "\n",
      "WARNING: version mismatch between CFITSIO header (v4.000999999999999) and linked library (v4.01).\n",
      "\n",
      "\n",
      "WARNING: version mismatch between CFITSIO header (v4.000999999999999) and linked library (v4.01).\n",
      "\n",
      "\n",
      "WARNING: version mismatch between CFITSIO header (v4.000999999999999) and linked library (v4.01).\n",
      "\n"
     ]
    }
   ],
   "source": [
    "import os\n",
    "import numpy as np\n",
    "import glob\n",
    "from astropy.io import fits\n",
    "import pickle as pkl\n",
    "import matplotlib.pyplot as plt\n",
    "from lsst.daf.butler import Butler\n",
    "import lsst.afw.display as afwDisplay\n",
    "import lsst.afw.image as afwImage\n",
    "from lsst.obs.lsst import LsstCam\n",
    "from lsst.afw.cameraGeom.utils import findAmp\n",
    "from lsst.geom import Point2I\n",
    "from astropy.table import Table, vstack, join\n",
    "from scipy import stats\n",
    "from scipy.optimize import curve_fit\n",
    "import logging\n",
    "logging.basicConfig()\n",
    "logger = logging.getLogger()\n",
    "logger.setLevel(logging.CRITICAL)\n",
    "\n",
    "repo_path = \"/sdf/group/lsst/camera/IandT/repo_gen3/BOT_data/butler.yaml\"\n",
    "\n",
    "butler = Butler(repo_path)\n",
    "registry = butler.registry"
   ]
  },
  {
   "cell_type": "code",
   "execution_count": 5,
   "id": "3ee0cb7e-8ea1-4d67-8852-8bd673b99468",
   "metadata": {},
   "outputs": [
    {
     "ename": "IndexError",
     "evalue": "list index out of range",
     "output_type": "error",
     "traceback": [
      "\u001b[0;31m---------------------------------------------------------------------------\u001b[0m",
      "\u001b[0;31mIndexError\u001b[0m                                Traceback (most recent call last)",
      "Input \u001b[0;32mIn [5]\u001b[0m, in \u001b[0;36m<cell line: 15>\u001b[0;34m()\u001b[0m\n\u001b[1;32m     11\u001b[0m \u001b[38;5;66;03m#'MC_C_20211225_001863' -> 1.25s exposure with projector in the same positionas 7.5s\u001b[39;00m\n\u001b[1;32m     12\u001b[0m \u001b[38;5;66;03m#'MC_C_20211225_001913' -> 7.5s exposure with projector in the same positionas 1.25s\u001b[39;00m\n\u001b[1;32m     14\u001b[0m datasetRefs \u001b[38;5;241m=\u001b[39m \u001b[38;5;28mlist\u001b[39m(subregistry\u001b[38;5;241m.\u001b[39mqueryDatasets(datasetType\u001b[38;5;241m=\u001b[39m\u001b[38;5;124m\"\u001b[39m\u001b[38;5;124mgridSpotSrc\u001b[39m\u001b[38;5;124m\"\u001b[39m, collections\u001b[38;5;241m=\u001b[39mcol, where\u001b[38;5;241m=\u001b[39mwhere))\n\u001b[0;32m---> 15\u001b[0m aref \u001b[38;5;241m=\u001b[39m \u001b[43mdatasetRefs\u001b[49m\u001b[43m[\u001b[49m\u001b[38;5;241;43m0\u001b[39;49m\u001b[43m]\u001b[49m\n\u001b[1;32m     17\u001b[0m \u001b[38;5;66;03m# Get spot catalog\u001b[39;00m\n\u001b[1;32m     18\u001b[0m src \u001b[38;5;241m=\u001b[39m subbutler\u001b[38;5;241m.\u001b[39mget(\u001b[38;5;124m\"\u001b[39m\u001b[38;5;124mgridSpotSrc\u001b[39m\u001b[38;5;124m\"\u001b[39m,dataId\u001b[38;5;241m=\u001b[39maref\u001b[38;5;241m.\u001b[39mdataId)\n",
      "\u001b[0;31mIndexError\u001b[0m: list index out of range"
     ]
    }
   ],
   "source": [
    "col = 'u/abrought/BF/run_13231/R02_S00/uncorrected'\n",
    "\n",
    "    \n",
    "subbutler = Butler(repo_path,collections=col)\n",
    "subregistry = subbutler.registry\n",
    "\n",
    "where = f\"\"\"\n",
    "instrument='LSSTCam'\n",
    "and exposure.obs_id = 'MC_C_20211225_001863'\n",
    "\"\"\"\n",
    "#'MC_C_20211225_001863' -> 1.25s exposure with projector in the same positionas 7.5s\n",
    "#'MC_C_20211225_001913' -> 7.5s exposure with projector in the same positionas 1.25s\n",
    "\n",
    "datasetRefs = list(subregistry.queryDatasets(datasetType=\"gridSpotSrc\", collections=col, where=where))\n",
    "aref = datasetRefs[0]\n",
    "\n",
    "# Get spot catalog\n",
    "src = subbutler.get(\"gridSpotSrc\",dataId=aref.dataId)\n",
    "mdsrc = src.getMetadata()\n",
    "\n",
    "# Get the raw image\n",
    "raw = subbutler.get(\"raw\",dataId=aref.dataId)\n",
    "raw_image = raw.getImage().getArray()\n",
    "\n",
    "# Get the processed image\n",
    "postisr = subbutler.get(\"postISRCCD\",dataId=aref.dataId)\n",
    "mdpostisr = postisr.getMetadata()\n",
    "image = postisr.getImage().getArray()\n",
    "\n",
    "# Flux cuts\n",
    "#maxFlux = np.nanmax(src['base_SdssShape_instFlux'])\n",
    "#select = src['base_SdssShape_instFlux'] >= 0.95*maxFlux\n",
    "#src  = src.subset(select)\n",
    "\n",
    "# Get only points with a good grid fit:\n",
    "#ymask = (np.abs(src['base_SdssCentroid_y'] - src['spotgrid_y'])<2)\n",
    "#xmask = (np.abs(src['base_SdssCentroid_x'] - src['spotgrid_x'])<2)\n",
    "#mask3 = xmask & ymask\n",
    "\n",
    "# Get only the circular spots (removes elliptical spots as well as spots w/ trail bleeding)\n",
    "#g1 = src['base_SdssShape_xx']-src['base_SdssShape_yy']\n",
    "#g2 = 2*src['base_SdssShape_xy']\n",
    "#ellpticities = np.sqrt(g1**2 + g2**2)\n",
    "\n",
    "#mask2 = (ellpticities < 0.7)\n",
    "\n",
    "# Center cuts\n",
    "#maxradius = 15.*np.mean([mdsrc[\"GRID_XSTEP\"], mdsrc[\"GRID_YSTEP\"]])\n",
    "#distances = np.sqrt((src[\"spotgrid_x\"] - x0)**2 + (src[\"spotgrid_y\"] - y0)**2)\n",
    "#mask1 = (distances < maxradius)\n",
    "\n",
    "# NaN cuts\n",
    "#mask0 = (src['spotgrid_index'] >= 0)\n",
    "\n",
    "#src = src[mask0 & mask3]\n",
    "#src = src[mask0 & mask3]\n",
    "\n",
    "# Get the position of a random nth spot\n",
    "#n=1200\n",
    "# = int(src['base_SdssCentroid_x'][np.argwhere(src['spotgrid_index'] == n)]) # The coordinate systems are flipped\n",
    "#y = int(src['base_SdssCentroid_y'][np.argwhere(src['spotgrid_index'] == n)])\n",
    "#print(src['base_PsfFlux_instFlux'][np.argwhere(src['spotgrid_index'] == n)])\n",
    "\n",
    "from matplotlib.colors import LogNorm\n",
    "plt.figure(figsize=(12,11))\n",
    "plt.imshow(image, norm=LogNorm())\n",
    "plt.colorbar()"
   ]
  },
  {
   "cell_type": "code",
   "execution_count": 4,
   "id": "8dc2b54e-3cf0-45e6-8995-17560582a0c6",
   "metadata": {},
   "outputs": [
    {
     "data": {
      "text/plain": [
       "[<matplotlib.lines.Line2D at 0x7fe330509e50>]"
      ]
     },
     "execution_count": 4,
     "metadata": {},
     "output_type": "execute_result"
    },
    {
     "data": {
      "image/png": "[encoded data removed]",
      "text/plain": [
       "<Figure size 1440x576 with 1 Axes>"
      ]
     },
     "metadata": {
      "needs_background": "light"
     },
     "output_type": "display_data"
    }
   ],
   "source": [
    "plt.figure(figsize=(20,8))\n",
    "from scipy.ndimage import gaussian_filter\n",
    "plt.plot(gaussian_filter(image[1000,:], 5), drawstyle='steps-mid')\n",
    "#plt.yscale('log')"
   ]
  },
  {
   "cell_type": "code",
   "execution_count": null,
   "id": "91937b2b-a72a-4f92-a3dd-f077aba2bbae",
   "metadata": {},
   "outputs": [],
   "source": []
  }
 ],
 "metadata": {
  "kernelspec": {
   "display_name": "Python [conda env:lsst-scipipe-3.0.0-ext] *",
   "language": "python",
   "name": "conda-env-lsst-scipipe-3.0.0-ext-py"
  },
  "language_info": {
   "codemirror_mode": {
    "name": "ipython",
    "version": 3
   },
   "file_extension": ".py",
   "mimetype": "text/x-python",
   "name": "python",
   "nbconvert_exporter": "python",
   "pygments_lexer": "ipython3",
   "version": "3.8.13"
  }
 },
 "nbformat": 4,
 "nbformat_minor": 5
}
