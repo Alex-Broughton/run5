{
 "cells": [
  {
   "cell_type": "markdown",
   "id": "6a5b15d5-9296-4e84-86eb-de837f64b12a",
   "metadata": {},
   "source": [
    "### BF Kernel Wavelength Dependence"
   ]
  },
  {
   "cell_type": "code",
   "execution_count": 1,
   "id": "7efc765b-bb4f-4275-ad47-2380a080b96a",
   "metadata": {},
   "outputs": [
    {
     "name": "stdout",
     "output_type": "stream",
     "text": [
      "eups                  LOCAL:/cvmfs/sw.lsst.eu/linux-x86_64/lsst_distrib/w_2022_28/conda/envs/lsst-scipipe-4.0.1-ext/eups \tsetup\n",
      "lsst_distrib          g0b29ad24fb+ffb18d4c10 \tw_latest w_2022_28 current setup\n"
     ]
    }
   ],
   "source": [
    "! eups list -s | grep lsst_distrib"
   ]
  },
  {
   "cell_type": "code",
   "execution_count": 2,
   "id": "7f18d795-edb7-4bac-aef1-7c144c45d035",
   "metadata": {},
   "outputs": [
    {
     "name": "stdout",
     "output_type": "stream",
     "text": [
      "Reading config file /sdf/home/a/abrought/imSim/config/flat.yaml\n",
      "\n",
      "WARNING: version mismatch between CFITSIO header (v4.000999999999999) and linked library (v4.01).\n",
      "\n",
      "\n",
      "WARNING: version mismatch between CFITSIO header (v4.000999999999999) and linked library (v4.01).\n",
      "\n",
      "\n",
      "WARNING: version mismatch between CFITSIO header (v4.000999999999999) and linked library (v4.01).\n",
      "\n",
      "Overriding default configuration file with /cvmfs/sw.lsst.eu/linux-x86_64/lsst_distrib/w_2022_28/conda/envs/lsst-scipipe-4.0.1-ext/share/eups/Linux64/dustmaps_cachedata/g41a3ec361e+ac198e9f13/config/.dustmapsrc\n",
      "Reading TreeRing file /sdf/home/a/abrought/imSim/imsim/data/tree_ring_data/tree_ring_parameters_2018-04-26.txt\n",
      "Start file 0 = flats/flat_eimage_00001-r-R22_S11-det094.fits\n",
      "Making amplifier images\n",
      "Writing amplifier images to flats/flat_amp_00001-r-R22_S11-det094.fits.fz\n",
      "File 0 = flats/flat_eimage_00001-r-R22_S11-det094.fits: time = 185.691411 sec\n",
      "Done building files\n"
     ]
    }
   ],
   "source": [
    "! galsim ~/imSim/config/flat.yaml\n"
   ]
  },
  {
   "cell_type": "code",
   "execution_count": 3,
   "id": "1259ac1b-d792-46ce-979b-733ad63ed5fa",
   "metadata": {},
   "outputs": [
    {
     "name": "stdout",
     "output_type": "stream",
     "text": [
      "/sdf/home/a/abrought/run5/BF/notebooks\n"
     ]
    }
   ],
   "source": [
    "! sed -i 's/counts_per_pixel: 10000/counts_per_pixel: 20000/' ./config/flat.yaml\n",
    "! galsim ~/imSim/config/flat.yaml\n"
   ]
  },
  {
   "cell_type": "code",
   "execution_count": null,
   "id": "cc8d93e7-a39a-4773-980f-c8d2aa205a93",
   "metadata": {},
   "outputs": [],
   "source": []
  }
 ],
 "metadata": {
  "kernelspec": {
   "display_name": "LSST",
   "language": "python",
   "name": "lsst"
  },
  "language_info": {
   "codemirror_mode": {
    "name": "ipython",
    "version": 3
   },
   "file_extension": ".py",
   "mimetype": "text/x-python",
   "name": "python",
   "nbconvert_exporter": "python",
   "pygments_lexer": "ipython3",
   "version": "3.10.9"
  }
 },
 "nbformat": 4,
 "nbformat_minor": 5
}
