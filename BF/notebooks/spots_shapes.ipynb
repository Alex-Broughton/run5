{
 "cells": [
  {
   "cell_type": "markdown",
   "metadata": {},
   "source": [
    "## Spot Analysis of BF Correction\n",
    "\n",
    "Originally written by Alex Broughton\n",
    "\n"
   ]
  },
  {
   "cell_type": "code",
   "execution_count": 1,
   "metadata": {},
   "outputs": [
    {
     "name": "stdout",
     "output_type": "stream",
     "text": [
      "eups                  LOCAL:/cvmfs/sw.lsst.eu/linux-x86_64/lsst_distrib/w_2022_14/conda/envs/lsst-scipipe-3.0.0-ext/eups \tsetup\n",
      "lsst_distrib          g4eaec17cb9+23bdaa02ee \tw_latest w_2022_14 current setup\n"
     ]
    }
   ],
   "source": [
    "! eups list -s | grep lsst_distrib"
   ]
  },
  {
   "cell_type": "code",
   "execution_count": 2,
   "metadata": {
    "tags": []
   },
   "outputs": [
    {
     "name": "stderr",
     "output_type": "stream",
     "text": [
      "\n",
      "WARNING: version mismatch between CFITSIO header (v4.000999999999999) and linked library (v4.01).\n",
      "\n",
      "\n",
      "WARNING: version mismatch between CFITSIO header (v4.000999999999999) and linked library (v4.01).\n",
      "\n",
      "\n",
      "WARNING: version mismatch between CFITSIO header (v4.000999999999999) and linked library (v4.01).\n",
      "\n"
     ]
    }
   ],
   "source": [
    "import os\n",
    "import numpy as np\n",
    "import glob\n",
    "from astropy.io import fits\n",
    "import pickle as pkl\n",
    "import matplotlib.pyplot as plt\n",
    "from lsst.daf.butler import Butler\n",
    "import lsst.afw.display as afwDisplay\n",
    "import lsst.afw.image as afwImage\n",
    "from lsst.obs.lsst import LsstCam\n",
    "from lsst.afw.cameraGeom.utils import findAmp\n",
    "from lsst.geom import Point2I\n",
    "from astropy.table import Table, vstack, join\n",
    "from scipy import stats\n",
    "from scipy.optimize import curve_fit\n",
    "import logging\n",
    "\n",
    "\n",
    "logging.basicConfig()\n",
    "logger = logging.getLogger()\n",
    "logger.setLevel(logging.CRITICAL)"
   ]
  },
  {
   "cell_type": "code",
   "execution_count": 3,
   "metadata": {},
   "outputs": [],
   "source": [
    "import sys\n",
    "sys.path.append('/sdf/home/a/abrought/bin')\n",
    "from SpotAnalysis import Analyzer, readData, getSensorData, removeBadExps"
   ]
  },
  {
   "cell_type": "markdown",
   "metadata": {},
   "source": [
    "#### Read Data"
   ]
  },
  {
   "cell_type": "code",
   "execution_count": 4,
   "metadata": {},
   "outputs": [
    {
     "ename": "KeyError",
     "evalue": "'BOTX'",
     "output_type": "error",
     "traceback": [
      "\u001b[0;31m---------------------------------------------------------------------------\u001b[0m",
      "\u001b[0;31mKeyError\u001b[0m                                  Traceback (most recent call last)",
      "Input \u001b[0;32mIn [4]\u001b[0m, in \u001b[0;36m<cell line: 6>\u001b[0;34m()\u001b[0m\n\u001b[1;32m      6\u001b[0m \u001b[38;5;28;01mfor\u001b[39;00m file \u001b[38;5;129;01min\u001b[39;00m files:\n\u001b[1;32m      7\u001b[0m     data \u001b[38;5;241m=\u001b[39m Table(pkl\u001b[38;5;241m.\u001b[39mload( \u001b[38;5;28mopen\u001b[39m(file, \u001b[38;5;124m\"\u001b[39m\u001b[38;5;124mrb\u001b[39m\u001b[38;5;124m\"\u001b[39m) ))\n\u001b[0;32m----> 8\u001b[0m     data \u001b[38;5;241m=\u001b[39m \u001b[43mremoveBadExps\u001b[49m\u001b[43m(\u001b[49m\u001b[43mexpstoremove\u001b[49m\u001b[43m,\u001b[49m\u001b[43m \u001b[49m\u001b[43mdata\u001b[49m\u001b[43m)\u001b[49m\n\u001b[1;32m      9\u001b[0m     g1 \u001b[38;5;241m=\u001b[39m np\u001b[38;5;241m.\u001b[39masarray(data[\u001b[38;5;124m'\u001b[39m\u001b[38;5;124mbase_SdssShape_xx\u001b[39m\u001b[38;5;124m'\u001b[39m][\u001b[38;5;241m0\u001b[39m])\u001b[38;5;241m-\u001b[39mnp\u001b[38;5;241m.\u001b[39masarray(data[\u001b[38;5;124m'\u001b[39m\u001b[38;5;124mbase_SdssShape_yy\u001b[39m\u001b[38;5;124m'\u001b[39m][\u001b[38;5;241m0\u001b[39m])\n\u001b[1;32m     10\u001b[0m     g2 \u001b[38;5;241m=\u001b[39m \u001b[38;5;241m2\u001b[39m\u001b[38;5;241m*\u001b[39mnp\u001b[38;5;241m.\u001b[39masarray(data[\u001b[38;5;124m'\u001b[39m\u001b[38;5;124mbase_SdssShape_xy\u001b[39m\u001b[38;5;124m'\u001b[39m][\u001b[38;5;241m0\u001b[39m])\n",
      "File \u001b[0;32m~/bin/SpotAnalysis.py:282\u001b[0m, in \u001b[0;36mremoveBadExps\u001b[0;34m(expstoremove, data)\u001b[0m\n\u001b[1;32m    279\u001b[0m \u001b[38;5;28;01mif\u001b[39;00m expstoremove \u001b[38;5;241m==\u001b[39m \u001b[38;5;241m0\u001b[39m:\n\u001b[1;32m    280\u001b[0m     \u001b[38;5;28;01mreturn\u001b[39;00m data\n\u001b[0;32m--> 282\u001b[0m unique_pos \u001b[38;5;241m=\u001b[39m np\u001b[38;5;241m.\u001b[39munique(np\u001b[38;5;241m.\u001b[39masarray(np\u001b[38;5;241m.\u001b[39mround(\u001b[43mdata\u001b[49m\u001b[43m[\u001b[49m\u001b[38;5;124;43m'\u001b[39;49m\u001b[38;5;124;43mBOTX\u001b[39;49m\u001b[38;5;124;43m'\u001b[39;49m\u001b[43m]\u001b[49m,\u001b[38;5;241m0\u001b[39m)) \u001b[38;5;241m/\u001b[39m np\u001b[38;5;241m.\u001b[39masarray(np\u001b[38;5;241m.\u001b[39mround(data[\u001b[38;5;124m'\u001b[39m\u001b[38;5;124mBOTY\u001b[39m\u001b[38;5;124m'\u001b[39m],\u001b[38;5;241m0\u001b[39m)))\n\u001b[1;32m    283\u001b[0m \u001b[38;5;28;01mif\u001b[39;00m expstoremove \u001b[38;5;241m>\u001b[39m \u001b[38;5;241m0\u001b[39m :\n\u001b[1;32m    284\u001b[0m     \u001b[38;5;28;01mfor\u001b[39;00m pos \u001b[38;5;129;01min\u001b[39;00m unique_pos:\n",
      "File \u001b[0;32m~/.local/lib/python3.8/site-packages/astropy/table/table.py:1867\u001b[0m, in \u001b[0;36mTable.__getitem__\u001b[0;34m(self, item)\u001b[0m\n\u001b[1;32m   1865\u001b[0m \u001b[38;5;28;01mdef\u001b[39;00m \u001b[38;5;21m__getitem__\u001b[39m(\u001b[38;5;28mself\u001b[39m, item):\n\u001b[1;32m   1866\u001b[0m     \u001b[38;5;28;01mif\u001b[39;00m \u001b[38;5;28misinstance\u001b[39m(item, \u001b[38;5;28mstr\u001b[39m):\n\u001b[0;32m-> 1867\u001b[0m         \u001b[38;5;28;01mreturn\u001b[39;00m \u001b[38;5;28;43mself\u001b[39;49m\u001b[38;5;241;43m.\u001b[39;49m\u001b[43mcolumns\u001b[49m\u001b[43m[\u001b[49m\u001b[43mitem\u001b[49m\u001b[43m]\u001b[49m\n\u001b[1;32m   1868\u001b[0m     \u001b[38;5;28;01melif\u001b[39;00m \u001b[38;5;28misinstance\u001b[39m(item, (\u001b[38;5;28mint\u001b[39m, np\u001b[38;5;241m.\u001b[39minteger)):\n\u001b[1;32m   1869\u001b[0m         \u001b[38;5;28;01mreturn\u001b[39;00m \u001b[38;5;28mself\u001b[39m\u001b[38;5;241m.\u001b[39mRow(\u001b[38;5;28mself\u001b[39m, item)\n",
      "File \u001b[0;32m~/.local/lib/python3.8/site-packages/astropy/table/table.py:246\u001b[0m, in \u001b[0;36mTableColumns.__getitem__\u001b[0;34m(self, item)\u001b[0m\n\u001b[1;32m    236\u001b[0m \u001b[38;5;124;03m\"\"\"Get items from a TableColumns object.\u001b[39;00m\n\u001b[1;32m    237\u001b[0m \u001b[38;5;124;03m::\u001b[39;00m\n\u001b[1;32m    238\u001b[0m \n\u001b[0;32m   (...)\u001b[0m\n\u001b[1;32m    243\u001b[0m \u001b[38;5;124;03m  tc[1:3] # <TableColumns names=('b', 'c')>\u001b[39;00m\n\u001b[1;32m    244\u001b[0m \u001b[38;5;124;03m\"\"\"\u001b[39;00m\n\u001b[1;32m    245\u001b[0m \u001b[38;5;28;01mif\u001b[39;00m \u001b[38;5;28misinstance\u001b[39m(item, \u001b[38;5;28mstr\u001b[39m):\n\u001b[0;32m--> 246\u001b[0m     \u001b[38;5;28;01mreturn\u001b[39;00m \u001b[43mOrderedDict\u001b[49m\u001b[38;5;241;43m.\u001b[39;49m\u001b[38;5;21;43m__getitem__\u001b[39;49m\u001b[43m(\u001b[49m\u001b[38;5;28;43mself\u001b[39;49m\u001b[43m,\u001b[49m\u001b[43m \u001b[49m\u001b[43mitem\u001b[49m\u001b[43m)\u001b[49m\n\u001b[1;32m    247\u001b[0m \u001b[38;5;28;01melif\u001b[39;00m \u001b[38;5;28misinstance\u001b[39m(item, (\u001b[38;5;28mint\u001b[39m, np\u001b[38;5;241m.\u001b[39minteger)):\n\u001b[1;32m    248\u001b[0m     \u001b[38;5;28;01mreturn\u001b[39;00m \u001b[38;5;28mlist\u001b[39m(\u001b[38;5;28mself\u001b[39m\u001b[38;5;241m.\u001b[39mvalues())[item]\n",
      "\u001b[0;31mKeyError\u001b[0m: 'BOTX'"
     ]
    }
   ],
   "source": [
    "outdir = \"/sdf/home/a/abrought/run5/BF/data/\"\n",
    "files = glob.glob(outdir + \"data*ellipse_uncorrected.pkl\")\n",
    "expstoremove=1\n",
    "\n",
    "es_uncorrected = []\n",
    "for file in files:\n",
    "    data = Table(pkl.load( open(file, \"rb\") ))\n",
    "    data = removeBadExps(expstoremove, data)\n",
    "    g1 = np.asarray(data['base_SdssShape_xx'][0])-np.asarray(data['base_SdssShape_yy'][0])\n",
    "    g2 = 2*np.asarray(data['base_SdssShape_xy'][0])\n",
    "    e = np.sqrt(g1.flatten()**2 + g2.flatten()**2)\n",
    "    es_uncorrected.extend(e)\n",
    "    \n",
    "outdir = \"/sdf/home/a/abrought/run5/BF/data/\"\n",
    "files = glob.glob(outdir + \"data*corrected.pkl\")\n",
    "expstoremove=1\n",
    "\n",
    "es_corrected = []\n",
    "for file in files:\n",
    "    data = Table(pkl.load( open(file, \"rb\") ))\n",
    "    data = removeBadExps(expstoremove, data)\n",
    "    g1 = np.asarray(data['base_SdssShape_xx'][0])-np.asarray(data['base_SdssShape_yy'][0])\n",
    "    g2 = 2*np.asarray(data['base_SdssShape_xy'][0])\n",
    "    e = np.sqrt(g1.flatten()**2 + g2.flatten()**2)\n",
    "    es_corrected.extend(e)"
   ]
  },
  {
   "cell_type": "markdown",
   "metadata": {
    "tags": []
   },
   "source": [
    "## Main Plot"
   ]
  },
  {
   "cell_type": "code",
   "execution_count": null,
   "metadata": {},
   "outputs": [],
   "source": [
    "h = plt.hist(es_uncorrected, bins=50, density=True, alpha= 0.5, label=\"Uncorrected\")\n",
    "h = plt.hist(es_corrected, bins=50, density=True, alpha=0.5, label=\"Corrected\")\n",
    "plt.xlabel(r'$\\sqrt{(I_{xx} - I_{yy})^{2} + (2I_{xy})^{2}}$   [px$^{2}$]')\n",
    "plt.ylabel(\"Probability Density\")\n",
    "plt.legend(frameon=False, loc=2)\n",
    "plt.savefig(\"../plots/spotshapes.png\", bbox_inches='tight')"
   ]
  },
  {
   "cell_type": "code",
   "execution_count": 20,
   "metadata": {},
   "outputs": [],
   "source": [
    "outdir = \"/sdf/home/a/abrought/run5/BF/data/\"\n",
    "files = glob.glob(outdir + \"data*uncorrected_linearized.pkl\")\n",
    "expstoremove=1\n",
    "\n",
    "es_uncorrected = []\n",
    "for file in files:\n",
    "    data = Table(pkl.load( open(file, \"rb\") ))\n",
    "    data = removeBadExps(expstoremove, data)\n",
    "    g1 = np.asarray(data['base_SdssShape_xx'][0])-np.asarray(data['base_SdssShape_yy'][0])\n",
    "    g2 = 2*np.asarray(data['base_SdssShape_xy'][0])\n",
    "    e = np.sqrt(g1.flatten()**2 + g2.flatten()**2)\n",
    "    es_uncorrected.extend(e)\n",
    "    \n",
    "outdir = \"/sdf/home/a/abrought/run5/BF/data/\"\n",
    "files = glob.glob(outdir + \"data*corrected_linearized.pkl\")\n",
    "expstoremove=1\n",
    "\n",
    "es_corrected = []\n",
    "for file in files:\n",
    "    data = Table(pkl.load( open(file, \"rb\") ))\n",
    "    data = removeBadExps(expstoremove, data)\n",
    "    g1 = np.asarray(data['base_SdssShape_xx'][0])-np.asarray(data['base_SdssShape_yy'][0])\n",
    "    g2 = 2*np.asarray(data['base_SdssShape_xy'][0])\n",
    "    e = np.sqrt(g1.flatten()**2 + g2.flatten()**2)\n",
    "    es_corrected.extend(e)"
   ]
  },
  {
   "cell_type": "code",
   "execution_count": 21,
   "metadata": {},
   "outputs": [
    {
     "data": {
      "image/png": "[encoded data removed]",
      "text/plain": [
       "<Figure size 432x288 with 1 Axes>"
      ]
     },
     "metadata": {
      "needs_background": "light"
     },
     "output_type": "display_data"
    }
   ],
   "source": [
    "h = plt.hist(es_uncorrected, bins=50, density=True, alpha= 0.5, label=\"Uncorrected\")\n",
    "h = plt.hist(es_corrected, bins=50, density=True, alpha=0.5, label=\"Corrected\")\n",
    "plt.xlabel(r'$\\sqrt{(I_{xx} - I_{yy})^{2} + (2I_{xy})^{2}}$   [px$^{2}$]')\n",
    "plt.ylabel(\"Probability Density\")\n",
    "plt.legend(frameon=False, loc=2)\n",
    "plt.savefig(\"../plots/spotshapes.png\", bbox_inches='tight')"
   ]
  }
 ],
 "metadata": {
  "kernelspec": {
   "display_name": "Python [conda env:lsst-scipipe-3.0.0-ext] *",
   "language": "python",
   "name": "conda-env-lsst-scipipe-3.0.0-ext-py"
  },
  "language_info": {
   "codemirror_mode": {
    "name": "ipython",
    "version": 3
   },
   "file_extension": ".py",
   "mimetype": "text/x-python",
   "name": "python",
   "nbconvert_exporter": "python",
   "pygments_lexer": "ipython3",
   "version": "3.8.13"
  }
 },
 "nbformat": 4,
 "nbformat_minor": 4
}
