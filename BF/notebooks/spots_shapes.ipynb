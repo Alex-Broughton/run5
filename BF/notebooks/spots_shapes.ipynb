{
 "cells": [
  {
   "cell_type": "markdown",
   "metadata": {},
   "source": [
    "## Spot Analysis of BF Correction\n",
    "\n",
    "Originally written by Alex Broughton\n",
    "\n"
   ]
  },
  {
   "cell_type": "code",
   "execution_count": 1,
   "metadata": {},
   "outputs": [
    {
     "name": "stdout",
     "output_type": "stream",
     "text": [
      "eups                  LOCAL:/cvmfs/sw.lsst.eu/linux-x86_64/lsst_distrib/w_2022_14/conda/envs/lsst-scipipe-3.0.0-ext/eups \tsetup\n",
      "lsst_distrib          g4eaec17cb9+23bdaa02ee \tw_latest w_2022_14 current setup\n"
     ]
    }
   ],
   "source": [
    "! eups list -s | grep lsst_distrib"
   ]
  },
  {
   "cell_type": "code",
   "execution_count": 2,
   "metadata": {
    "tags": []
   },
   "outputs": [
    {
     "name": "stderr",
     "output_type": "stream",
     "text": [
      "\n",
      "WARNING: version mismatch between CFITSIO header (v4.000999999999999) and linked library (v4.01).\n",
      "\n",
      "\n",
      "WARNING: version mismatch between CFITSIO header (v4.000999999999999) and linked library (v4.01).\n",
      "\n",
      "\n",
      "WARNING: version mismatch between CFITSIO header (v4.000999999999999) and linked library (v4.01).\n",
      "\n"
     ]
    }
   ],
   "source": [
    "import os\n",
    "import numpy as np\n",
    "import glob\n",
    "from astropy.io import fits\n",
    "import pickle as pkl\n",
    "import matplotlib.pyplot as plt\n",
    "from lsst.daf.butler import Butler\n",
    "import lsst.afw.display as afwDisplay\n",
    "import lsst.afw.image as afwImage\n",
    "from lsst.obs.lsst import LsstCam\n",
    "from lsst.afw.cameraGeom.utils import findAmp\n",
    "from lsst.geom import Point2I\n",
    "from astropy.table import Table, vstack, join\n",
    "from scipy import stats\n",
    "from scipy.optimize import curve_fit\n",
    "import logging\n",
    "\n",
    "\n",
    "logging.basicConfig()\n",
    "logger = logging.getLogger()\n",
    "logger.setLevel(logging.CRITICAL)"
   ]
  },
  {
   "cell_type": "code",
   "execution_count": 3,
   "metadata": {},
   "outputs": [],
   "source": [
    "import sys\n",
    "sys.path.append('/sdf/home/a/abrought/bin')\n",
    "from SpotAnalysis import Analyzer, readData, getSensorData, removeBadExps"
   ]
  },
  {
   "cell_type": "markdown",
   "metadata": {},
   "source": [
    "#### Read Data"
   ]
  },
  {
   "cell_type": "code",
   "execution_count": 4,
   "metadata": {},
   "outputs": [],
   "source": [
    "outdir = \"/sdf/home/a/abrought/run5/BF/data/\"\n",
    "files = glob.glob(outdir + \"data*uncorrected.pkl\")\n",
    "expstoremove=1\n",
    "\n",
    "es_uncorrected = []\n",
    "for file in files:\n",
    "    data = Table(pkl.load( open(file, \"rb\") ))\n",
    "    data = removeBadExps(expstoremove, data)\n",
    "    g1 = np.asarray(data['base_SdssShape_xx'][0])-np.asarray(data['base_SdssShape_yy'][0])\n",
    "    g2 = 2*np.asarray(data['base_SdssShape_xy'][0])\n",
    "    e = np.sqrt(g1.flatten()**2 + g2.flatten()**2)\n",
    "    es_uncorrected.extend(e)\n",
    "    \n",
    "outdir = \"/sdf/home/a/abrought/run5/BF/data/\"\n",
    "files = glob.glob(outdir + \"data*corrected.pkl\")\n",
    "expstoremove=1\n",
    "\n",
    "es_corrected = []\n",
    "for file in files:\n",
    "    data = Table(pkl.load( open(file, \"rb\") ))\n",
    "    data = removeBadExps(expstoremove, data)\n",
    "    g1 = np.asarray(data['base_SdssShape_xx'][0])-np.asarray(data['base_SdssShape_yy'][0])\n",
    "    g2 = 2*np.asarray(data['base_SdssShape_xy'][0])\n",
    "    e = np.sqrt(g1.flatten()**2 + g2.flatten()**2)\n",
    "    es_corrected.extend(e)"
   ]
  },
  {
   "cell_type": "markdown",
   "metadata": {
    "tags": []
   },
   "source": [
    "## Main Plot"
   ]
  },
  {
   "cell_type": "code",
   "execution_count": 19,
   "metadata": {},
   "outputs": [
    {
     "data": {
      "image/png": "[encoded data removed]",
      "text/plain": [
       "<Figure size 432x288 with 1 Axes>"
      ]
     },
     "metadata": {
      "needs_background": "light"
     },
     "output_type": "display_data"
    }
   ],
   "source": [
    "h = plt.hist(es_uncorrected, bins=50, density=True, alpha= 0.5, label=\"Uncorrected\")\n",
    "h = plt.hist(es_corrected, bins=50, density=True, alpha=0.5, label=\"Corrected\")\n",
    "plt.xlabel(r'$\\sqrt{(I_{xx} - I_{yy})^{2} + (2I_{xy})^{2}}$   [px$^{2}$]')\n",
    "plt.ylabel(\"Probability Density\")\n",
    "plt.legend(frameon=False, loc=2)\n",
    "plt.savefig(\"../plots/spotshapes.png\", bbox_inches='tight')"
   ]
  },
  {
   "cell_type": "code",
   "execution_count": 20,
   "metadata": {},
   "outputs": [],
   "source": [
    "outdir = \"/sdf/home/a/abrought/run5/BF/data/\"\n",
    "files = glob.glob(outdir + \"data*uncorrected_linearized.pkl\")\n",
    "expstoremove=1\n",
    "\n",
    "es_uncorrected = []\n",
    "for file in files:\n",
    "    data = Table(pkl.load( open(file, \"rb\") ))\n",
    "    data = removeBadExps(expstoremove, data)\n",
    "    g1 = np.asarray(data['base_SdssShape_xx'][0])-np.asarray(data['base_SdssShape_yy'][0])\n",
    "    g2 = 2*np.asarray(data['base_SdssShape_xy'][0])\n",
    "    e = np.sqrt(g1.flatten()**2 + g2.flatten()**2)\n",
    "    es_uncorrected.extend(e)\n",
    "    \n",
    "outdir = \"/sdf/home/a/abrought/run5/BF/data/\"\n",
    "files = glob.glob(outdir + \"data*corrected_linearized.pkl\")\n",
    "expstoremove=1\n",
    "\n",
    "es_corrected = []\n",
    "for file in files:\n",
    "    data = Table(pkl.load( open(file, \"rb\") ))\n",
    "    data = removeBadExps(expstoremove, data)\n",
    "    g1 = np.asarray(data['base_SdssShape_xx'][0])-np.asarray(data['base_SdssShape_yy'][0])\n",
    "    g2 = 2*np.asarray(data['base_SdssShape_xy'][0])\n",
    "    e = np.sqrt(g1.flatten()**2 + g2.flatten()**2)\n",
    "    es_corrected.extend(e)"
   ]
  },
  {
   "cell_type": "code",
   "execution_count": 21,
   "metadata": {},
   "outputs": [
    {
     "data": {
      "image/png": "[encoded data removed]",
      "text/plain": [
       "<Figure size 432x288 with 1 Axes>"
      ]
     },
     "metadata": {
      "needs_background": "light"
     },
     "output_type": "display_data"
    }
   ],
   "source": [
    "h = plt.hist(es_uncorrected, bins=50, density=True, alpha= 0.5, label=\"Uncorrected\")\n",
    "h = plt.hist(es_corrected, bins=50, density=True, alpha=0.5, label=\"Corrected\")\n",
    "plt.xlabel(r'$\\sqrt{(I_{xx} - I_{yy})^{2} + (2I_{xy})^{2}}$   [px$^{2}$]')\n",
    "plt.ylabel(\"Probability Density\")\n",
    "plt.legend(frameon=False, loc=2)\n",
    "plt.savefig(\"../plots/spotshapes.png\", bbox_inches='tight')"
   ]
  }
 ],
 "metadata": {
  "kernelspec": {
   "display_name": "Python [conda env:lsst-scipipe-3.0.0-ext] *",
   "language": "python",
   "name": "conda-env-lsst-scipipe-3.0.0-ext-py"
  },
  "language_info": {
   "codemirror_mode": {
    "name": "ipython",
    "version": 3
   },
   "file_extension": ".py",
   "mimetype": "text/x-python",
   "name": "python",
   "nbconvert_exporter": "python",
   "pygments_lexer": "ipython3",
   "version": "3.8.13"
  }
 },
 "nbformat": 4,
 "nbformat_minor": 4
}
